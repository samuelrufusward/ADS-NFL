{
 "cells": [
  {
   "cell_type": "code",
   "execution_count": 44,
   "metadata": {},
   "outputs": [],
   "source": [
    "import pandas as pd\n",
    "import numpy as np\n",
    "import matplotlib as plt"
   ]
  },
  {
   "cell_type": "code",
   "execution_count": 45,
   "metadata": {},
   "outputs": [
    {
     "name": "stdout",
     "output_type": "stream",
     "text": [
      "   nflId height  weight   birthDate       collegeName Position  \\\n",
      "0  42901    6-1     208  1992-07-25     James Madison       SS   \n",
      "1  43501    6-0     220  1994-08-11  Central Michigan       FS   \n",
      "2  43534    6-0     205  1993-06-02          Illinois       SS   \n",
      "3  43535    6-1     235  1992-12-22            Temple      MLB   \n",
      "4  44174    6-1     236  1993-02-22        Texas Tech      ILB   \n",
      "\n",
      "         displayName  \n",
      "0       Dean Marlowe  \n",
      "1      Kavon Frazier  \n",
      "2  Clayton Fejedelem  \n",
      "3   Tyler Matakevich  \n",
      "4       Sam Eguavoen  \n"
     ]
    }
   ],
   "source": [
    "playersdf = pd.read_csv(\"./data/playersupdated.csv\")\n",
    "print(playersdf.head())"
   ]
  },
  {
   "cell_type": "code",
   "execution_count": 46,
   "metadata": {},
   "outputs": [
    {
     "name": "stdout",
     "output_type": "stream",
     "text": [
      "      nflId height  weight   birthDate          collegeName Position  \\\n",
      "2727  33216    6-3     320  06/16/1986      Central Florida        G   \n",
      "2728  33184    6-3     265  05/02/1985  Winston-Salem State       DE   \n",
      "2729  45651    5-9     198  06/16/1993                 Iowa       WR   \n",
      "2730  41284     73     230  1992-10-20                  LSU       RB   \n",
      "2731  42849   5-10     205  12/14/1992           Texas Tech       WR   \n",
      "\n",
      "          displayName UpdatedBirthDate  \n",
      "2727      Josh Sitton       1986-06-16  \n",
      "2728    William Hayes       1985-05-02  \n",
      "2729   Riley McCarron       1993-06-16  \n",
      "2730      Jeremy Hill       1992-10-20  \n",
      "2731  Bradley Marquez       1992-12-14  \n"
     ]
    }
   ],
   "source": [
    "playersdf['UpdatedBirthDate'] = pd.to_datetime(playersdf.birthDate)\n",
    "print(playersdf.tail(5))"
   ]
  },
  {
   "cell_type": "code",
   "execution_count": 47,
   "metadata": {},
   "outputs": [],
   "source": [
    "df = pd.read_csv(\"./data/PFFScoutingData.csv\")"
   ]
  },
  {
   "cell_type": "markdown",
   "metadata": {},
   "source": [
    "# Data Exploration"
   ]
  },
  {
   "cell_type": "code",
   "execution_count": 48,
   "metadata": {},
   "outputs": [
    {
     "name": "stdout",
     "output_type": "stream",
     "text": [
      "       gameId  playId snapDetail  snapTime  operationTime  hangTime kickType  \\\n",
      "0  2018090600      37        NaN       NaN            NaN      3.85        D   \n",
      "1  2018090600     366         OK      0.84           2.12      4.46        N   \n",
      "2  2018090600     658        NaN       NaN            NaN       NaN      NaN   \n",
      "3  2018090600     677        NaN       NaN            NaN      4.06        D   \n",
      "4  2018090600     872         OK      0.84           2.00      4.35        N   \n",
      "\n",
      "  kickDirectionIntended kickDirectionActual returnDirectionIntended  \\\n",
      "0                     R                   R                     NaN   \n",
      "1                     C                   C                       C   \n",
      "2                   NaN                 NaN                     NaN   \n",
      "3                     R                   R                       C   \n",
      "4                     C                   L                     NaN   \n",
      "\n",
      "  returnDirectionActual missedTackler assistTackler tackler  \\\n",
      "0                   NaN           NaN           NaN     NaN   \n",
      "1                     R        PHI 57           NaN  PHI 54   \n",
      "2                   NaN           NaN           NaN     NaN   \n",
      "3                     C        ATL 83        ATL 22  ATL 27   \n",
      "4                   NaN           NaN           NaN     NaN   \n",
      "\n",
      "  kickoffReturnFormation         gunners puntRushers specialTeamsSafeties  \\\n",
      "0                  8-0-2             NaN         NaN       PHI 23; PHI 27   \n",
      "1                    NaN  PHI 18; PHI 29         NaN                  NaN   \n",
      "2                    NaN             NaN         NaN               PHI 58   \n",
      "3                  8-0-2             NaN         NaN       ATL 17; ATL 22   \n",
      "4                    NaN  PHI 18; PHI 29      ATL 85               ATL 37   \n",
      "\n",
      "                            vises kickContactType  \n",
      "0                             NaN             NaN  \n",
      "1  ATL 83; ATL 27; ATL 34; ATL 21              CC  \n",
      "2                             NaN             NaN  \n",
      "3                             NaN             NaN  \n",
      "4          ATL 83; ATL 34; ATL 21              BF  \n"
     ]
    }
   ],
   "source": [
    "print(df.head())"
   ]
  },
  {
   "cell_type": "code",
   "execution_count": 49,
   "metadata": {},
   "outputs": [
    {
     "data": {
      "text/plain": [
       "gameId                       int64\n",
       "playId                       int64\n",
       "snapDetail                  object\n",
       "snapTime                   float64\n",
       "operationTime              float64\n",
       "hangTime                   float64\n",
       "kickType                    object\n",
       "kickDirectionIntended       object\n",
       "kickDirectionActual         object\n",
       "returnDirectionIntended     object\n",
       "returnDirectionActual       object\n",
       "missedTackler               object\n",
       "assistTackler               object\n",
       "tackler                     object\n",
       "kickoffReturnFormation      object\n",
       "gunners                     object\n",
       "puntRushers                 object\n",
       "specialTeamsSafeties        object\n",
       "vises                       object\n",
       "kickContactType             object\n",
       "dtype: object"
      ]
     },
     "execution_count": 49,
     "metadata": {},
     "output_type": "execute_result"
    }
   ],
   "source": [
    "df.dtypes"
   ]
  },
  {
   "cell_type": "code",
   "execution_count": 50,
   "metadata": {},
   "outputs": [
    {
     "name": "stdout",
     "output_type": "stream",
     "text": [
      "[[2018090600 37 nan ... 'PHI 23; PHI 27' nan nan]\n",
      " [2018090600 366 'OK' ... nan 'ATL 83; ATL 27; ATL 34; ATL 21' 'CC']\n",
      " [2018090600 658 nan ... 'PHI 58' nan nan]\n",
      " ...\n",
      " [2021010315 3886 nan ... 'SEA 28; SEA 99' nan nan]\n",
      " [2021010315 4166 nan ... 'SEA 37; SEA 54' nan nan]\n",
      " [2021010315 4182 nan ... 'SF 43' nan nan]]\n"
     ]
    }
   ],
   "source": [
    "print(df.values)"
   ]
  },
  {
   "cell_type": "code",
   "execution_count": 51,
   "metadata": {},
   "outputs": [
    {
     "data": {
      "text/plain": [
       "OK    5451\n",
       "L      185\n",
       "H      136\n",
       "<       77\n",
       ">       70\n",
       "Name: snapDetail, dtype: int64"
      ]
     },
     "execution_count": 51,
     "metadata": {},
     "output_type": "execute_result"
    }
   ],
   "source": [
    "df.snapDetail.value_counts()"
   ]
  },
  {
   "cell_type": "code",
   "execution_count": 52,
   "metadata": {},
   "outputs": [
    {
     "data": {
      "text/plain": [
       "<Axes: >"
      ]
     },
     "execution_count": 52,
     "metadata": {},
     "output_type": "execute_result"
    },
    {
     "data": {
      "image/png": "[encoded data removed]",
      "text/plain": [
       "<Figure size 640x480 with 1 Axes>"
      ]
     },
     "metadata": {},
     "output_type": "display_data"
    }
   ],
   "source": [
    "df.hangTime.hist()"
   ]
  },
  {
   "cell_type": "code",
   "execution_count": null,
   "metadata": {},
   "outputs": [],
   "source": []
  },
  {
   "cell_type": "code",
   "execution_count": null,
   "metadata": {},
   "outputs": [],
   "source": []
  },
  {
   "cell_type": "code",
   "execution_count": null,
   "metadata": {},
   "outputs": [],
   "source": []
  },
  {
   "cell_type": "code",
   "execution_count": null,
   "metadata": {},
   "outputs": [],
   "source": []
  }
 ],
 "metadata": {
  "kernelspec": {
   "display_name": "Python 3 (ipykernel)",
   "language": "python",
   "name": "python3"
  },
  "language_info": {
   "codemirror_mode": {
    "name": "ipython",
    "version": 3
   },
   "file_extension": ".py",
   "mimetype": "text/x-python",
   "name": "python",
   "nbconvert_exporter": "python",
   "pygments_lexer": "ipython3",
   "version": "3.10.6"
  }
 },
 "nbformat": 4,
 "nbformat_minor": 1
}
