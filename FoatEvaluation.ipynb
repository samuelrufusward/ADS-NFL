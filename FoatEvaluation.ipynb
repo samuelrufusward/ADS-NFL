{
 "cells": [
  {
   "cell_type": "code",
   "execution_count": 1,
   "id": "1818e6bc",
   "metadata": {},
   "outputs": [],
   "source": [
    "import pandas as pd\n",
    "import csv\n",
    "import matplotlib.pyplot as plt\n",
    "import matplotlib.animation as animation\n",
    "from ipywidgets import Image\n",
    "from IPython import display\n",
    "import numpy as np\n",
    "from scipy.spatial import Delaunay\n",
    "import warnings\n",
    "warnings.filterwarnings('ignore')\n",
    "import seaborn as sns\n",
    "%matplotlib widget\n",
    "%matplotlib inline\n",
    "import nfl_regression"
   ]
  },
  {
   "cell_type": "code",
   "execution_count": 2,
   "id": "4ba67124",
   "metadata": {},
   "outputs": [],
   "source": [
    "train_receiver_stats, train_player_stats, train_weeks = nfl_regression.preprocess_year_data('2021')\n",
    "X_train, Y_train = nfl_regression.get_yards_by_stats(train_receiver_stats, train_player_stats, train_weeks, '2021')\n",
    "\n",
    "test_receiver_stats, test_player_stats, test_weeks = nfl_regression.preprocess_year_data('2023')\n",
    "X_test, Y_test = nfl_regression.get_yards_by_stats(test_receiver_stats, test_player_stats, test_weeks, '2023')"
   ]
  },
  {
   "cell_type": "code",
   "execution_count": 3,
   "id": "cd96b964",
   "metadata": {},
   "outputs": [
    {
     "name": "stdout",
     "output_type": "stream",
     "text": [
      "(6119, 117)\n"
     ]
    },
    {
     "data": {
      "text/html": [
       "<div>\n",
       "<style scoped>\n",
       "    .dataframe tbody tr th:only-of-type {\n",
       "        vertical-align: middle;\n",
       "    }\n",
       "\n",
       "    .dataframe tbody tr th {\n",
       "        vertical-align: top;\n",
       "    }\n",
       "\n",
       "    .dataframe thead th {\n",
       "        text-align: right;\n",
       "    }\n",
       "</style>\n",
       "<table border=\"1\" class=\"dataframe\">\n",
       "  <thead>\n",
       "    <tr style=\"text-align: right;\">\n",
       "      <th></th>\n",
       "      <th>gameId</th>\n",
       "      <th>playId</th>\n",
       "      <th>playDescription</th>\n",
       "      <th>quarter</th>\n",
       "      <th>down</th>\n",
       "      <th>yardsToGo</th>\n",
       "      <th>possessionTeam</th>\n",
       "      <th>defensiveTeam</th>\n",
       "      <th>yardlineSide</th>\n",
       "      <th>yardlineNumber</th>\n",
       "      <th>...</th>\n",
       "      <th>Zone Coverage</th>\n",
       "      <th>birthDate</th>\n",
       "      <th>collegeName</th>\n",
       "      <th>displayName</th>\n",
       "      <th>height</th>\n",
       "      <th>nflId</th>\n",
       "      <th>officialPosition</th>\n",
       "      <th>updatedName</th>\n",
       "      <th>updatedName2</th>\n",
       "      <th>weight</th>\n",
       "    </tr>\n",
       "  </thead>\n",
       "  <tbody>\n",
       "    <tr>\n",
       "      <th>0</th>\n",
       "      <td>2021090900</td>\n",
       "      <td>97</td>\n",
       "      <td>(13:33) (Shotgun) T.Brady pass incomplete deep...</td>\n",
       "      <td>1</td>\n",
       "      <td>3</td>\n",
       "      <td>2</td>\n",
       "      <td>TB</td>\n",
       "      <td>DAL</td>\n",
       "      <td>TB</td>\n",
       "      <td>33</td>\n",
       "      <td>...</td>\n",
       "      <td>25.0</td>\n",
       "      <td>1996-02-27</td>\n",
       "      <td>Penn State</td>\n",
       "      <td>Chris Godwin</td>\n",
       "      <td>6-1</td>\n",
       "      <td>44896.0</td>\n",
       "      <td>WR</td>\n",
       "      <td>Chris Godwin</td>\n",
       "      <td>Chris Godwin</td>\n",
       "      <td>209.0</td>\n",
       "    </tr>\n",
       "  </tbody>\n",
       "</table>\n",
       "<p>1 rows × 117 columns</p>\n",
       "</div>"
      ],
      "text/plain": [
       "       gameId  playId                                    playDescription  \\\n",
       "0  2021090900      97  (13:33) (Shotgun) T.Brady pass incomplete deep...   \n",
       "\n",
       "   quarter  down  yardsToGo possessionTeam defensiveTeam yardlineSide  \\\n",
       "0        1     3          2             TB           DAL           TB   \n",
       "\n",
       "   yardlineNumber  ... Zone Coverage   birthDate  collegeName   displayName  \\\n",
       "0              33  ...          25.0  1996-02-27   Penn State  Chris Godwin   \n",
       "\n",
       "   height    nflId  officialPosition   updatedName  updatedName2 weight  \n",
       "0     6-1  44896.0                WR  Chris Godwin  Chris Godwin  209.0  \n",
       "\n",
       "[1 rows x 117 columns]"
      ]
     },
     "execution_count": 3,
     "metadata": {},
     "output_type": "execute_result"
    }
   ],
   "source": [
    "play_data = test_receiver_stats\n",
    "print(play_data.shape)\n",
    "play_data.head(1)"
   ]
  },
  {
   "cell_type": "code",
   "execution_count": 4,
   "id": "8f875b32",
   "metadata": {},
   "outputs": [
    {
     "data": {
      "text/html": [
       "<div>\n",
       "<style scoped>\n",
       "    .dataframe tbody tr th:only-of-type {\n",
       "        vertical-align: middle;\n",
       "    }\n",
       "\n",
       "    .dataframe tbody tr th {\n",
       "        vertical-align: top;\n",
       "    }\n",
       "\n",
       "    .dataframe thead th {\n",
       "        text-align: right;\n",
       "    }\n",
       "</style>\n",
       "<table border=\"1\" class=\"dataframe\">\n",
       "  <thead>\n",
       "    <tr style=\"text-align: right;\">\n",
       "      <th></th>\n",
       "      <th>playId</th>\n",
       "      <th>nflId</th>\n",
       "      <th>2nd</th>\n",
       "      <th>3rd</th>\n",
       "      <th>4th</th>\n",
       "      <th>5th</th>\n",
       "    </tr>\n",
       "  </thead>\n",
       "  <tbody>\n",
       "    <tr>\n",
       "      <th>0</th>\n",
       "      <td>97</td>\n",
       "      <td>41233</td>\n",
       "      <td>44896</td>\n",
       "      <td>39985</td>\n",
       "      <td>35634</td>\n",
       "      <td>35481</td>\n",
       "    </tr>\n",
       "  </tbody>\n",
       "</table>\n",
       "</div>"
      ],
      "text/plain": [
       "   playId  nflId    2nd    3rd    4th    5th\n",
       "0      97  41233  44896  39985  35634  35481"
      ]
     },
     "execution_count": 4,
     "metadata": {},
     "output_type": "execute_result"
    }
   ],
   "source": [
    "foat_df = pd.read_csv('wk1bestPlayerNoError.csv')\n",
    "foat_df.head(1)"
   ]
  },
  {
   "cell_type": "code",
   "execution_count": 5,
   "id": "0c8773b4",
   "metadata": {},
   "outputs": [],
   "source": [
    "foat_results, foat_plays = foat_df['nflId'].values.tolist(), foat_df['playId'].values.tolist()\n",
    "foat_results2, foat_results3 = foat_df['2nd'].values.tolist(), foat_df['3rd'].values.tolist()\n",
    "foat_results4, foat_results5 = foat_df['4th'].values.tolist(), foat_df['5th'].values.tolist()\n",
    "true_results, true_plays = play_data['nflId'].values.tolist(), play_data['playId'].values.tolist()"
   ]
  },
  {
   "cell_type": "code",
   "execution_count": 6,
   "id": "6543698f",
   "metadata": {},
   "outputs": [
    {
     "name": "stdout",
     "output_type": "stream",
     "text": [
      "773\n",
      "829\n"
     ]
    }
   ],
   "source": [
    "comp_list = []\n",
    "count = 0\n",
    "summed = 0\n",
    "for play in foat_plays:\n",
    "    try:\n",
    "        index = true_plays.index(play)\n",
    "        # print('found index - ' + str(index))\n",
    "        count += 1\n",
    "    except ValueError: \n",
    "        comp_list.append('NA')\n",
    "        index = 10000\n",
    "\n",
    "    if index != 10000:\n",
    "        foat_index = foat_plays.index(play)\n",
    "        if foat_results[foat_index] == true_results[index]:\n",
    "            comp_list.append('True')\n",
    "        else:\n",
    "            comp_list.append('False')\n",
    "    \n",
    "print(count)\n",
    "print(len(comp_list))"
   ]
  },
  {
   "cell_type": "code",
   "execution_count": 7,
   "id": "7300db75",
   "metadata": {},
   "outputs": [
    {
     "name": "stdout",
     "output_type": "stream",
     "text": [
      "Number of matching players = 184\n",
      "Number of non-matching players = 589\n",
      "Number of missing players = 56\n"
     ]
    }
   ],
   "source": [
    "num_true = comp_list.count('True')\n",
    "num_false = comp_list.count('False')\n",
    "num_missing = comp_list.count('NA')\n",
    "print('Number of matching players = ' + str(num_true))\n",
    "print('Number of non-matching players = ' + str(num_false))\n",
    "print('Number of missing players = ' + str(num_missing))"
   ]
  },
  {
   "cell_type": "code",
   "execution_count": 8,
   "id": "641ffd3a",
   "metadata": {},
   "outputs": [
    {
     "name": "stdout",
     "output_type": "stream",
     "text": [
      "773\n",
      "829\n"
     ]
    }
   ],
   "source": [
    "comp_list = []\n",
    "count = 0\n",
    "summed = 0\n",
    "for play in foat_plays:\n",
    "    try:\n",
    "        index = true_plays.index(play)\n",
    "        # print('found index - ' + str(index))\n",
    "        count += 1\n",
    "    except ValueError: \n",
    "        comp_list.append('NA')\n",
    "        index = 10000\n",
    "\n",
    "    if index != 10000:\n",
    "        foat_index = foat_plays.index(play)\n",
    "        if foat_results2[foat_index] == true_results[index]:\n",
    "            comp_list.append('True')\n",
    "        else:\n",
    "            comp_list.append('False')\n",
    "    \n",
    "print(count)\n",
    "print(len(comp_list))"
   ]
  },
  {
   "cell_type": "code",
   "execution_count": 9,
   "id": "5ca918ca",
   "metadata": {},
   "outputs": [
    {
     "name": "stdout",
     "output_type": "stream",
     "text": [
      "Number of matching players = 155\n",
      "Number of non-matching players = 618\n",
      "Number of missing players = 56\n"
     ]
    }
   ],
   "source": [
    "num_true2 = comp_list.count('True')\n",
    "num_false2 = comp_list.count('False')\n",
    "num_missing2 = comp_list.count('NA')\n",
    "print('Number of matching players = ' + str(num_true2))\n",
    "print('Number of non-matching players = ' + str(num_false2))\n",
    "print('Number of missing players = ' + str(num_missing2))"
   ]
  },
  {
   "cell_type": "code",
   "execution_count": 10,
   "id": "88ba0a82",
   "metadata": {},
   "outputs": [
    {
     "name": "stdout",
     "output_type": "stream",
     "text": [
      "Number of matching players = 138\n",
      "Number of non-matching players = 635\n",
      "Number of missing players = 56\n"
     ]
    }
   ],
   "source": [
    "comp_list = []\n",
    "count = 0\n",
    "summed = 0\n",
    "for play in foat_plays:\n",
    "    try:\n",
    "        index = true_plays.index(play)\n",
    "        # print('found index - ' + str(index))\n",
    "        count += 1\n",
    "    except ValueError: \n",
    "        comp_list.append('NA')\n",
    "        index = 10000\n",
    "\n",
    "    if index != 10000:\n",
    "        foat_index = foat_plays.index(play)\n",
    "        if foat_results3[foat_index] == true_results[index]:\n",
    "            comp_list.append('True')\n",
    "        else:\n",
    "            comp_list.append('False')\n",
    "            \n",
    "num_true3 = comp_list.count('True')\n",
    "num_false3 = comp_list.count('False')\n",
    "num_missing3 = comp_list.count('NA')\n",
    "print('Number of matching players = ' + str(num_true3))\n",
    "print('Number of non-matching players = ' + str(num_false3))\n",
    "print('Number of missing players = ' + str(num_missing3))"
   ]
  },
  {
   "cell_type": "code",
   "execution_count": 11,
   "id": "4ef57d2e",
   "metadata": {},
   "outputs": [
    {
     "name": "stdout",
     "output_type": "stream",
     "text": [
      "Number of matching players = 124\n",
      "Number of non-matching players = 649\n",
      "Number of missing players = 56\n"
     ]
    }
   ],
   "source": [
    "comp_list = []\n",
    "count = 0\n",
    "summed = 0\n",
    "for play in foat_plays:\n",
    "    try:\n",
    "        index = true_plays.index(play)\n",
    "        # print('found index - ' + str(index))\n",
    "        count += 1\n",
    "    except ValueError: \n",
    "        comp_list.append('NA')\n",
    "        index = 10000\n",
    "\n",
    "    if index != 10000:\n",
    "        foat_index = foat_plays.index(play)\n",
    "        if foat_results4[foat_index] == true_results[index]:\n",
    "            comp_list.append('True')\n",
    "        else:\n",
    "            comp_list.append('False')\n",
    "            \n",
    "num_true4 = comp_list.count('True')\n",
    "num_false4 = comp_list.count('False')\n",
    "num_missing4 = comp_list.count('NA')\n",
    "print('Number of matching players = ' + str(num_true4))\n",
    "print('Number of non-matching players = ' + str(num_false4))\n",
    "print('Number of missing players = ' + str(num_missing4))"
   ]
  },
  {
   "cell_type": "code",
   "execution_count": 12,
   "id": "42e05727",
   "metadata": {},
   "outputs": [
    {
     "name": "stdout",
     "output_type": "stream",
     "text": [
      "Number of matching players = 69\n",
      "Number of non-matching players = 704\n",
      "Number of missing players = 56\n"
     ]
    }
   ],
   "source": [
    "comp_list = []\n",
    "count = 0\n",
    "summed = 0\n",
    "for play in foat_plays:\n",
    "    try:\n",
    "        index = true_plays.index(play)\n",
    "        # print('found index - ' + str(index))\n",
    "        count += 1\n",
    "    except ValueError: \n",
    "        comp_list.append('NA')\n",
    "        index = 10000\n",
    "\n",
    "    if index != 10000:\n",
    "        foat_index = foat_plays.index(play)\n",
    "        if foat_results5[foat_index] == true_results[index]:\n",
    "            comp_list.append('True')\n",
    "        else:\n",
    "            comp_list.append('False')\n",
    "            \n",
    "num_true5 = comp_list.count('True')\n",
    "num_false5 = comp_list.count('False')\n",
    "num_missing5 = comp_list.count('NA')\n",
    "print('Number of matching players = ' + str(num_true5))\n",
    "print('Number of non-matching players = ' + str(num_false5))\n",
    "print('Number of missing players = ' + str(num_missing5))"
   ]
  },
  {
   "cell_type": "code",
   "execution_count": 13,
   "id": "c292d3a1",
   "metadata": {},
   "outputs": [],
   "source": [
    "Positions = {'Position':[1, 2, 3, 4, 5], 'Occurences':[num_true, num_true2, num_true3, num_true4, num_true5]}\n",
    "Positions = pd.DataFrame(Positions)"
   ]
  },
  {
   "cell_type": "code",
   "execution_count": 14,
   "id": "18ea17b2",
   "metadata": {},
   "outputs": [
    {
     "data": {
      "image/png": "[encoded data removed]",
      "text/plain": [
       "<Figure size 640x480 with 1 Axes>"
      ]
     },
     "metadata": {},
     "output_type": "display_data"
    }
   ],
   "source": [
    "raw_data = {\n",
    "    \n",
    "    'x': ['1', '2', '3', '4', '5'],\n",
    "    'y': [num_true, num_true2, num_true3, num_true4, num_true5]\n",
    "    \n",
    "}\n",
    "sns.set_style(\"darkgrid\")\n",
    "sns.barplot(x='x', y='y', data=raw_data)\n",
    "plt.ylabel('Number of predictions')\n",
    "plt.xlabel('Position of true value')\n",
    "plt.savefig(\"FoatmodelPredictions.pdf\") \n",
    "plt.show()"
   ]
  },
  {
   "cell_type": "code",
   "execution_count": null,
   "id": "b8211c8c",
   "metadata": {},
   "outputs": [],
   "source": []
  }
 ],
 "metadata": {
  "kernelspec": {
   "display_name": "Python 3 (ipykernel)",
   "language": "python",
   "name": "python3"
  },
  "language_info": {
   "codemirror_mode": {
    "name": "ipython",
    "version": 3
   },
   "file_extension": ".py",
   "mimetype": "text/x-python",
   "name": "python",
   "nbconvert_exporter": "python",
   "pygments_lexer": "ipython3",
   "version": "3.10.6"
  }
 },
 "nbformat": 4,
 "nbformat_minor": 5
}
