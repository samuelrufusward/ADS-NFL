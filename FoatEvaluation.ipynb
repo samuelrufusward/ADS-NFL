{
 "cells": [
  {
   "cell_type": "code",
   "execution_count": 2,
   "id": "9e8dc8d4",
   "metadata": {},
   "outputs": [],
   "source": [
    "import pandas as pd\n",
    "import csv\n",
    "import matplotlib.pyplot as plt\n",
    "import matplotlib.animation as animation\n",
    "from ipywidgets import Image\n",
    "from IPython import display\n",
    "import numpy as np\n",
    "from scipy.spatial import Delaunay\n",
    "import warnings\n",
    "warnings.filterwarnings('ignore')\n",
    "import seaborn as sns\n",
    "%matplotlib widget\n",
    "import nfl_regression"
   ]
  },
  {
   "cell_type": "code",
   "execution_count": 3,
   "id": "87eb3131",
   "metadata": {},
   "outputs": [],
   "source": [
    "train_receiver_stats, train_player_stats, train_weeks = nfl_regression.preprocess_year_data('2021')\n",
    "X_train, Y_train = nfl_regression.get_yards_by_stats(train_receiver_stats, train_player_stats, train_weeks, '2021')\n",
    "\n",
    "test_receiver_stats, test_player_stats, test_weeks = nfl_regression.preprocess_year_data('2023')\n",
    "X_test, Y_test = nfl_regression.get_yards_by_stats(test_receiver_stats, test_player_stats, test_weeks, '2023')"
   ]
  },
  {
   "cell_type": "code",
   "execution_count": 7,
   "id": "69def4e5",
   "metadata": {},
   "outputs": [
    {
     "name": "stdout",
     "output_type": "stream",
     "text": [
      "(6119, 117)\n"
     ]
    },
    {
     "data": {
      "text/html": [
       "<div>\n",
       "<style scoped>\n",
       "    .dataframe tbody tr th:only-of-type {\n",
       "        vertical-align: middle;\n",
       "    }\n",
       "\n",
       "    .dataframe tbody tr th {\n",
       "        vertical-align: top;\n",
       "    }\n",
       "\n",
       "    .dataframe thead th {\n",
       "        text-align: right;\n",
       "    }\n",
       "</style>\n",
       "<table border=\"1\" class=\"dataframe\">\n",
       "  <thead>\n",
       "    <tr style=\"text-align: right;\">\n",
       "      <th></th>\n",
       "      <th>gameId</th>\n",
       "      <th>playId</th>\n",
       "      <th>playDescription</th>\n",
       "      <th>quarter</th>\n",
       "      <th>down</th>\n",
       "      <th>yardsToGo</th>\n",
       "      <th>possessionTeam</th>\n",
       "      <th>defensiveTeam</th>\n",
       "      <th>yardlineSide</th>\n",
       "      <th>yardlineNumber</th>\n",
       "      <th>...</th>\n",
       "      <th>Zone Coverage</th>\n",
       "      <th>birthDate</th>\n",
       "      <th>collegeName</th>\n",
       "      <th>displayName</th>\n",
       "      <th>height</th>\n",
       "      <th>nflId</th>\n",
       "      <th>officialPosition</th>\n",
       "      <th>updatedName</th>\n",
       "      <th>updatedName2</th>\n",
       "      <th>weight</th>\n",
       "    </tr>\n",
       "  </thead>\n",
       "  <tbody>\n",
       "    <tr>\n",
       "      <th>0</th>\n",
       "      <td>2021090900</td>\n",
       "      <td>97</td>\n",
       "      <td>(13:33) (Shotgun) T.Brady pass incomplete deep...</td>\n",
       "      <td>1</td>\n",
       "      <td>3</td>\n",
       "      <td>2</td>\n",
       "      <td>TB</td>\n",
       "      <td>DAL</td>\n",
       "      <td>TB</td>\n",
       "      <td>33</td>\n",
       "      <td>...</td>\n",
       "      <td>25.0</td>\n",
       "      <td>1996-02-27</td>\n",
       "      <td>Penn State</td>\n",
       "      <td>Chris Godwin</td>\n",
       "      <td>6-1</td>\n",
       "      <td>44896.0</td>\n",
       "      <td>WR</td>\n",
       "      <td>Chris Godwin</td>\n",
       "      <td>Chris Godwin</td>\n",
       "      <td>209.0</td>\n",
       "    </tr>\n",
       "  </tbody>\n",
       "</table>\n",
       "<p>1 rows × 117 columns</p>\n",
       "</div>"
      ],
      "text/plain": [
       "       gameId  playId                                    playDescription  \\\n",
       "0  2021090900      97  (13:33) (Shotgun) T.Brady pass incomplete deep...   \n",
       "\n",
       "   quarter  down  yardsToGo possessionTeam defensiveTeam yardlineSide  \\\n",
       "0        1     3          2             TB           DAL           TB   \n",
       "\n",
       "   yardlineNumber  ... Zone Coverage   birthDate  collegeName   displayName  \\\n",
       "0              33  ...          25.0  1996-02-27   Penn State  Chris Godwin   \n",
       "\n",
       "   height    nflId  officialPosition   updatedName  updatedName2 weight  \n",
       "0     6-1  44896.0                WR  Chris Godwin  Chris Godwin  209.0  \n",
       "\n",
       "[1 rows x 117 columns]"
      ]
     },
     "execution_count": 7,
     "metadata": {},
     "output_type": "execute_result"
    }
   ],
   "source": [
    "play_data = test_receiver_stats\n",
    "print(play_data.shape)\n",
    "play_data.head(1)"
   ]
  },
  {
   "cell_type": "code",
   "execution_count": 12,
   "id": "10f51d3a",
   "metadata": {},
   "outputs": [
    {
     "data": {
      "text/html": [
       "<div>\n",
       "<style scoped>\n",
       "    .dataframe tbody tr th:only-of-type {\n",
       "        vertical-align: middle;\n",
       "    }\n",
       "\n",
       "    .dataframe tbody tr th {\n",
       "        vertical-align: top;\n",
       "    }\n",
       "\n",
       "    .dataframe thead th {\n",
       "        text-align: right;\n",
       "    }\n",
       "</style>\n",
       "<table border=\"1\" class=\"dataframe\">\n",
       "  <thead>\n",
       "    <tr style=\"text-align: right;\">\n",
       "      <th></th>\n",
       "      <th>playId</th>\n",
       "      <th>nflId</th>\n",
       "      <th>nflId2</th>\n",
       "      <th>nflId3</th>\n",
       "      <th>nflId4</th>\n",
       "      <th>nflId5</th>\n",
       "    </tr>\n",
       "  </thead>\n",
       "  <tbody>\n",
       "    <tr>\n",
       "      <th>0</th>\n",
       "      <td>97</td>\n",
       "      <td>25511</td>\n",
       "      <td>39985</td>\n",
       "      <td>44896</td>\n",
       "      <td>35481</td>\n",
       "      <td>42404</td>\n",
       "    </tr>\n",
       "  </tbody>\n",
       "</table>\n",
       "</div>"
      ],
      "text/plain": [
       "   playId  nflId  nflId2  nflId3  nflId4  nflId5\n",
       "0      97  25511   39985   44896   35481   42404"
      ]
     },
     "execution_count": 12,
     "metadata": {},
     "output_type": "execute_result"
    }
   ],
   "source": [
    "foat_df = pd.read_csv('FoatbestPlayersNoError.csv')\n",
    "foat_df.head(1)"
   ]
  },
  {
   "cell_type": "code",
   "execution_count": 19,
   "id": "00150851",
   "metadata": {},
   "outputs": [
    {
     "name": "stdout",
     "output_type": "stream",
     "text": [
      "<class 'list'>\n",
      "<class 'list'>\n",
      "<class 'list'>\n",
      "<class 'list'>\n"
     ]
    }
   ],
   "source": [
    "foat_results, foat_plays = foat_df['nflId'].values.tolist(), foat_df['playId'].values.tolist()\n",
    "true_results, true_plays = play_data['nflId'].values.tolist(), play_data['playId'].values.tolist()"
   ]
  },
  {
   "cell_type": "code",
   "execution_count": 27,
   "id": "21e1ed04",
   "metadata": {},
   "outputs": [
    {
     "name": "stdout",
     "output_type": "stream",
     "text": [
      "5573\n",
      "5894\n"
     ]
    }
   ],
   "source": [
    "comp_list = []\n",
    "count = 0\n",
    "for play in foat_plays:\n",
    "    try:\n",
    "        index = true_plays.index(play)\n",
    "        # print('found index - ' + str(index))\n",
    "        count += 1\n",
    "    except ValueError: \n",
    "        comp_list.append('NA')\n",
    "        index = 10000\n",
    "\n",
    "    if index != 10000:\n",
    "        foat_index = foat_plays.index(play)\n",
    "        if foat_results[foat_index] == true_results[index]:\n",
    "            comp_list.append('True')\n",
    "        else:\n",
    "            comp_list.append('False')\n",
    "    \n",
    "print(count)\n",
    "print(len(comp_list))"
   ]
  },
  {
   "cell_type": "code",
   "execution_count": 28,
   "id": "175fbee3",
   "metadata": {},
   "outputs": [
    {
     "name": "stdout",
     "output_type": "stream",
     "text": [
      "Number of matching players = 316\n",
      "Number of non-matching players = 5257\n",
      "Number of missing players = 321\n"
     ]
    }
   ],
   "source": [
    "num_true = comp_list.count('True')\n",
    "num_false = comp_list.count('False')\n",
    "num_missing = comp_list.count('NA')\n",
    "print('Number of matching players = ' + str(num_true))\n",
    "print('Number of non-matching players = ' + str(num_false))\n",
    "print('Number of missing players = ' + str(num_missing))"
   ]
  },
  {
   "cell_type": "code",
   "execution_count": null,
   "id": "404d4c79",
   "metadata": {},
   "outputs": [],
   "source": []
  }
 ],
 "metadata": {
  "kernelspec": {
   "display_name": "Python 3 (ipykernel)",
   "language": "python",
   "name": "python3"
  },
  "language_info": {
   "codemirror_mode": {
    "name": "ipython",
    "version": 3
   },
   "file_extension": ".py",
   "mimetype": "text/x-python",
   "name": "python",
   "nbconvert_exporter": "python",
   "pygments_lexer": "ipython3",
   "version": "3.10.6"
  }
 },
 "nbformat": 4,
 "nbformat_minor": 5
}
