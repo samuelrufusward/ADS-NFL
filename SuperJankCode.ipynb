{
 "cells": [
  {
   "cell_type": "code",
   "execution_count": 2,
   "metadata": {},
   "outputs": [],
   "source": [
    "import pandas as pd\n",
    "import csv\n",
    "import matplotlib.pyplot as plt\n",
    "import matplotlib.animation as animation\n",
    "from ipywidgets import Image\n",
    "from IPython import display\n",
    "import numpy as np\n",
    "from scipy.spatial import Delaunay\n",
    "import warnings\n",
    "warnings.filterwarnings('ignore')\n",
    "import seaborn as sns\n",
    "%matplotlib widget"
   ]
  },
  {
   "cell_type": "code",
   "execution_count": 3,
   "metadata": {},
   "outputs": [],
   "source": [
    "w1data = pd.read_csv(\"nfl-big-data-bowl-2023/week1.csv\")\n",
    "w2data = pd.read_csv(\"nfl-big-data-bowl-2023/week2.csv\")\n",
    "w3data = pd.read_csv(\"nfl-big-data-bowl-2023/week3.csv\")\n",
    "players_background = pd.read_csv(\"BigDataBowl2023/data2023/players.csv\", index_col='nflId')\n",
    "madden_df = pd.read_csv(\"BigDataBowl2023/merged_df.csv\")\n",
    "median_df = pd.read_csv(\"BigDataBowl2023/all_pos_df.csv\", index_col=0)"
   ]
  },
  {
   "cell_type": "code",
   "execution_count": 3,
   "metadata": {},
   "outputs": [
    {
     "name": "stdout",
     "output_type": "stream",
     "text": [
      "1021\n"
     ]
    }
   ],
   "source": [
    "print(len(w1data['playId'].unique()))"
   ]
  },
  {
   "cell_type": "code",
   "execution_count": 4,
   "metadata": {},
   "outputs": [],
   "source": [
    "def collect_game_info(weekdf, playId, saved=False):\n",
    "    \n",
    "    #slice df to single play\n",
    "    playdf = weekdf.loc[weekdf[\"playId\"] == playId]\n",
    "    #reorder playdf so that they are in the right frame order\n",
    "    playdf = playdf.sort_values(by = \"frameId\")\n",
    "    if saved:\n",
    "        playdf.to_csv(f'Play{playId}Frames.csv')\n",
    "    return playdf"
   ]
  },
  {
   "cell_type": "code",
   "execution_count": 22,
   "metadata": {},
   "outputs": [],
   "source": [
    "def gaussian(x):\n",
    "    return np.exp(-(((x**2)-(2*x)+1)/(0.4*x)))"
   ]
  },
  {
   "cell_type": "code",
   "execution_count": 24,
   "metadata": {},
   "outputs": [],
   "source": [
    "def val_check(x,range):\n",
    "    if x < range[0]:\n",
    "        return 0\n",
    "    elif x > range[1]:\n",
    "        return 0\n",
    "    else:\n",
    "        return 1"
   ]
  },
  {
   "cell_type": "code",
   "execution_count": 25,
   "metadata": {},
   "outputs": [
    {
     "name": "stdout",
     "output_type": "stream",
     "text": [
      "1.0\n"
     ]
    }
   ],
   "source": [
    "print(gaussian(1))"
   ]
  },
  {
   "cell_type": "code",
   "execution_count": 41,
   "metadata": {},
   "outputs": [
    {
     "data": {
      "text/plain": [
       "([42347, 43293, 46206, 45532, 52425, 52554, 47873, 43424, 37082, 42654, 46119],\n",
       " [27.950186020886232,\n",
       "  4.6794275288002005,\n",
       "  4.511277992982881,\n",
       "  3.742377546342522,\n",
       "  3.043348885940939,\n",
       "  0,\n",
       "  0,\n",
       "  0,\n",
       "  0,\n",
       "  0,\n",
       "  0])"
      ]
     },
     "execution_count": 41,
     "metadata": {},
     "output_type": "execute_result"
    }
   ],
   "source": [
    "def find_best_player(weekdf,playId,resolution,madden_df,median_df,players_background):\n",
    "    play = collect_game_info(weekdf, playId)\n",
    "    \n",
    "    madden_df.loc[:, 'nflId'] = madden_df['nflId'].astype('int64')\n",
    "    madden_df = madden_df.set_index('nflId')\n",
    "    play_df = play.dropna()\n",
    "    ball_df = play[play['team'] == 'football']\n",
    "    play_df.loc[:, 'frameId'] = play_df['frameId'].astype('int')\n",
    "    play_df.loc[:, 'nflId'] = play_df['nflId'].astype('int64')\n",
    "    player_df = play_df.set_index(['nflId', 'frameId'])\n",
    "    ball_df = ball_df.set_index(['frameId'])\n",
    "\n",
    "        # Stuff for plotting\n",
    "    num_frames = len(play_df['frameId'].unique())\n",
    "        #self.num_players = len(self.play_df['jerseyNumber'].unique())\n",
    "    teams = player_df['team'].unique()\n",
    "    #xrange = (player_df['x'].min()-10, player_df['x'].max()+10)\n",
    "    #yrange = (player_df['y'].min()-10, player_df['y'].max()+10)\n",
    "    player_best_scores = {}\n",
    "    player_speeds = {}\n",
    "    player_catchs = {}\n",
    "    \n",
    "    ##megauhohthis is so bad\n",
    "    #getting attacker and defener names\n",
    "    idx = pd.IndexSlice\n",
    "    player_frame_df = player_df.loc[idx[:, 1+1], :].droplevel(-1)\n",
    "    for nflId, player in player_frame_df.iterrows():\n",
    "            pos = players_background.loc[nflId]['officialPosition']\n",
    "            if pos =='QB':\n",
    "                qb_Id = nflId\n",
    "                qb_team = player['team']\n",
    "                qbx, qby = player[['x', 'y']]\n",
    "                direction = player['playDirection']\n",
    "    xrange = (player_df['x'].min()-10, player_df['x'].max()+10)\n",
    "    yrange = (player_df['y'].min()-10, player_df['y'].max()+10)\n",
    "    attackers = player_frame_df[player_frame_df['team']==qb_team]\n",
    "    defenders = player_frame_df[player_frame_df['team']!=qb_team]\n",
    "    for nflId, player in attackers.iterrows():#collecting speed scores + generating dicts of info\n",
    "                player_best_scores[nflId] = 0\n",
    "                player_position = players_background.loc[nflId]['officialPosition']\n",
    "                if nflId in madden_df.index:\n",
    "                                player_stats = madden_df.loc[nflId]\n",
    "                else:\n",
    "                                player_stats = median_df.loc[player_position]\n",
    "                player_speeds[nflId] = player_stats['Speed'] + player_stats['Acceleration'] + player_stats['Agility']/3\n",
    "                player_catchs[nflId] = player_stats['Catching']\n",
    "    for nflId, player in defenders.iterrows():\n",
    "                player_position = players_background.loc[nflId]['officialPosition']\n",
    "                if nflId in madden_df.index:\n",
    "                                player_stats = madden_df.loc[nflId]\n",
    "                else:\n",
    "                                player_stats = median_df.loc[player_position]\n",
    "                player_speeds[nflId] = player_stats['Speed'] + player_stats['Acceleration'] + player_stats['Agility']/3\n",
    "        # Determine if the QB has the ball still                \n",
    "    def if_last_frame(qbx, qby, ballx, bally):\n",
    "        x_dis = qbx - ballx\n",
    "        y_dis = qby - bally\n",
    "        \n",
    "        if ((x_dis)**2 + (y_dis)**2) < 0.5:\n",
    "            is_final_frame = True\n",
    "        else:\n",
    "            is_final_frame = False\n",
    "            \n",
    "        return is_final_frame \n",
    "        \n",
    "    is_final_frame = False\n",
    "    final_frame = num_frames + 1\n",
    "    \n",
    "    # Loop from final frame to find the frame QB throws\n",
    "    while is_final_frame == False:\n",
    "        final_frame -= 1\n",
    "        i = final_frame\n",
    "        idx = pd.IndexSlice\n",
    "        player_frame_df = player_df.loc[idx[:, i], :].droplevel(-1)\n",
    "        for nflId, player in player_frame_df.iterrows():\n",
    "            pos = players_background.loc[nflId]['officialPosition']\n",
    "            if pos =='QB':\n",
    "                qb_Id = nflId\n",
    "                qb_team = player['team']\n",
    "                qbx, qby = player[['x', 'y']]\n",
    "                # print(qbx, qby)\n",
    "                \n",
    "        ball_frame_df = ball_df.loc[i]\n",
    "        ballx, bally = ball_frame_df[['x', 'y']]\n",
    "        # print(ballx, bally)\n",
    "        # print('Distance ball moved = '+ str(ball_frame_df['dis']))\n",
    "        \n",
    "        is_final_frame = if_last_frame(qbx, qby, ballx, bally)\n",
    "        # print(final_frame, is_final_frame)\n",
    "        \n",
    "    final_frame_list = range(final_frame-1,final_frame+1)\n",
    "\n",
    "    for frame in [final_frame]:\n",
    "        i = frame\n",
    "        idx = pd.IndexSlice\n",
    "        player_frame_df = player_df.loc[idx[:, i+1], :].droplevel(-1)\n",
    "        #ball_frame_df = ball_df.loc[i+1]\n",
    "        #ball_frame_df = ball_df.loc[i+1].to_frame().transpose() # the hatred towards pandas I have in this instant is unquantifiable with words\n",
    "        #ball_frame_df['nflId'] = 'football'\n",
    "        #ball_frame_df.set_index('nflId', inplace=True)\n",
    "\n",
    "        # Find the nflId of the QB (theres probably a better way to do this but idk it)\n",
    "        for nflId, player in player_frame_df.iterrows():\n",
    "            pos = players_background.loc[nflId]['officialPosition']\n",
    "            if pos =='QB':\n",
    "                qb_Id = nflId\n",
    "                qb_team = player['team']\n",
    "                qbx, qby = player[['x', 'y']]\n",
    "\n",
    "\n",
    "        # Sort the players into attackers and defenders\n",
    "        attackers = player_frame_df[player_frame_df['team']==qb_team]\n",
    "        defenders = player_frame_df[player_frame_df['team']!=qb_team]\n",
    "\n",
    "        receiver_ratings = {'nflId':[], 'receiver rating':[]}\n",
    "\n",
    "        qb_stats = madden_df.loc[qb_Id]\n",
    "\n",
    "        throw_score = qb_stats['Throw On The Run'] + qb_stats['Throw Under Pressure'] + qb_stats['Throw Power'] # !!!wowowowow\n",
    "\n",
    "        for x in np.arange(xrange[0],xrange[1]+resolution,resolution):#loop over xcoords\n",
    "                for y in np.arange(yrange[0],yrange[1]+resolution,resolution):#loop over ycoords\n",
    "                    min_dist = 1000000 # big\n",
    "                    score = 0 # how good the space is too pass to\n",
    "                    for nflId, player in defenders.iterrows():\n",
    "                        dist_2_point = np.sqrt((x-player['x'])**2+ (y-player['y'])**2) / player_speeds[nflId] # weighted distance using speeds\n",
    "                        if dist_2_point < min_dist:\n",
    "                            min_dist = dist_2_point#results in smallest dist from defending player\n",
    "                    nearest_def_dist = min_dist\n",
    "                    for nflId, player in attackers.iterrows():\n",
    "                        #wr,te,fb,rb,\n",
    "                        player_position = players_background.loc[nflId]['officialPosition']\n",
    "                        if player_position in [\"WR\", \"TE\", \"FB\", \"RB\"]:\n",
    "                            \n",
    "                                \n",
    "                            dist_2_point = np.sqrt((x-player['x'])**2+ (y-player['y'])**2)/ player_speeds[nflId]\n",
    "                            \n",
    "                            if dist_2_point < min_dist: #only if attacking player is closer to point than defending player\n",
    "                                #if nflId == 42347:\n",
    "                                #   print(dist_2_point,min_dist)\n",
    "                                min_dist = dist_2_point\n",
    "                                throw_dist = np.sqrt((x-qbx)**2 + (y-qby)**2)\n",
    "                                \n",
    "                                \n",
    "                                if throw_dist >= 20:\n",
    "                                    throw_score += qb_stats['Throw Acc Deep']\n",
    "                                elif throw_dist >=10:\n",
    "                                    throw_score += qb_stats['Throw Acc Mid']\n",
    "                                else:\n",
    "                                    throw_score += qb_stats['Throw Acc Short']\n",
    "                                # Average the throw score over the 4 metrics used\n",
    "                                throw_score /= 4 # !!!\n",
    "                                #score defined as: yard gain * 'chance of catching' (losely defined as throwscore X catchscore) * tanh(time ball takes to reach point/ time player takes to reach points)\n",
    "                                #tanh thing a metric of will the player reach the catching zone before the ball if both going at max speed\n",
    "                                if direction == \"left\":\n",
    "                                    yard = qbx-x\n",
    "                                elif direction == \"right\":\n",
    "                                    yard = x-qbx \n",
    "                                score =(yard)*np.tanh(100*nearest_def_dist) *np.tanh(throw_score*player_catchs[nflId]/10000)*np.tanh((throw_dist/(3*qb_stats['Throw Power']))/(min_dist/player_speeds[nflId]))#throw speed : player speed = roughly 3:1\n",
    "                                \n",
    "                                if score > player_best_scores[nflId]:\n",
    "                                    \n",
    "                                    player_best_scores[nflId] = score\n",
    "            #for Id in player_best_scores:\n",
    "           #     receiver_ratings['nflId'].append(Id)\n",
    "           #     receiver_ratings['receiver rating'].append(player_best_scores[Id])\n",
    "    top5Players = []\n",
    "    topscores = []\n",
    "    sorted_dict = dict(sorted(player_best_scores.items(), key=lambda item: item[1], reverse=True))\n",
    "    for key in list(sorted_dict.keys()):\n",
    "           top5Players.append(key)\n",
    "\n",
    "           #topscores.append(sorted_dict[key])\n",
    "    return top5Players, topscores\n",
    "        \n",
    "\n",
    "find_best_player(w1data,137,1,madden_df,median_df,players_background)\n",
    "\n",
    "    "
   ]
  },
  {
   "cell_type": "code",
   "execution_count": 42,
   "metadata": {},
   "outputs": [],
   "source": [
    "def run_a_week(weekdf,weeknum):\n",
    "    list_of_plays = weekdf['playId'].unique()\n",
    "    #list_of_plays= list_of_plays[:20]\n",
    "    with open(f'week{weeknum}tanhbestPlayer.csv', 'w', newline='') as f:\n",
    "            write = csv.writer(f)\n",
    "            write.writerow(['playId','nflId','2nd','3rd','4th','5th','6rd','7th','8th','9rd','10th','11th'])\n",
    "    for playId in list_of_plays:\n",
    "        try:\n",
    "            best_players, best_scores = find_best_player(weekdf,playId,1,madden_df,median_df,players_background)\n",
    "\n",
    "            with open(f'week{weeknum}tanhbestPlayer.csv', 'a+', newline='') as f:\n",
    "                        write = csv.writer(f)\n",
    "                        write.writerow([playId,best_players[0], best_players[1], best_players[2], best_players[3], best_players[4],best_players[5], best_players[6], best_players[7], best_players[8], best_players[9],best_players[10]])\n",
    "                        #write.writerow([playId,best_scores[0], best_scores[1], best_scores[2], best_scores[3], best_scores[4], best_scores[5],best_scores[6], best_scores[7], best_scores[8],best_scores[9], best_scores[10]])\n",
    "        \n",
    "        except: \n",
    "            print(f'mega died for playId {playId}')\n",
    "            with open(f'week{weeknum}tanhbestPlayer.csv', 'a+', newline='') as f:\n",
    "                        write = csv.writer(f)\n",
    "                        write.writerow([playId,'Error','Error','Error','Error','Error'])"
   ]
  },
  {
   "cell_type": "code",
   "execution_count": 43,
   "metadata": {},
   "outputs": [
    {
     "name": "stdout",
     "output_type": "stream",
     "text": [
      "mega died for playId 282\n",
      "mega died for playId 410\n",
      "mega died for playId 559\n",
      "mega died for playId 583\n",
      "mega died for playId 764\n",
      "mega died for playId 788\n"
     ]
    }
   ],
   "source": [
    "run_a_week(w1data,1)"
   ]
  },
  {
   "cell_type": "code",
   "execution_count": 12,
   "metadata": {},
   "outputs": [
    {
     "data": {
      "application/vnd.jupyter.widget-view+json": {
       "model_id": "693d654602e14f17a75dcaeabda6a3c4",
       "version_major": 2,
       "version_minor": 0
      },
      "image/png": "[encoded data removed]",
      "text/html": [
       "\n",
       "            <div style=\"display: inline-block;\">\n",
       "                <div class=\"jupyter-widgets widget-label\" style=\"text-align: center;\">\n",
       "                    Figure 1\n",
       "                </div>\n",
       "                <img src='data:image/png;base64,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' width=640.0/>\n",
       "            </div>\n",
       "        "
      ],
      "text/plain": [
       "Canvas(toolbar=Toolbar(toolitems=[('Home', 'Reset original view', 'home', 'home'), ('Back', 'Back to previous …"
      ]
     },
     "metadata": {},
     "output_type": "display_data"
    },
    {
     "data": {
      "text/plain": [
       "<function matplotlib.pyplot.clf()>"
      ]
     },
     "execution_count": 12,
     "metadata": {},
     "output_type": "execute_result"
    }
   ],
   "source": [
    "#make gaussian plot\n",
    "x = np.linspace(0,4,200)\n",
    "y = gaussian(x)\n",
    "plt.plot(x,y)\n",
    "plt.show()\n",
    "plt.clf"
   ]
  }
 ],
 "metadata": {
  "kernelspec": {
   "display_name": "Python 3",
   "language": "python",
   "name": "python3"
  },
  "language_info": {
   "codemirror_mode": {
    "name": "ipython",
    "version": 3
   },
   "file_extension": ".py",
   "mimetype": "text/x-python",
   "name": "python",
   "nbconvert_exporter": "python",
   "pygments_lexer": "ipython3",
   "version": "3.9.7"
  },
  "orig_nbformat": 4
 },
 "nbformat": 4,
 "nbformat_minor": 2
}
