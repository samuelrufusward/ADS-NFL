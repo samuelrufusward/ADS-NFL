{
 "cells": [
  {
   "cell_type": "code",
   "execution_count": null,
   "metadata": {},
   "outputs": [],
   "source": [
    "import pandas as pd\n",
    "import csv\n",
    "import matplotlib.pyplot as plt\n",
    "import matplotlib.animation as animation\n",
    "from ipywidgets import Image\n",
    "from IPython import display\n",
    "import numpy as np\n",
    "from scipy.spatial import Delaunay\n",
    "import warnings\n",
    "warnings.filterwarnings('ignore')\n",
    "import seaborn as sns\n",
    "%matplotlib widget"
   ]
  },
  {
   "cell_type": "code",
   "execution_count": null,
   "metadata": {},
   "outputs": [],
   "source": [
    "w1data = pd.read_csv(\"nfl-big-data-bowl-2023/week1.csv\")\n",
    "players_background = pd.read_csv(\"BigDataBowl2023/data2023/players.csv\", index_col='nflId')\n",
    "madden_df = pd.read_csv(\"BigDataBowl2023/merged_df.csv\")\n",
    "median_df = pd.read_csv(\"BigDataBowl2023/all_pos_df.csv\", index_col=0)"
   ]
  },
  {
   "cell_type": "code",
   "execution_count": null,
   "metadata": {},
   "outputs": [],
   "source": [
    "def collect_game_info(weekdf, playId, saved=False):\n",
    "    \n",
    "    #slice df to single play\n",
    "    playdf = weekdf.loc[weekdf[\"playId\"] == playId]\n",
    "    #reorder playdf so that they are in the right frame order\n",
    "    playdf = playdf.sort_values(by = \"frameId\")\n",
    "    if saved:\n",
    "        playdf.to_csv(f'Play{playId}Frames.csv')\n",
    "    return playdf"
   ]
  },
  {
   "cell_type": "code",
   "execution_count": null,
   "metadata": {},
   "outputs": [],
   "source": [
    "def gaussian(x):\n",
    "    return np.exp(-(x-1)**2/0.4)"
   ]
  },
  {
   "cell_type": "code",
   "execution_count": null,
   "metadata": {},
   "outputs": [],
   "source": [
    "def find_best_player(weekdf,playId):\n",
    "    play = collect_game_info(weekdf, playId)\n",
    "    madden_df.loc[:, 'nflId'] = madden_df['nflId'].astype('int64')\n",
    "    madden_df = madden_df.set_index('nflId')\n",
    "    play_df = play.dropna()\n",
    "    ball_df = play[play['team'] == 'football']\n",
    "    play_df.loc[:, 'frameId'] = play_df['frameId'].astype('int')\n",
    "    play_df.loc[:, 'nflId'] = play_df['nflId'].astype('int64')\n",
    "    player_df = play_df.set_index(['nflId', 'frameId'])\n",
    "    ball_df = ball_df.set_index(['frameId'])\n",
    "\n",
    "        # Stuff for plotting\n",
    "    num_frames = len(play_df['frameId'].unique())\n",
    "        #self.num_players = len(self.play_df['jerseyNumber'].unique())\n",
    "    teams = player_df['team'].unique()\n",
    "    for frame in range(1,num_frames):\n",
    "        idx = pd.IndexSlice\n",
    "        player_frame_df = self.player_df.loc[idx[:, i+1], :].droplevel(-1)\n",
    "        ball_frame_df = self.ball_df.loc[i+1].to_frame().transpose() # the hatred towards pandas I have in this instant is unquantifiable with words\n",
    "        ball_frame_df['nflId'] = 'football'\n",
    "        ball_frame_df.set_index('nflId', inplace=True)\n",
    "\n",
    "        # Find the nflId of the QB (theres probably a better way to do this but idk it)\n",
    "        for nflId, player in player_frame_df.iterrows():\n",
    "            pos = self.players_background.loc[nflId]['officialPosition']\n",
    "            if pos =='QB':\n",
    "                qb_Id = nflId\n",
    "                qb_team = player['team']\n",
    "                qbx, qby = player[['x', 'y']]\n",
    "\n",
    "\n",
    "        # Sort the players into attackers and defenders\n",
    "        attackers = player_frame_df[player_frame_df['team']==qb_team]\n",
    "        defenders = player_frame_df[player_frame_df['team']!=qb_team]\n",
    "\n",
    "        receiver_ratings = {'nflId':[], 'receiver rating':[]}\n",
    "\n",
    "        qb_stats = self.madden_df.loc[qb_Id]\n",
    "\n",
    "        throw_score = qb_stats['Throw On The Run'] + qb_stats['Throw Under Pressure'] + qb_stats['Throw Power'] # !!!\n",
    "\n",
    "\n",
    "    "
   ]
  }
 ],
 "metadata": {
  "kernelspec": {
   "display_name": "Python 3",
   "language": "python",
   "name": "python3"
  },
  "language_info": {
   "name": "python",
   "version": "3.9.7"
  },
  "orig_nbformat": 4
 },
 "nbformat": 4,
 "nbformat_minor": 2
}
