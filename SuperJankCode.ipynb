{
 "cells": [
  {
   "cell_type": "code",
   "execution_count": 1,
   "metadata": {},
   "outputs": [],
   "source": [
    "import pandas as pd\n",
    "import csv\n",
    "import matplotlib.pyplot as plt\n",
    "import matplotlib.animation as animation\n",
    "from ipywidgets import Image\n",
    "from IPython import display\n",
    "import numpy as np\n",
    "from scipy.spatial import Delaunay\n",
    "import warnings\n",
    "warnings.filterwarnings('ignore')\n",
    "import seaborn as sns\n",
    "%matplotlib widget"
   ]
  },
  {
   "cell_type": "code",
   "execution_count": 2,
   "metadata": {},
   "outputs": [],
   "source": [
    "w1data = pd.read_csv(\"nfl-big-data-bowl-2023/week1.csv\")\n",
    "players_background = pd.read_csv(\"BigDataBowl2023/data2023/players.csv\", index_col='nflId')\n",
    "madden_df = pd.read_csv(\"BigDataBowl2023/merged_df.csv\")\n",
    "median_df = pd.read_csv(\"BigDataBowl2023/all_pos_df.csv\", index_col=0)"
   ]
  },
  {
   "cell_type": "code",
   "execution_count": 3,
   "metadata": {},
   "outputs": [
    {
     "name": "stdout",
     "output_type": "stream",
     "text": [
      "1021\n"
     ]
    }
   ],
   "source": [
    "print(len(w1data['playId'].unique()))"
   ]
  },
  {
   "cell_type": "code",
   "execution_count": 3,
   "metadata": {},
   "outputs": [],
   "source": [
    "def collect_game_info(weekdf, playId, saved=False):\n",
    "    \n",
    "    #slice df to single play\n",
    "    playdf = weekdf.loc[weekdf[\"playId\"] == playId]\n",
    "    #reorder playdf so that they are in the right frame order\n",
    "    playdf = playdf.sort_values(by = \"frameId\")\n",
    "    if saved:\n",
    "        playdf.to_csv(f'Play{playId}Frames.csv')\n",
    "    return playdf"
   ]
  },
  {
   "cell_type": "code",
   "execution_count": 4,
   "metadata": {},
   "outputs": [],
   "source": [
    "def gaussian(x):\n",
    "    return np.exp(-(((x**2)-(2*x)+1)/(1.2*x)))"
   ]
  },
  {
   "cell_type": "code",
   "execution_count": 25,
   "metadata": {},
   "outputs": [
    {
     "name": "stdout",
     "output_type": "stream",
     "text": [
      "1.0\n"
     ]
    }
   ],
   "source": [
    "print(gaussian(1))"
   ]
  },
  {
   "cell_type": "code",
   "execution_count": 5,
   "metadata": {},
   "outputs": [],
   "source": [
    "def find_best_player(weekdf,playId,resolution,madden_df,median_df,players_background):\n",
    "    play = collect_game_info(weekdf, playId)\n",
    "    madden_df.loc[:, 'nflId'] = madden_df['nflId'].astype('int64')\n",
    "    madden_df = madden_df.set_index('nflId')\n",
    "    play_df = play.dropna()\n",
    "    ball_df = play[play['team'] == 'football']\n",
    "    play_df.loc[:, 'frameId'] = play_df['frameId'].astype('int')\n",
    "    play_df.loc[:, 'nflId'] = play_df['nflId'].astype('int64')\n",
    "    player_df = play_df.set_index(['nflId', 'frameId'])\n",
    "    ball_df = ball_df.set_index(['frameId'])\n",
    "\n",
    "        # Stuff for plotting\n",
    "    num_frames = len(play_df['frameId'].unique())\n",
    "        #self.num_players = len(self.play_df['jerseyNumber'].unique())\n",
    "    teams = player_df['team'].unique()\n",
    "    #xrange = (player_df['x'].min()-10, player_df['x'].max()+10)\n",
    "    #yrange = (player_df['y'].min()-10, player_df['y'].max()+10)\n",
    "    player_best_scores = {}\n",
    "    player_speeds = {}\n",
    "    player_catchs = {}\n",
    "    \n",
    "    ##megauhohthis is so bad\n",
    "    #getting attacker and defener names\n",
    "    idx = pd.IndexSlice\n",
    "    player_frame_df = player_df.loc[idx[:, 1+1], :].droplevel(-1)\n",
    "    for nflId, player in player_frame_df.iterrows():\n",
    "            pos = players_background.loc[nflId]['officialPosition']\n",
    "            if pos =='QB':\n",
    "                qb_Id = nflId\n",
    "                qb_team = player['team']\n",
    "                qbx, qby = player[['x', 'y']]\n",
    "    xrange = (player_df['x'].min(), player_df['x'].max()+10)\n",
    "    yrange = (player_df['y'].min()-10, player_df['y'].max()+10)\n",
    "    attackers = player_frame_df[player_frame_df['team']==qb_team]\n",
    "    defenders = player_frame_df[player_frame_df['team']!=qb_team]\n",
    "    for nflId, player in attackers.iterrows():#collecting speed scores + generating dicts of info\n",
    "                player_best_scores[nflId] = 0\n",
    "                player_position = players_background.loc[nflId]['officialPosition']\n",
    "                if nflId in madden_df.index:\n",
    "                                player_stats = madden_df.loc[nflId]\n",
    "                else:\n",
    "                                player_stats = median_df.loc[player_position]\n",
    "                player_speeds[nflId] = player_stats['Speed'] + player_stats['Acceleration'] + player_stats['Agility']/3\n",
    "                player_catchs[nflId] = player_stats['Catching']\n",
    "    for nflId, player in defenders.iterrows():\n",
    "                player_position = players_background.loc[nflId]['officialPosition']\n",
    "                if nflId in madden_df.index:\n",
    "                                player_stats = madden_df.loc[nflId]\n",
    "                else:\n",
    "                                player_stats = median_df.loc[player_position]\n",
    "                player_speeds[nflId] = player_stats['Speed'] + player_stats['Acceleration'] + player_stats['Agility']/3\n",
    "\n",
    "\n",
    "    for frame in range(10,num_frames,3):\n",
    "        i = frame\n",
    "        idx = pd.IndexSlice\n",
    "        player_frame_df = player_df.loc[idx[:, i+1], :].droplevel(-1)\n",
    "        ball_frame_df = ball_df.loc[i+1]\n",
    "        #ball_frame_df = ball_df.loc[i+1].to_frame().transpose() # the hatred towards pandas I have in this instant is unquantifiable with words\n",
    "        ball_frame_df['nflId'] = 'football'\n",
    "        #ball_frame_df.set_index('nflId', inplace=True)\n",
    "\n",
    "        # Find the nflId of the QB (theres probably a better way to do this but idk it)\n",
    "        for nflId, player in player_frame_df.iterrows():\n",
    "            pos = players_background.loc[nflId]['officialPosition']\n",
    "            if pos =='QB':\n",
    "                qb_Id = nflId\n",
    "                qb_team = player['team']\n",
    "                qbx, qby = player[['x', 'y']]\n",
    "\n",
    "\n",
    "        # Sort the players into attackers and defenders\n",
    "        attackers = player_frame_df[player_frame_df['team']==qb_team]\n",
    "        defenders = player_frame_df[player_frame_df['team']!=qb_team]\n",
    "\n",
    "        receiver_ratings = {'nflId':[], 'receiver rating':[]}\n",
    "\n",
    "        qb_stats = madden_df.loc[qb_Id]\n",
    "\n",
    "        throw_score = qb_stats['Throw On The Run'] + qb_stats['Throw Under Pressure'] + qb_stats['Throw Power'] # !!!wowowowow\n",
    "\n",
    "        for x in np.arange(xrange[0],xrange[1]+resolution,resolution):#loop over xcoords\n",
    "                for y in np.arange(yrange[0],yrange[1]+resolution,resolution):#loop over ycoords\n",
    "                    min_dist = 1000000 # big\n",
    "                    score = 0 # how good the space is too pass to\n",
    "                    for nflId, player in defenders.iterrows():\n",
    "                        dist_2_point = np.sqrt((x-player['x'])**2+ (y-player['y'])**2) / player_speeds[nflId] # weighted distance using speeds\n",
    "                        if dist_2_point < min_dist:\n",
    "                            min_dist = dist_2_point#results in smallest dist from defending player\n",
    "                    for nflId, player in attackers.iterrows():\n",
    "                        player_position = players_background.loc[nflId]['officialPosition']\n",
    "                        dist_2_point = np.sqrt((x-player['x'])**2+ (y-player['y'])**2)/ player_speeds[nflId]\n",
    "                        if dist_2_point < min_dist: #only if attacking player is closer to point than defending player\n",
    "                            min_dist = dist_2_point\n",
    "                            throw_dist = np.sqrt((x-qbx)**2 + (y-qby)**2)\n",
    "                            \n",
    "                            \n",
    "                            if throw_dist >= 20:\n",
    "                                throw_score += qb_stats['Throw Acc Deep']\n",
    "                            elif throw_dist >=10:\n",
    "                                throw_score += qb_stats['Throw Acc Mid']\n",
    "                            else:\n",
    "                                throw_score += qb_stats['Throw Acc Short']\n",
    "                            # Average the throw score over the 4 metrics used\n",
    "                            throw_score /= 4 # !!!\n",
    "                            #score defined as: yard gain * 'chance of catching' (losely defined as throwscore X catchscore) * tanh(time ball takes to reach point/ time player takes to reach points)\n",
    "                            #tanh thing a metric of will the player reach the catching zone before the ball if both going at max speed\n",
    "                            score = (x-qbx)*  throw_score*player_catchs[nflId]*gaussian((throw_dist*qb_stats['Throw Power'])/(min_dist*player_speeds[nflId]/3))#throw speed : player speed = roughly 3:1\n",
    "                            if score > player_best_scores[nflId]:\n",
    "                                player_best_scores[nflId] = score\n",
    "            #for Id in player_best_scores:\n",
    "           #     receiver_ratings['nflId'].append(Id)\n",
    "           #     receiver_ratings['receiver rating'].append(player_best_scores[Id])\n",
    "    top5Players = []\n",
    "    sorted_dict = dict(sorted(player_best_scores.items(), key=lambda item: item[1], reverse=True))\n",
    "    for key in list(sorted_dict.keys()):\n",
    "           top5Players.append(key)\n",
    "    return top5Players[:5]\n",
    "        \n",
    "\n",
    "#find_best_player(w1data,90,1,madden_df,median_df,players_background)\n",
    "\n",
    "    "
   ]
  },
  {
   "cell_type": "code",
   "execution_count": 6,
   "metadata": {},
   "outputs": [],
   "source": [
    "def run_a_week(weekdf,weeknum):\n",
    "    list_of_plays = weekdf['playId'].unique()\n",
    "    #with open(f'week{weeknum}bestPlayer.csv', 'w', newline='') as f:\n",
    "    #        write = csv.writer(f)\n",
    "    #        write.writerow(['playId','nflId','2nd','3rd','4th','5th'])\n",
    "    for playId in list_of_plays:\n",
    "        try:\n",
    "            best_players = find_best_player(weekdf,playId,1,madden_df,median_df,players_background)\n",
    "\n",
    "            with open(f'week{weeknum}bestPlayer.csv', 'a+', newline='') as f:\n",
    "                        write = csv.writer(f)\n",
    "                        write.writerow([playId,best_players[0], best_players[1], best_players[2], best_players[3], best_players[4]])\n",
    "        except:\n",
    "            print(f'mega died for playId {playId}')\n",
    "            with open(f'week{weeknum}bestPlayer.csv', 'a+', newline='') as f:\n",
    "                        write = csv.writer(f)\n",
    "                        write.writerow([playId,'Error','Error','Error','Error','Error'])"
   ]
  },
  {
   "cell_type": "code",
   "execution_count": 7,
   "metadata": {},
   "outputs": [
    {
     "name": "stdout",
     "output_type": "stream",
     "text": [
      "mega died for playId 282\n",
      "mega died for playId 410\n",
      "mega died for playId 559\n",
      "mega died for playId 583\n",
      "mega died for playId 764\n",
      "mega died for playId 788\n",
      "mega died for playId 1368\n",
      "mega died for playId 1687\n",
      "mega died for playId 1776\n",
      "mega died for playId 2008\n",
      "mega died for playId 2129\n",
      "mega died for playId 2419\n",
      "mega died for playId 2554\n",
      "mega died for playId 2735\n",
      "mega died for playId 2893\n",
      "mega died for playId 3014\n",
      "mega died for playId 3110\n",
      "mega died for playId 3261\n",
      "mega died for playId 3406\n",
      "mega died for playId 3655\n",
      "mega died for playId 3793\n",
      "mega died for playId 4094\n",
      "mega died for playId 4141\n",
      "mega died for playId 4393\n",
      "mega died for playId 56\n",
      "mega died for playId 146\n",
      "mega died for playId 843\n",
      "mega died for playId 1085\n",
      "mega died for playId 1494\n",
      "mega died for playId 1630\n",
      "mega died for playId 1792\n",
      "mega died for playId 1991\n",
      "mega died for playId 2063\n",
      "mega died for playId 3045\n",
      "mega died for playId 3383\n",
      "mega died for playId 3728\n",
      "mega died for playId 3776\n",
      "mega died for playId 3820\n",
      "mega died for playId 856\n",
      "mega died for playId 1300\n",
      "mega died for playId 1367\n",
      "mega died for playId 1710\n",
      "mega died for playId 1808\n",
      "mega died for playId 2362\n"
     ]
    }
   ],
   "source": [
    "run_a_week(w1data,1)"
   ]
  }
 ],
 "metadata": {
  "kernelspec": {
   "display_name": "Python 3",
   "language": "python",
   "name": "python3"
  },
  "language_info": {
   "codemirror_mode": {
    "name": "ipython",
    "version": 3
   },
   "file_extension": ".py",
   "mimetype": "text/x-python",
   "name": "python",
   "nbconvert_exporter": "python",
   "pygments_lexer": "ipython3",
   "version": "3.9.7"
  },
  "orig_nbformat": 4
 },
 "nbformat": 4,
 "nbformat_minor": 2
}
