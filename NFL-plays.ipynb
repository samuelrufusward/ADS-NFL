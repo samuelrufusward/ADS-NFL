{
 "cells": [
  {
   "cell_type": "code",
   "execution_count": 66,
   "metadata": {
    "collapsed": true
   },
   "outputs": [],
   "source": [
    "import pandas as pd\n",
    "from sklearn.model_selection import train_test_split\n",
    "from sklearn.metrics import confusion_matrix, accuracy_score, mean_absolute_percentage_error, explained_variance_score"
   ]
  },
  {
   "cell_type": "code",
   "execution_count": 3,
   "outputs": [],
   "source": [
    "# Import plays data\n",
    "df = pd.read_csv(\"./data/plays.csv\")"
   ],
   "metadata": {
    "collapsed": false
   }
  },
  {
   "cell_type": "code",
   "execution_count": 4,
   "outputs": [
    {
     "data": {
      "text/plain": "       gameId  playId                                    playDescription  \\\n0  2018090600      37  J.Elliott kicks 65 yards from PHI 35 to end zo...   \n1  2018090600     366  (9:20) C.Johnston punts 56 yards to ATL 36, Ce...   \n2  2018090600     658  (5:03) M.Bryant 21 yard field goal is GOOD, Ce...   \n3  2018090600     677  M.Bosher kicks 64 yards from ATL 35 to PHI 1. ...   \n4  2018090600     872  (:33) C.Johnston punts 65 yards to end zone, C...   \n\n   quarter  down  yardsToGo possessionTeam specialTeamsPlayType  \\\n0        1     0          0            PHI              Kickoff   \n1        1     4          4            PHI                 Punt   \n2        1     4          3            ATL           Field Goal   \n3        1     0          0            ATL              Kickoff   \n4        1     4         18            PHI                 Punt   \n\n  specialTeamsResult  kickerId  ... penaltyCodes  penaltyJerseyNumbers  \\\n0          Touchback   44966.0  ...          NaN                   NaN   \n1             Return   45603.0  ...         UNSd                PHI 18   \n2  Kick Attempt Good   27091.0  ...          NaN                   NaN   \n3             Return   37267.0  ...          NaN                   NaN   \n4          Touchback   45603.0  ...          NaN                   NaN   \n\n  penaltyYards  preSnapHomeScore preSnapVisitorScore passResult kickLength  \\\n0          NaN                 0                   0        NaN       66.0   \n1        -15.0                 0                   0        NaN       56.0   \n2          NaN                 0                   0        NaN       21.0   \n3          NaN                 0                   3        NaN       64.0   \n4          NaN                 0                   3        NaN       65.0   \n\n   kickReturnYardage  playResult  absoluteYardlineNumber  \n0                NaN          40                      45  \n1                5.0          36                      18  \n2                NaN           0                      13  \n3               30.0          34                      75  \n4                NaN          45                      45  \n\n[5 rows x 25 columns]",
      "text/html": "<div>\n<style scoped>\n    .dataframe tbody tr th:only-of-type {\n        vertical-align: middle;\n    }\n\n    .dataframe tbody tr th {\n        vertical-align: top;\n    }\n\n    .dataframe thead th {\n        text-align: right;\n    }\n</style>\n<table border=\"1\" class=\"dataframe\">\n  <thead>\n    <tr style=\"text-align: right;\">\n      <th></th>\n      <th>gameId</th>\n      <th>playId</th>\n      <th>playDescription</th>\n      <th>quarter</th>\n      <th>down</th>\n      <th>yardsToGo</th>\n      <th>possessionTeam</th>\n      <th>specialTeamsPlayType</th>\n      <th>specialTeamsResult</th>\n      <th>kickerId</th>\n      <th>...</th>\n      <th>penaltyCodes</th>\n      <th>penaltyJerseyNumbers</th>\n      <th>penaltyYards</th>\n      <th>preSnapHomeScore</th>\n      <th>preSnapVisitorScore</th>\n      <th>passResult</th>\n      <th>kickLength</th>\n      <th>kickReturnYardage</th>\n      <th>playResult</th>\n      <th>absoluteYardlineNumber</th>\n    </tr>\n  </thead>\n  <tbody>\n    <tr>\n      <th>0</th>\n      <td>2018090600</td>\n      <td>37</td>\n      <td>J.Elliott kicks 65 yards from PHI 35 to end zo...</td>\n      <td>1</td>\n      <td>0</td>\n      <td>0</td>\n      <td>PHI</td>\n      <td>Kickoff</td>\n      <td>Touchback</td>\n      <td>44966.0</td>\n      <td>...</td>\n      <td>NaN</td>\n      <td>NaN</td>\n      <td>NaN</td>\n      <td>0</td>\n      <td>0</td>\n      <td>NaN</td>\n      <td>66.0</td>\n      <td>NaN</td>\n      <td>40</td>\n      <td>45</td>\n    </tr>\n    <tr>\n      <th>1</th>\n      <td>2018090600</td>\n      <td>366</td>\n      <td>(9:20) C.Johnston punts 56 yards to ATL 36, Ce...</td>\n      <td>1</td>\n      <td>4</td>\n      <td>4</td>\n      <td>PHI</td>\n      <td>Punt</td>\n      <td>Return</td>\n      <td>45603.0</td>\n      <td>...</td>\n      <td>UNSd</td>\n      <td>PHI 18</td>\n      <td>-15.0</td>\n      <td>0</td>\n      <td>0</td>\n      <td>NaN</td>\n      <td>56.0</td>\n      <td>5.0</td>\n      <td>36</td>\n      <td>18</td>\n    </tr>\n    <tr>\n      <th>2</th>\n      <td>2018090600</td>\n      <td>658</td>\n      <td>(5:03) M.Bryant 21 yard field goal is GOOD, Ce...</td>\n      <td>1</td>\n      <td>4</td>\n      <td>3</td>\n      <td>ATL</td>\n      <td>Field Goal</td>\n      <td>Kick Attempt Good</td>\n      <td>27091.0</td>\n      <td>...</td>\n      <td>NaN</td>\n      <td>NaN</td>\n      <td>NaN</td>\n      <td>0</td>\n      <td>0</td>\n      <td>NaN</td>\n      <td>21.0</td>\n      <td>NaN</td>\n      <td>0</td>\n      <td>13</td>\n    </tr>\n    <tr>\n      <th>3</th>\n      <td>2018090600</td>\n      <td>677</td>\n      <td>M.Bosher kicks 64 yards from ATL 35 to PHI 1. ...</td>\n      <td>1</td>\n      <td>0</td>\n      <td>0</td>\n      <td>ATL</td>\n      <td>Kickoff</td>\n      <td>Return</td>\n      <td>37267.0</td>\n      <td>...</td>\n      <td>NaN</td>\n      <td>NaN</td>\n      <td>NaN</td>\n      <td>0</td>\n      <td>3</td>\n      <td>NaN</td>\n      <td>64.0</td>\n      <td>30.0</td>\n      <td>34</td>\n      <td>75</td>\n    </tr>\n    <tr>\n      <th>4</th>\n      <td>2018090600</td>\n      <td>872</td>\n      <td>(:33) C.Johnston punts 65 yards to end zone, C...</td>\n      <td>1</td>\n      <td>4</td>\n      <td>18</td>\n      <td>PHI</td>\n      <td>Punt</td>\n      <td>Touchback</td>\n      <td>45603.0</td>\n      <td>...</td>\n      <td>NaN</td>\n      <td>NaN</td>\n      <td>NaN</td>\n      <td>0</td>\n      <td>3</td>\n      <td>NaN</td>\n      <td>65.0</td>\n      <td>NaN</td>\n      <td>45</td>\n      <td>45</td>\n    </tr>\n  </tbody>\n</table>\n<p>5 rows × 25 columns</p>\n</div>"
     },
     "execution_count": 4,
     "metadata": {},
     "output_type": "execute_result"
    }
   ],
   "source": [
    "df.head()"
   ],
   "metadata": {
    "collapsed": false
   }
  },
  {
   "cell_type": "code",
   "execution_count": 19,
   "outputs": [
    {
     "data": {
      "text/plain": "C     23\nI     17\nS      3\nIN     2\nName: passResult, dtype: int64"
     },
     "execution_count": 19,
     "metadata": {},
     "output_type": "execute_result"
    }
   ],
   "source": [
    "df.passResult.value_counts()"
   ],
   "metadata": {
    "collapsed": false
   }
  },
  {
   "cell_type": "code",
   "execution_count": 20,
   "outputs": [],
   "source": [
    "# Create binary dummy variables for multilabel categorical feature variables\n",
    "playTypeDummies = pd.get_dummies(df.specialTeamsPlayType)\n",
    "teamResultDummies = pd.get_dummies(df.specialTeamsResult)\n",
    "passResultDummies = pd.get_dummies(df.passResult)"
   ],
   "metadata": {
    "collapsed": false
   }
  },
  {
   "cell_type": "code",
   "execution_count": 21,
   "outputs": [
    {
     "data": {
      "text/plain": "   Extra Point  Field Goal  Kickoff  Punt\n0            0           0        1     0\n1            0           0        0     1\n2            0           1        0     0\n3            0           0        1     0\n4            0           0        0     1",
      "text/html": "<div>\n<style scoped>\n    .dataframe tbody tr th:only-of-type {\n        vertical-align: middle;\n    }\n\n    .dataframe tbody tr th {\n        vertical-align: top;\n    }\n\n    .dataframe thead th {\n        text-align: right;\n    }\n</style>\n<table border=\"1\" class=\"dataframe\">\n  <thead>\n    <tr style=\"text-align: right;\">\n      <th></th>\n      <th>Extra Point</th>\n      <th>Field Goal</th>\n      <th>Kickoff</th>\n      <th>Punt</th>\n    </tr>\n  </thead>\n  <tbody>\n    <tr>\n      <th>0</th>\n      <td>0</td>\n      <td>0</td>\n      <td>1</td>\n      <td>0</td>\n    </tr>\n    <tr>\n      <th>1</th>\n      <td>0</td>\n      <td>0</td>\n      <td>0</td>\n      <td>1</td>\n    </tr>\n    <tr>\n      <th>2</th>\n      <td>0</td>\n      <td>1</td>\n      <td>0</td>\n      <td>0</td>\n    </tr>\n    <tr>\n      <th>3</th>\n      <td>0</td>\n      <td>0</td>\n      <td>1</td>\n      <td>0</td>\n    </tr>\n    <tr>\n      <th>4</th>\n      <td>0</td>\n      <td>0</td>\n      <td>0</td>\n      <td>1</td>\n    </tr>\n  </tbody>\n</table>\n</div>"
     },
     "execution_count": 21,
     "metadata": {},
     "output_type": "execute_result"
    }
   ],
   "source": [
    "playTypeDummies.head()"
   ],
   "metadata": {
    "collapsed": false
   }
  },
  {
   "cell_type": "code",
   "execution_count": 55,
   "outputs": [],
   "source": [
    "X = df.copy().drop(['gameId', 'playId', 'playDescription', 'possessionTeam', 'specialTeamsPlayType', 'specialTeamsResult', 'kickerId', 'returnerId', 'kickBlockerId', 'yardlineSide', 'gameClock', 'penaltyCodes', 'penaltyJerseyNumbers', 'playResult', 'passResult'], axis=1)\n",
    "\n",
    "# Add dummy variable columns to observation data\n",
    "X = X.join(playTypeDummies)\n",
    "X = X.join(teamResultDummies)\n",
    "X = X.join(passResultDummies)\n",
    "\n",
    "# Replace yardage NaNs with 0\n",
    "X.penaltyYards = X.penaltyYards.fillna(0)\n",
    "X.kickReturnYardage = X.kickReturnYardage.fillna(0)\n",
    "\n",
    "# Replace kick length NaN with 0\n",
    "X.kickLength = X.kickLength.fillna(0)\n",
    "\n",
    "\n",
    "y = pd.to_numeric(df.playResult).astype(float)"
   ],
   "metadata": {
    "collapsed": false
   }
  },
  {
   "cell_type": "code",
   "execution_count": 56,
   "outputs": [
    {
     "data": {
      "text/plain": "   quarter  down  yardsToGo  yardlineNumber  penaltyYards  preSnapHomeScore  \\\n0        1     0          0              35           0.0                 0   \n1        1     4          4               8         -15.0                 0   \n2        1     4          3               3           0.0                 0   \n3        1     0          0              35           0.0                 0   \n4        1     4         18              35           0.0                 0   \n\n   preSnapVisitorScore  kickLength  kickReturnYardage  absoluteYardlineNumber  \\\n0                    0        66.0                0.0                      45   \n1                    0        56.0                5.0                      18   \n2                    0        21.0                0.0                      13   \n3                    3        64.0               30.0                      75   \n4                    3        65.0                0.0                      45   \n\n   ...  Kickoff Team Recovery  Muffed  Non-Special Teams Result  \\\n0  ...                      0       0                         0   \n1  ...                      0       0                         0   \n2  ...                      0       0                         0   \n3  ...                      0       0                         0   \n4  ...                      0       0                         0   \n\n   Out of Bounds  Return  Touchback  C  I  IN  S  \n0              0       0          1  0  0   0  0  \n1              0       1          0  0  0   0  0  \n2              0       0          0  0  0   0  0  \n3              0       1          0  0  0   0  0  \n4              0       0          1  0  0   0  0  \n\n[5 rows x 30 columns]",
      "text/html": "<div>\n<style scoped>\n    .dataframe tbody tr th:only-of-type {\n        vertical-align: middle;\n    }\n\n    .dataframe tbody tr th {\n        vertical-align: top;\n    }\n\n    .dataframe thead th {\n        text-align: right;\n    }\n</style>\n<table border=\"1\" class=\"dataframe\">\n  <thead>\n    <tr style=\"text-align: right;\">\n      <th></th>\n      <th>quarter</th>\n      <th>down</th>\n      <th>yardsToGo</th>\n      <th>yardlineNumber</th>\n      <th>penaltyYards</th>\n      <th>preSnapHomeScore</th>\n      <th>preSnapVisitorScore</th>\n      <th>kickLength</th>\n      <th>kickReturnYardage</th>\n      <th>absoluteYardlineNumber</th>\n      <th>...</th>\n      <th>Kickoff Team Recovery</th>\n      <th>Muffed</th>\n      <th>Non-Special Teams Result</th>\n      <th>Out of Bounds</th>\n      <th>Return</th>\n      <th>Touchback</th>\n      <th>C</th>\n      <th>I</th>\n      <th>IN</th>\n      <th>S</th>\n    </tr>\n  </thead>\n  <tbody>\n    <tr>\n      <th>0</th>\n      <td>1</td>\n      <td>0</td>\n      <td>0</td>\n      <td>35</td>\n      <td>0.0</td>\n      <td>0</td>\n      <td>0</td>\n      <td>66.0</td>\n      <td>0.0</td>\n      <td>45</td>\n      <td>...</td>\n      <td>0</td>\n      <td>0</td>\n      <td>0</td>\n      <td>0</td>\n      <td>0</td>\n      <td>1</td>\n      <td>0</td>\n      <td>0</td>\n      <td>0</td>\n      <td>0</td>\n    </tr>\n    <tr>\n      <th>1</th>\n      <td>1</td>\n      <td>4</td>\n      <td>4</td>\n      <td>8</td>\n      <td>-15.0</td>\n      <td>0</td>\n      <td>0</td>\n      <td>56.0</td>\n      <td>5.0</td>\n      <td>18</td>\n      <td>...</td>\n      <td>0</td>\n      <td>0</td>\n      <td>0</td>\n      <td>0</td>\n      <td>1</td>\n      <td>0</td>\n      <td>0</td>\n      <td>0</td>\n      <td>0</td>\n      <td>0</td>\n    </tr>\n    <tr>\n      <th>2</th>\n      <td>1</td>\n      <td>4</td>\n      <td>3</td>\n      <td>3</td>\n      <td>0.0</td>\n      <td>0</td>\n      <td>0</td>\n      <td>21.0</td>\n      <td>0.0</td>\n      <td>13</td>\n      <td>...</td>\n      <td>0</td>\n      <td>0</td>\n      <td>0</td>\n      <td>0</td>\n      <td>0</td>\n      <td>0</td>\n      <td>0</td>\n      <td>0</td>\n      <td>0</td>\n      <td>0</td>\n    </tr>\n    <tr>\n      <th>3</th>\n      <td>1</td>\n      <td>0</td>\n      <td>0</td>\n      <td>35</td>\n      <td>0.0</td>\n      <td>0</td>\n      <td>3</td>\n      <td>64.0</td>\n      <td>30.0</td>\n      <td>75</td>\n      <td>...</td>\n      <td>0</td>\n      <td>0</td>\n      <td>0</td>\n      <td>0</td>\n      <td>1</td>\n      <td>0</td>\n      <td>0</td>\n      <td>0</td>\n      <td>0</td>\n      <td>0</td>\n    </tr>\n    <tr>\n      <th>4</th>\n      <td>1</td>\n      <td>4</td>\n      <td>18</td>\n      <td>35</td>\n      <td>0.0</td>\n      <td>0</td>\n      <td>3</td>\n      <td>65.0</td>\n      <td>0.0</td>\n      <td>45</td>\n      <td>...</td>\n      <td>0</td>\n      <td>0</td>\n      <td>0</td>\n      <td>0</td>\n      <td>0</td>\n      <td>1</td>\n      <td>0</td>\n      <td>0</td>\n      <td>0</td>\n      <td>0</td>\n    </tr>\n  </tbody>\n</table>\n<p>5 rows × 30 columns</p>\n</div>"
     },
     "execution_count": 56,
     "metadata": {},
     "output_type": "execute_result"
    }
   ],
   "source": [
    "X.head()"
   ],
   "metadata": {
    "collapsed": false
   }
  },
  {
   "cell_type": "code",
   "execution_count": 57,
   "outputs": [],
   "source": [
    "X_train, X_test, y_train, y_test = train_test_split(X, y, test_size=0.33, random_state=1)"
   ],
   "metadata": {
    "collapsed": false
   }
  },
  {
   "cell_type": "markdown",
   "source": [
    "# Random Forest Predictive Model"
   ],
   "metadata": {
    "collapsed": false
   }
  },
  {
   "cell_type": "code",
   "execution_count": 58,
   "outputs": [],
   "source": [
    "from sklearn.ensemble import RandomForestRegressor"
   ],
   "metadata": {
    "collapsed": false
   }
  },
  {
   "cell_type": "code",
   "execution_count": 59,
   "outputs": [
    {
     "data": {
      "text/plain": "RandomForestRegressor(n_estimators=1000, oob_score=True)",
      "text/html": "<style>#sk-container-id-3 {color: black;background-color: white;}#sk-container-id-3 pre{padding: 0;}#sk-container-id-3 div.sk-toggleable {background-color: white;}#sk-container-id-3 label.sk-toggleable__label {cursor: pointer;display: block;width: 100%;margin-bottom: 0;padding: 0.3em;box-sizing: border-box;text-align: center;}#sk-container-id-3 label.sk-toggleable__label-arrow:before {content: \"▸\";float: left;margin-right: 0.25em;color: #696969;}#sk-container-id-3 label.sk-toggleable__label-arrow:hover:before {color: black;}#sk-container-id-3 div.sk-estimator:hover label.sk-toggleable__label-arrow:before {color: black;}#sk-container-id-3 div.sk-toggleable__content {max-height: 0;max-width: 0;overflow: hidden;text-align: left;background-color: #f0f8ff;}#sk-container-id-3 div.sk-toggleable__content pre {margin: 0.2em;color: black;border-radius: 0.25em;background-color: #f0f8ff;}#sk-container-id-3 input.sk-toggleable__control:checked~div.sk-toggleable__content {max-height: 200px;max-width: 100%;overflow: auto;}#sk-container-id-3 input.sk-toggleable__control:checked~label.sk-toggleable__label-arrow:before {content: \"▾\";}#sk-container-id-3 div.sk-estimator input.sk-toggleable__control:checked~label.sk-toggleable__label {background-color: #d4ebff;}#sk-container-id-3 div.sk-label input.sk-toggleable__control:checked~label.sk-toggleable__label {background-color: #d4ebff;}#sk-container-id-3 input.sk-hidden--visually {border: 0;clip: rect(1px 1px 1px 1px);clip: rect(1px, 1px, 1px, 1px);height: 1px;margin: -1px;overflow: hidden;padding: 0;position: absolute;width: 1px;}#sk-container-id-3 div.sk-estimator {font-family: monospace;background-color: #f0f8ff;border: 1px dotted black;border-radius: 0.25em;box-sizing: border-box;margin-bottom: 0.5em;}#sk-container-id-3 div.sk-estimator:hover {background-color: #d4ebff;}#sk-container-id-3 div.sk-parallel-item::after {content: \"\";width: 100%;border-bottom: 1px solid gray;flex-grow: 1;}#sk-container-id-3 div.sk-label:hover label.sk-toggleable__label {background-color: #d4ebff;}#sk-container-id-3 div.sk-serial::before {content: \"\";position: absolute;border-left: 1px solid gray;box-sizing: border-box;top: 0;bottom: 0;left: 50%;z-index: 0;}#sk-container-id-3 div.sk-serial {display: flex;flex-direction: column;align-items: center;background-color: white;padding-right: 0.2em;padding-left: 0.2em;position: relative;}#sk-container-id-3 div.sk-item {position: relative;z-index: 1;}#sk-container-id-3 div.sk-parallel {display: flex;align-items: stretch;justify-content: center;background-color: white;position: relative;}#sk-container-id-3 div.sk-item::before, #sk-container-id-3 div.sk-parallel-item::before {content: \"\";position: absolute;border-left: 1px solid gray;box-sizing: border-box;top: 0;bottom: 0;left: 50%;z-index: -1;}#sk-container-id-3 div.sk-parallel-item {display: flex;flex-direction: column;z-index: 1;position: relative;background-color: white;}#sk-container-id-3 div.sk-parallel-item:first-child::after {align-self: flex-end;width: 50%;}#sk-container-id-3 div.sk-parallel-item:last-child::after {align-self: flex-start;width: 50%;}#sk-container-id-3 div.sk-parallel-item:only-child::after {width: 0;}#sk-container-id-3 div.sk-dashed-wrapped {border: 1px dashed gray;margin: 0 0.4em 0.5em 0.4em;box-sizing: border-box;padding-bottom: 0.4em;background-color: white;}#sk-container-id-3 div.sk-label label {font-family: monospace;font-weight: bold;display: inline-block;line-height: 1.2em;}#sk-container-id-3 div.sk-label-container {text-align: center;}#sk-container-id-3 div.sk-container {/* jupyter's `normalize.less` sets `[hidden] { display: none; }` but bootstrap.min.css set `[hidden] { display: none !important; }` so we also need the `!important` here to be able to override the default hidden behavior on the sphinx rendered scikit-learn.org. See: https://github.com/scikit-learn/scikit-learn/issues/21755 */display: inline-block !important;position: relative;}#sk-container-id-3 div.sk-text-repr-fallback {display: none;}</style><div id=\"sk-container-id-3\" class=\"sk-top-container\"><div class=\"sk-text-repr-fallback\"><pre>RandomForestRegressor(n_estimators=1000, oob_score=True)</pre><b>In a Jupyter environment, please rerun this cell to show the HTML representation or trust the notebook. <br />On GitHub, the HTML representation is unable to render, please try loading this page with nbviewer.org.</b></div><div class=\"sk-container\" hidden><div class=\"sk-item\"><div class=\"sk-estimator sk-toggleable\"><input class=\"sk-toggleable__control sk-hidden--visually\" id=\"sk-estimator-id-3\" type=\"checkbox\" checked><label for=\"sk-estimator-id-3\" class=\"sk-toggleable__label sk-toggleable__label-arrow\">RandomForestRegressor</label><div class=\"sk-toggleable__content\"><pre>RandomForestRegressor(n_estimators=1000, oob_score=True)</pre></div></div></div></div></div>"
     },
     "execution_count": 59,
     "metadata": {},
     "output_type": "execute_result"
    }
   ],
   "source": [
    "# Build random forest model\n",
    "rf = RandomForestRegressor(n_estimators=1000, oob_score=True)\n",
    "rf.fit(X_train, y_train)"
   ],
   "metadata": {
    "collapsed": false
   }
  },
  {
   "cell_type": "code",
   "execution_count": 60,
   "outputs": [],
   "source": [
    "# Make predictions using test data\n",
    "y_pred = rf.predict(X_test)"
   ],
   "metadata": {
    "collapsed": false
   }
  },
  {
   "cell_type": "code",
   "execution_count": 65,
   "outputs": [
    {
     "data": {
      "text/plain": "32564699762363.58"
     },
     "execution_count": 65,
     "metadata": {},
     "output_type": "execute_result"
    }
   ],
   "source": [
    "mean_absolute_percentage_error(y_test.values, y_pred)"
   ],
   "metadata": {
    "collapsed": false
   }
  },
  {
   "cell_type": "code",
   "execution_count": 67,
   "outputs": [
    {
     "data": {
      "text/plain": "0.991881357436049"
     },
     "execution_count": 67,
     "metadata": {},
     "output_type": "execute_result"
    }
   ],
   "source": [
    "explained_variance_score(y_test.values, y_pred)"
   ],
   "metadata": {
    "collapsed": false
   }
  },
  {
   "cell_type": "code",
   "execution_count": 69,
   "outputs": [
    {
     "data": {
      "text/plain": "0.9908064688545024"
     },
     "execution_count": 69,
     "metadata": {},
     "output_type": "execute_result"
    }
   ],
   "source": [
    "rf.oob_score_"
   ],
   "metadata": {
    "collapsed": false
   }
  },
  {
   "cell_type": "code",
   "execution_count": 72,
   "outputs": [
    {
     "name": "stdout",
     "output_type": "stream",
     "text": [
      "IN                          0.000000e+00\n",
      "Kickoff Team Recovery       6.183419e-07\n",
      "Out of Bounds               4.102358e-06\n",
      "S                           9.869230e-06\n",
      "Fair Catch                  1.593397e-05\n",
      "I                           2.592218e-05\n",
      "Muffed                      8.272068e-05\n",
      "Downed                      8.306002e-05\n",
      "Kickoff                     8.764479e-05\n",
      "Return                      1.223444e-04\n",
      "Punt                        1.923887e-04\n",
      "Extra Point                 2.302052e-04\n",
      "C                           2.756668e-04\n",
      "Blocked Kick Attempt        3.437246e-04\n",
      "quarter                     3.539525e-04\n",
      "Field Goal                  6.128104e-04\n",
      "preSnapHomeScore            8.575313e-04\n",
      "down                        9.681534e-04\n",
      "Non-Special Teams Result    1.000498e-03\n",
      "absoluteYardlineNumber      1.052733e-03\n",
      "yardsToGo                   1.165877e-03\n",
      "preSnapVisitorScore         1.353272e-03\n",
      "Blocked Punt                1.461907e-03\n",
      "yardlineNumber              5.637125e-03\n",
      "Touchback                   6.379071e-03\n",
      "penaltyYards                1.806669e-02\n",
      "kickReturnYardage           6.013431e-02\n",
      "kickLength                  1.068308e-01\n",
      "Kick Attempt No Good        1.338003e-01\n",
      "Kick Attempt Good           6.588508e-01\n",
      "dtype: float64\n"
     ]
    }
   ],
   "source": [
    "forest_importances = pd.Series(rf.feature_importances_, index=X_train.columns).sort_values()\n",
    "print(forest_importances)"
   ],
   "metadata": {
    "collapsed": false
   }
  },
  {
   "cell_type": "code",
   "execution_count": null,
   "outputs": [],
   "source": [],
   "metadata": {
    "collapsed": false
   }
  }
 ],
 "metadata": {
  "kernelspec": {
   "display_name": "Python 3",
   "language": "python",
   "name": "python3"
  },
  "language_info": {
   "codemirror_mode": {
    "name": "ipython",
    "version": 2
   },
   "file_extension": ".py",
   "mimetype": "text/x-python",
   "name": "python",
   "nbconvert_exporter": "python",
   "pygments_lexer": "ipython2",
   "version": "2.7.6"
  }
 },
 "nbformat": 4,
 "nbformat_minor": 0
}
