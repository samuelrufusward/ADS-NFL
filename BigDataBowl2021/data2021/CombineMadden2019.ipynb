{
 "cells": [
  {
   "cell_type": "code",
   "execution_count": 1,
   "id": "e53f97f5",
   "metadata": {},
   "outputs": [],
   "source": [
    "import pandas as pd"
   ]
  },
  {
   "cell_type": "code",
   "execution_count": 2,
   "id": "04028e5f",
   "metadata": {},
   "outputs": [],
   "source": [
    "madden_df = pd.read_csv(\"Madden 19 Full Player Ratings.csv\")\n",
    "players_df = pd.read_csv(\"players2018.csv\")"
   ]
  },
  {
   "cell_type": "code",
   "execution_count": 3,
   "id": "c3dc7521",
   "metadata": {},
   "outputs": [
    {
     "name": "stdout",
     "output_type": "stream",
     "text": [
      "     nflId height  weight   birthDate             collegeName position  \\\n",
      "0  2539334     72     190  1990-09-10              Washington       CB   \n",
      "1  2539653     70     186  1988-11-01  Southeastern Louisiana       CB   \n",
      "2  2543850     69     186  1991-12-18                  Purdue       SS   \n",
      "3  2555162     73     227  1994-11-04         Louisiana State      MLB   \n",
      "4  2555255     75     232  1993-07-01               Minnesota      OLB   \n",
      "\n",
      "          displayName  \n",
      "0     Desmond Trufant  \n",
      "1       Robert Alford  \n",
      "2       Ricardo Allen  \n",
      "3         Deion Jones  \n",
      "4  De'Vondre Campbell  \n"
     ]
    }
   ],
   "source": [
    "print(players_df.head())"
   ]
  },
  {
   "cell_type": "code",
   "execution_count": 4,
   "id": "ace94049",
   "metadata": {},
   "outputs": [
    {
     "name": "stdout",
     "output_type": "stream",
     "text": [
      "       Team  Jersey #            Name  Age Position  Height  Weight  Overall  \\\n",
      "0  Patriots        12       Tom Brady   41       QB      76     225       99   \n",
      "1  Patriots        87  Rob Gronkowski   29       TE      78     265       99   \n",
      "2  Steelers        84   Antonio Brown   30       WR      70     181       99   \n",
      "3   Broncos        58      Von Miller   29     LOLB      75     250       99   \n",
      "4   Packers        12   Aaron Rodgers   34       QB      74     225       99   \n",
      "\n",
      "   Awareness  Speed  ...  Kick Accuracy  Stamina  Injury  Toughness  \\\n",
      "0         99     61  ...             17       99      98         96   \n",
      "1         96     83  ...             20       92      77         93   \n",
      "2         99     92  ...             18       96      94         84   \n",
      "3         99     87  ...             15       92      93         88   \n",
      "4         99     79  ...             18       98      95         97   \n",
      "\n",
      "   Birthdate  Years Pro  Handedness           College      Total Salary   \\\n",
      "0   3/8/1977         18       Right          Michigan   $ 42,500,000.00    \n",
      "1  5/14/1989          8       Right           Arizona   $ 58,000,000.00    \n",
      "2  10/7/1988          8        Left  Central Michigan   $ 37,340,000.00    \n",
      "3  3/26/1989          7       Right          Texas AM   $ 53,600,000.00    \n",
      "4  2/12/1983         13       Right        California   $ 91,000,000.00    \n",
      "\n",
      "      Signing Bonus   \n",
      "0   $ 28,000,000.00   \n",
      "1   $ 11,000,000.00   \n",
      "2   $ 20,940,000.00   \n",
      "3   $ 16,420,000.00   \n",
      "4   $ 33,250,000.00   \n",
      "\n",
      "[5 rows x 67 columns]\n"
     ]
    }
   ],
   "source": [
    "print(madden_df.head())"
   ]
  },
  {
   "cell_type": "code",
   "execution_count": 5,
   "id": "dcb9a2be",
   "metadata": {},
   "outputs": [
    {
     "name": "stderr",
     "output_type": "stream",
     "text": [
      "C:\\Users\\ellio\\AppData\\Local\\Temp\\ipykernel_20236\\3887081095.py:2: UserWarning: Parsing dates in MM/DD/YYYY format when dayfirst=True was specified. This may lead to inconsistently parsed dates! Specify a format to ensure consistent parsing.\n",
      "  players_df['birthDate'] = pd.to_datetime(players_df['birthDate'], dayfirst=True)\n",
      "C:\\Users\\ellio\\AppData\\Local\\Temp\\ipykernel_20236\\3887081095.py:3: UserWarning: Parsing dates in MM/DD/YYYY format when dayfirst=True was specified. This may lead to inconsistently parsed dates! Specify a format to ensure consistent parsing.\n",
      "  madden_df['Birthdate'] = pd.to_datetime(madden_df['Birthdate'], dayfirst=True)\n"
     ]
    }
   ],
   "source": [
    "# Ensure all birthdates use the same formatting\n",
    "players_df['birthDate'] = pd.to_datetime(players_df['birthDate'], dayfirst=True)\n",
    "madden_df['Birthdate'] = pd.to_datetime(madden_df['Birthdate'], dayfirst=True)"
   ]
  },
  {
   "cell_type": "code",
   "execution_count": 6,
   "id": "b669ca99",
   "metadata": {},
   "outputs": [
    {
     "name": "stdout",
     "output_type": "stream",
     "text": [
      "0    1977-08-03\n",
      "1    1989-05-14\n",
      "2    1988-07-10\n",
      "3    1989-03-26\n",
      "4    1983-12-02\n",
      "5    1991-04-20\n",
      "6    1991-05-23\n",
      "7    1989-03-22\n",
      "8    1991-02-22\n",
      "9    1989-02-03\n",
      "10   1994-10-24\n",
      "11   1991-09-30\n",
      "12   1989-02-02\n",
      "13   1990-06-27\n",
      "14   1992-02-18\n",
      "15   1988-12-29\n",
      "16   1991-03-18\n",
      "17   1986-07-22\n",
      "18   1990-11-20\n",
      "19   1990-01-11\n",
      "20   1989-07-12\n",
      "21   1989-10-05\n",
      "22   1992-11-05\n",
      "23   1988-11-29\n",
      "24   1990-12-12\n",
      "25   1990-01-23\n",
      "26   1989-07-10\n",
      "27   1989-05-07\n",
      "28   1992-06-06\n",
      "29   1991-08-16\n",
      "30   1987-12-20\n",
      "31   1990-07-03\n",
      "32   1988-07-19\n",
      "33   1987-01-06\n",
      "34   1988-07-31\n",
      "35   1992-05-13\n",
      "36   1984-08-12\n",
      "37   1989-08-19\n",
      "38   1990-12-13\n",
      "39   1988-04-03\n",
      "40   1990-09-10\n",
      "Name: Birthdate, dtype: datetime64[ns]\n",
      "0    1990-09-10\n",
      "1    1988-11-01\n",
      "2    1991-12-18\n",
      "3    1994-11-04\n",
      "4    1993-07-01\n",
      "5    1995-07-26\n",
      "6    1992-10-20\n",
      "7    1986-01-08\n",
      "8    1989-01-20\n",
      "9    1990-11-10\n",
      "10   1993-06-15\n",
      "11   1993-05-24\n",
      "Name: birthDate, dtype: datetime64[ns]\n"
     ]
    }
   ],
   "source": [
    "print(madden_df['Birthdate'][:41])\n",
    "print(players_df['birthDate'][:12])"
   ]
  },
  {
   "cell_type": "markdown",
   "id": "d9f72874",
   "metadata": {},
   "source": [
    "# Add a column for names from the Madden data which include suffixes (e.g. Jr)\n"
   ]
  },
  {
   "cell_type": "code",
   "execution_count": 7,
   "id": "c5d5215c",
   "metadata": {},
   "outputs": [],
   "source": [
    "players_names_list = players_df[\"displayName\"]\n",
    "madden_names_list = madden_df[\"Name\"]"
   ]
  },
  {
   "cell_type": "code",
   "execution_count": 8,
   "id": "3aded47a",
   "metadata": {},
   "outputs": [
    {
     "name": "stdout",
     "output_type": "stream",
     "text": [
      "1303\n"
     ]
    }
   ],
   "source": [
    "count = 0\n",
    "updated_players_names = list(players_names_list)\n",
    "for name in players_names_list:\n",
    "    i = 0\n",
    "    while i < len(madden_names_list):\n",
    "        if name in madden_names_list[i]:\n",
    "            updated_players_names[count] = madden_names_list[i]\n",
    "            i = 10000\n",
    "        \n",
    "        i += 1\n",
    "    if name == 'Christian Kirk':\n",
    "            updated_players_names[count] = 'Christian Kirk'\n",
    "    count += 1\n",
    "\n",
    "print(len(updated_players_names))"
   ]
  },
  {
   "cell_type": "code",
   "execution_count": 9,
   "id": "869b311e",
   "metadata": {},
   "outputs": [
    {
     "name": "stdout",
     "output_type": "stream",
     "text": [
      "     nflId height  weight  birthDate             collegeName position  \\\n",
      "0  2539334     72     190 1990-09-10              Washington       CB   \n",
      "1  2539653     70     186 1988-11-01  Southeastern Louisiana       CB   \n",
      "2  2543850     69     186 1991-12-18                  Purdue       SS   \n",
      "3  2555162     73     227 1994-11-04         Louisiana State      MLB   \n",
      "4  2555255     75     232 1993-07-01               Minnesota      OLB   \n",
      "\n",
      "          displayName         updatedName  \n",
      "0     Desmond Trufant     Desmond Trufant  \n",
      "1       Robert Alford       Robert Alford  \n",
      "2       Ricardo Allen       Ricardo Allen  \n",
      "3         Deion Jones         Deion Jones  \n",
      "4  De'Vondre Campbell  De'Vondre Campbell  \n"
     ]
    }
   ],
   "source": [
    "players_df['updatedName'] = updated_players_names\n",
    "print(players_df.head())"
   ]
  },
  {
   "cell_type": "markdown",
   "id": "3ed5f1d4",
   "metadata": {},
   "source": [
    "# Now include those with slightly different punctuation"
   ]
  },
  {
   "cell_type": "code",
   "execution_count": 10,
   "id": "e69b5235",
   "metadata": {},
   "outputs": [],
   "source": [
    "def remove_punctuations(text):\n",
    "    for punctuation in string.punctuation:\n",
    "        text = text.replace(punctuation, '')\n",
    "    return text\n",
    "import string\n",
    "\n",
    "players_df[\"nopunctuationname\"] = players_df[\"updatedName\"].apply(remove_punctuations)\n",
    "madden_df[\"nopunctuationname\"] = madden_df[\"Name\"].apply(remove_punctuations)"
   ]
  },
  {
   "cell_type": "code",
   "execution_count": 11,
   "id": "53724f8c",
   "metadata": {},
   "outputs": [
    {
     "name": "stdout",
     "output_type": "stream",
     "text": [
      "0         Desmond Trufant\n",
      "1           Robert Alford\n",
      "2           Ricardo Allen\n",
      "3             Deion Jones\n",
      "4       DeVondre Campbell\n",
      "              ...        \n",
      "1298          Andrew East\n",
      "1299        Max McCaffrey\n",
      "1300         Sean Mannion\n",
      "1301     Darious Williams\n",
      "1302        Malachi Dupre\n",
      "Name: nopunctuationname, Length: 1303, dtype: object\n",
      "0            Tom Brady\n",
      "1       Rob Gronkowski\n",
      "2        Antonio Brown\n",
      "3           Von Miller\n",
      "4        Aaron Rodgers\n",
      "             ...      \n",
      "2347    Hunter Bradley\n",
      "2348       Joe Cardona\n",
      "2349       Drew Ferris\n",
      "2350       Luke Rhodes\n",
      "2351         Zach Wood\n",
      "Name: nopunctuationname, Length: 2352, dtype: object\n"
     ]
    }
   ],
   "source": [
    "print(players_df[\"nopunctuationname\"])\n",
    "print(madden_df[\"nopunctuationname\"])"
   ]
  },
  {
   "cell_type": "code",
   "execution_count": 12,
   "id": "9ca6d142",
   "metadata": {},
   "outputs": [
    {
     "name": "stdout",
     "output_type": "stream",
     "text": [
      "1157\n"
     ]
    }
   ],
   "source": [
    "madden_names_list = madden_df[\"Name\"]\n",
    "updated_players_names_list = players_df[\"updatedName\"]\n",
    "madden_nopunc = madden_df[\"nopunctuationname\"]\n",
    "players_nopunc = players_df[\"nopunctuationname\"]\n",
    "count = 0\n",
    "name_count = 0\n",
    "updated_players_names2 = list(players_names_list)\n",
    "for name in players_nopunc:\n",
    "    i = 0\n",
    "    while i < len(madden_names_list):\n",
    "        if name in madden_nopunc[i]:\n",
    "            name_count += 1\n",
    "            updated_players_names2[count] = madden_names_list[i]\n",
    "            i = 10000\n",
    "        i += 1\n",
    "    if name == 'Christian Kirk':\n",
    "            updated_players_names2[count] = 'Christian Kirk'\n",
    "    count += 1\n",
    "print(name_count)"
   ]
  },
  {
   "cell_type": "code",
   "execution_count": 13,
   "id": "287559ae",
   "metadata": {},
   "outputs": [],
   "source": [
    "players_df['updatedName2'] = updated_players_names2\n",
    "players_df.to_csv('trialplayers.csv')  # Use to check file if necessary"
   ]
  },
  {
   "cell_type": "markdown",
   "id": "5aaa0d47",
   "metadata": {},
   "source": [
    "# Replace NA dates using the Madden data"
   ]
  },
  {
   "cell_type": "code",
   "execution_count": 14,
   "id": "b40bbde8",
   "metadata": {},
   "outputs": [],
   "source": [
    "# players_date = players_df['birthDate']\n",
    "# madden_date = madden_df['Birthdate']\n",
    "# players_names = players_df['updatedName2']\n",
    "# madden_names = madden_df[\"Name\"]\n",
    "# players_pos = players_df['position']\n",
    "# madden_pos = madden_df['Position']\n",
    "# count = 0\n",
    "# for date in players_date:\n",
    "#     if pd.DataFrame([date]).isnull()[0][0] == True:\n",
    "#         player = players_names[count]\n",
    "#         i = 0\n",
    "#         while i < len(madden_names):\n",
    "#             if player in madden_names[i]:\n",
    "#                 if player == 'Michael Carter':  # Michael Carter is the only duplicate name which has a nan in the date column\n",
    "#                     if players_pos[count] == madden_pos[i]:\n",
    "#                         players_date[count] = madden_date[i]\n",
    "#                 else:\n",
    "#                     players_date[count] = madden_date[i]\n",
    "#             i += 1\n",
    "        \n",
    "#     count += 1"
   ]
  },
  {
   "cell_type": "code",
   "execution_count": 15,
   "id": "e13e995d",
   "metadata": {},
   "outputs": [
    {
     "name": "stdout",
     "output_type": "stream",
     "text": [
      "0      1990-09-10\n",
      "1      1988-11-01\n",
      "2      1991-12-18\n",
      "3      1994-11-04\n",
      "4      1993-07-01\n",
      "          ...    \n",
      "1298   1991-09-17\n",
      "1299   1994-05-17\n",
      "1300   1992-04-25\n",
      "1301   1993-03-15\n",
      "1302   1995-12-10\n",
      "Name: birthDate, Length: 1303, dtype: datetime64[ns]\n"
     ]
    }
   ],
   "source": [
    "print(players_df['birthDate'])\n",
    "#players_df.to_csv('trialnewdate.csv')"
   ]
  },
  {
   "cell_type": "markdown",
   "id": "a4a4d8c6",
   "metadata": {},
   "source": [
    "# Combine the two datasets using the D.O.B and Full name"
   ]
  },
  {
   "cell_type": "markdown",
   "id": "38dea4fa",
   "metadata": {},
   "source": [
    "First we need to make sure the column names match up (rename column titles)"
   ]
  },
  {
   "cell_type": "code",
   "execution_count": 16,
   "id": "a09e241e",
   "metadata": {},
   "outputs": [
    {
     "name": "stdout",
     "output_type": "stream",
     "text": [
      "Index(['Team', 'Jersey #', 'updatedName2', 'Age', 'Position', 'Height',\n",
      "       'Weight', 'Overall', 'Awareness', 'Speed', 'Agility', 'Acceleration',\n",
      "       'Strength', 'Jumping', 'Throw Power', 'Throw Accuracy Short',\n",
      "       'Throw Accuracy Mid', 'Throw Accuracy Deep', 'Throw on the Run',\n",
      "       'Throw Under Pressure', 'Playaction', 'Break Sack', 'Carrying',\n",
      "       'BC Vision', 'Break Tackle', 'Trucking', 'Elusiveness', 'Juke Move',\n",
      "       'Spin Move', 'Stiff Arm', 'Catch', 'Catch in Traffic', 'Spec. Catch',\n",
      "       'Short Route Runing', 'Medium Route Running', 'Deep Route Running',\n",
      "       'Release', 'Run Block', 'Pass Block', 'Run Block Power',\n",
      "       'Pass Block Power', 'Run Block Finesse', 'Pass Block Finesse',\n",
      "       'Lead Block', 'Impact Blocking', 'Power Moves', 'Finesse Moves',\n",
      "       'Block Shedding', 'Tackle', 'Play Recognition', 'Pursuit', 'Hit Power',\n",
      "       'Man Coverage', 'Zone Coverage', 'Press', 'Kick Return', 'Kick Power',\n",
      "       'Kick Accuracy', 'Stamina', 'Injury', 'Toughness', 'birthDate',\n",
      "       'Years Pro', 'Handedness', 'College', ' Total Salary ',\n",
      "       ' Signing Bonus ', 'nopunctuationname'],\n",
      "      dtype='object')\n",
      "Index(['nflId', 'height', 'weight', 'birthDate', 'collegeName', 'position',\n",
      "       'displayName', 'updatedName', 'nopunctuationname', 'updatedName2'],\n",
      "      dtype='object')\n"
     ]
    }
   ],
   "source": [
    "madden_df.rename(columns={\"Birthdate\": \"birthDate\"}, inplace=True)\n",
    "madden_df.rename(columns={\"Name\": \"updatedName2\"}, inplace=True)\n",
    "print(madden_df.columns)\n",
    "print(players_df.columns)"
   ]
  },
  {
   "cell_type": "markdown",
   "id": "943f5822",
   "metadata": {},
   "source": [
    "Now we can combine the two datasets"
   ]
  },
  {
   "cell_type": "code",
   "execution_count": 17,
   "id": "4e7d7fe2",
   "metadata": {},
   "outputs": [
    {
     "name": "stdout",
     "output_type": "stream",
     "text": [
      "Index([' Signing Bonus ', ' Total Salary ', 'Acceleration', 'Age', 'Agility',\n",
      "       'Awareness', 'BC Vision', 'Block Shedding', 'Break Sack',\n",
      "       'Break Tackle', 'Carrying', 'Catch', 'Catch in Traffic', 'College',\n",
      "       'Deep Route Running', 'Elusiveness', 'Finesse Moves', 'Handedness',\n",
      "       'Height', 'Hit Power', 'Impact Blocking', 'Injury', 'Jersey #',\n",
      "       'Juke Move', 'Jumping', 'Kick Accuracy', 'Kick Power', 'Kick Return',\n",
      "       'Lead Block', 'Man Coverage', 'Medium Route Running', 'Overall',\n",
      "       'Pass Block', 'Pass Block Finesse', 'Pass Block Power',\n",
      "       'Play Recognition', 'Playaction', 'Position', 'Power Moves', 'Press',\n",
      "       'Pursuit', 'Release', 'Run Block', 'Run Block Finesse',\n",
      "       'Run Block Power', 'Short Route Runing', 'Spec. Catch', 'Speed',\n",
      "       'Spin Move', 'Stamina', 'Stiff Arm', 'Strength', 'Tackle', 'Team',\n",
      "       'Throw Accuracy Deep', 'Throw Accuracy Mid', 'Throw Accuracy Short',\n",
      "       'Throw Power', 'Throw Under Pressure', 'Throw on the Run', 'Toughness',\n",
      "       'Trucking', 'Weight', 'Years Pro', 'Zone Coverage', 'birthDate',\n",
      "       'collegeName', 'displayName', 'height', 'nflId', 'nopunctuationname_x',\n",
      "       'nopunctuationname_y', 'position', 'updatedName', 'updatedName2',\n",
      "       'weight'],\n",
      "      dtype='object')\n"
     ]
    }
   ],
   "source": [
    "merged_df = players_df.merge(madden_df, on=['birthDate','updatedName2']).sort_index(axis=1)\n",
    "print(merged_df.columns)"
   ]
  },
  {
   "cell_type": "code",
   "execution_count": 18,
   "id": "1d25c4f8",
   "metadata": {},
   "outputs": [
    {
     "name": "stdout",
     "output_type": "stream",
     "text": [
      "Index([' Signing Bonus ', ' Total Salary ', 'Acceleration', 'Age', 'Agility',\n",
      "       'Awareness', 'BC Vision', 'Block Shedding', 'Break Sack',\n",
      "       'Break Tackle', 'Carrying', 'Catch', 'Catch in Traffic', 'College',\n",
      "       'Deep Route Running', 'Elusiveness', 'Finesse Moves', 'Handedness',\n",
      "       'Height', 'Hit Power', 'Impact Blocking', 'Injury', 'Jersey #',\n",
      "       'Juke Move', 'Jumping', 'Kick Accuracy', 'Kick Power', 'Kick Return',\n",
      "       'Lead Block', 'Man Coverage', 'Medium Route Running', 'Overall',\n",
      "       'Pass Block', 'Pass Block Finesse', 'Pass Block Power',\n",
      "       'Play Recognition', 'Playaction', 'Position', 'Power Moves', 'Press',\n",
      "       'Pursuit', 'Release', 'Run Block', 'Run Block Finesse',\n",
      "       'Run Block Power', 'Short Route Runing', 'Spec. Catch', 'Speed',\n",
      "       'Spin Move', 'Stamina', 'Stiff Arm', 'Strength', 'Tackle', 'Team',\n",
      "       'Throw Accuracy Deep', 'Throw Accuracy Mid', 'Throw Accuracy Short',\n",
      "       'Throw Power', 'Throw Under Pressure', 'Throw on the Run', 'Toughness',\n",
      "       'Trucking', 'Weight', 'Years Pro', 'Zone Coverage', 'birthDate',\n",
      "       'collegeName', 'displayName', 'height', 'nflId', 'position',\n",
      "       'updatedName', 'updatedName2', 'weight'],\n",
      "      dtype='object')\n"
     ]
    }
   ],
   "source": [
    "merged_df = merged_df.drop(['nopunctuationname_x', 'nopunctuationname_y'], axis=1)\n",
    "print(merged_df.columns)\n",
    "merged_df.to_csv('merged_df2018.csv') "
   ]
  },
  {
   "cell_type": "code",
   "execution_count": 19,
   "id": "c115610e",
   "metadata": {},
   "outputs": [],
   "source": [
    "merged_df2 = players_df.merge(madden_df, on=['updatedName2']).sort_index(axis=1)\n",
    "merged_df2.to_csv('merged_df22018.csv') "
   ]
  },
  {
   "cell_type": "code",
   "execution_count": 20,
   "id": "f5e8f3a3",
   "metadata": {},
   "outputs": [],
   "source": [
    "merged_df3 = players_df.merge(madden_df, on=['birthDate']).sort_index(axis=1)\n",
    "merged_df3.to_csv('merged_df32018.csv') "
   ]
  }
 ],
 "metadata": {
  "kernelspec": {
   "display_name": "Python 3 (ipykernel)",
   "language": "python",
   "name": "python3"
  },
  "language_info": {
   "codemirror_mode": {
    "name": "ipython",
    "version": 3
   },
   "file_extension": ".py",
   "mimetype": "text/x-python",
   "name": "python",
   "nbconvert_exporter": "python",
   "pygments_lexer": "ipython3",
   "version": "3.10.6"
  }
 },
 "nbformat": 4,
 "nbformat_minor": 5
}
