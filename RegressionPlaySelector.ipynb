{
 "cells": [
  {
   "cell_type": "code",
   "execution_count": 80,
   "metadata": {},
   "outputs": [],
   "source": [
    "import nfl_regression\n",
    "import pandas as pd\n",
    "import numpy as np\n",
    "from sklearn.metrics import accuracy_score\n",
    "from sklearn.metrics import recall_score\n",
    "from sklearn.metrics import precision_score\n",
    "from sklearn.metrics import f1_score"
   ]
  },
  {
   "attachments": {},
   "cell_type": "markdown",
   "metadata": {},
   "source": [
    "## Importing the dataset"
   ]
  },
  {
   "cell_type": "code",
   "execution_count": 81,
   "metadata": {},
   "outputs": [],
   "source": [
    "train_receiver_stats, train_player_stats, train_weeks = nfl_regression.preprocess_year_data('2021')\n",
    "X_train, Y_train = nfl_regression.get_yards_by_stats(train_receiver_stats, train_player_stats, train_weeks, '2021')\n",
    "\n",
    "test_receiver_stats, test_player_stats, test_weeks = nfl_regression.preprocess_year_data('2023')\n",
    "X_test, Y_test = nfl_regression.get_yards_by_stats(test_receiver_stats, test_player_stats, test_weeks, '2023')"
   ]
  },
  {
   "attachments": {},
   "cell_type": "markdown",
   "metadata": {},
   "source": [
    "## Use merged receiver stats"
   ]
  },
  {
   "cell_type": "code",
   "execution_count": 82,
   "metadata": {},
   "outputs": [
    {
     "data": {
      "text/html": [
       "<div>\n",
       "<style scoped>\n",
       "    .dataframe tbody tr th:only-of-type {\n",
       "        vertical-align: middle;\n",
       "    }\n",
       "\n",
       "    .dataframe tbody tr th {\n",
       "        vertical-align: top;\n",
       "    }\n",
       "\n",
       "    .dataframe thead th {\n",
       "        text-align: right;\n",
       "    }\n",
       "</style>\n",
       "<table border=\"1\" class=\"dataframe\">\n",
       "  <thead>\n",
       "    <tr style=\"text-align: right;\">\n",
       "      <th></th>\n",
       "      <th>gameId</th>\n",
       "      <th>playId</th>\n",
       "      <th>playDescription</th>\n",
       "      <th>quarter</th>\n",
       "      <th>down</th>\n",
       "      <th>yardsToGo</th>\n",
       "      <th>possessionTeam</th>\n",
       "      <th>defensiveTeam</th>\n",
       "      <th>yardlineSide</th>\n",
       "      <th>yardlineNumber</th>\n",
       "      <th>...</th>\n",
       "      <th>Zone Coverage</th>\n",
       "      <th>birthDate</th>\n",
       "      <th>collegeName</th>\n",
       "      <th>displayName</th>\n",
       "      <th>height</th>\n",
       "      <th>nflId</th>\n",
       "      <th>officialPosition</th>\n",
       "      <th>updatedName</th>\n",
       "      <th>updatedName2</th>\n",
       "      <th>weight</th>\n",
       "    </tr>\n",
       "  </thead>\n",
       "  <tbody>\n",
       "    <tr>\n",
       "      <th>0</th>\n",
       "      <td>2021090900</td>\n",
       "      <td>97</td>\n",
       "      <td>(13:33) (Shotgun) T.Brady pass incomplete deep...</td>\n",
       "      <td>1</td>\n",
       "      <td>3</td>\n",
       "      <td>2</td>\n",
       "      <td>TB</td>\n",
       "      <td>DAL</td>\n",
       "      <td>TB</td>\n",
       "      <td>33</td>\n",
       "      <td>...</td>\n",
       "      <td>25.0</td>\n",
       "      <td>1996-02-27</td>\n",
       "      <td>Penn State</td>\n",
       "      <td>Chris Godwin</td>\n",
       "      <td>6-1</td>\n",
       "      <td>44896.0</td>\n",
       "      <td>WR</td>\n",
       "      <td>Chris Godwin</td>\n",
       "      <td>Chris Godwin</td>\n",
       "      <td>209.0</td>\n",
       "    </tr>\n",
       "  </tbody>\n",
       "</table>\n",
       "<p>1 rows × 117 columns</p>\n",
       "</div>"
      ],
      "text/plain": [
       "       gameId  playId                                    playDescription  \\\n",
       "0  2021090900      97  (13:33) (Shotgun) T.Brady pass incomplete deep...   \n",
       "\n",
       "   quarter  down  yardsToGo possessionTeam defensiveTeam yardlineSide  \\\n",
       "0        1     3          2             TB           DAL           TB   \n",
       "\n",
       "   yardlineNumber  ... Zone Coverage   birthDate  collegeName   displayName  \\\n",
       "0              33  ...          25.0  1996-02-27   Penn State  Chris Godwin   \n",
       "\n",
       "   height    nflId  officialPosition   updatedName  updatedName2 weight  \n",
       "0     6-1  44896.0                WR  Chris Godwin  Chris Godwin  209.0  \n",
       "\n",
       "[1 rows x 117 columns]"
      ]
     },
     "execution_count": 82,
     "metadata": {},
     "output_type": "execute_result"
    }
   ],
   "source": [
    "play_data = test_receiver_stats\n",
    "play_data.head(1)"
   ]
  },
  {
   "attachments": {},
   "cell_type": "markdown",
   "metadata": {},
   "source": [
    "## Load week data into single DataFrame"
   ]
  },
  {
   "cell_type": "code",
   "execution_count": 83,
   "metadata": {},
   "outputs": [],
   "source": [
    "#week_data = pd.concat([pd.read_csv(f'BigDataBowl2023\\data2023\\week{i}.csv') for i in range(1, 9)])"
   ]
  },
  {
   "cell_type": "code",
   "execution_count": 84,
   "metadata": {},
   "outputs": [],
   "source": [
    "#week_data.head(1)"
   ]
  },
  {
   "attachments": {},
   "cell_type": "markdown",
   "metadata": {},
   "source": [
    "## DataFrame of offensive players on pitch"
   ]
  },
  {
   "cell_type": "code",
   "execution_count": 85,
   "metadata": {},
   "outputs": [],
   "source": [
    "#pitch_lookup = pd.concat((play_data[['gameId', 'playId']], pd.DataFrame(np.vstack(play_data.apply(lambda x: week_data[(week_data['gameId'] == x['gameId']) & (week_data['playId'] == x['playId'])][week_data[(week_data['gameId'] == x['gameId']) & (week_data['playId'] == x['playId'])]['team'] == x['possessionTeam']]['nflId'].unique(), axis=1).to_numpy()), columns=[f'player{i}' for i in range(1, 12)])), axis=1)\n",
    "#pitch_lookup.to_csv('BigDataBowl2023/pitch_lookup.csv', index=False)"
   ]
  },
  {
   "attachments": {},
   "cell_type": "markdown",
   "metadata": {},
   "source": [
    "## Merge with saved file of offensive players"
   ]
  },
  {
   "cell_type": "code",
   "execution_count": 86,
   "metadata": {},
   "outputs": [
    {
     "data": {
      "text/html": [
       "<div>\n",
       "<style scoped>\n",
       "    .dataframe tbody tr th:only-of-type {\n",
       "        vertical-align: middle;\n",
       "    }\n",
       "\n",
       "    .dataframe tbody tr th {\n",
       "        vertical-align: top;\n",
       "    }\n",
       "\n",
       "    .dataframe thead th {\n",
       "        text-align: right;\n",
       "    }\n",
       "</style>\n",
       "<table border=\"1\" class=\"dataframe\">\n",
       "  <thead>\n",
       "    <tr style=\"text-align: right;\">\n",
       "      <th></th>\n",
       "      <th>gameId</th>\n",
       "      <th>playId</th>\n",
       "      <th>player1</th>\n",
       "      <th>player2</th>\n",
       "      <th>player3</th>\n",
       "      <th>player4</th>\n",
       "      <th>player5</th>\n",
       "      <th>player6</th>\n",
       "      <th>player7</th>\n",
       "      <th>player8</th>\n",
       "      <th>player9</th>\n",
       "      <th>player10</th>\n",
       "      <th>player11</th>\n",
       "    </tr>\n",
       "  </thead>\n",
       "  <tbody>\n",
       "    <tr>\n",
       "      <th>0</th>\n",
       "      <td>2021090900</td>\n",
       "      <td>97</td>\n",
       "      <td>25511.0</td>\n",
       "      <td>35481.0</td>\n",
       "      <td>35634.0</td>\n",
       "      <td>39985.0</td>\n",
       "      <td>40151.0</td>\n",
       "      <td>41233.0</td>\n",
       "      <td>42377.0</td>\n",
       "      <td>42404.0</td>\n",
       "      <td>44896.0</td>\n",
       "      <td>46163.0</td>\n",
       "      <td>52421.0</td>\n",
       "    </tr>\n",
       "  </tbody>\n",
       "</table>\n",
       "</div>"
      ],
      "text/plain": [
       "       gameId  playId  player1  player2  player3  player4  player5  player6  \\\n",
       "0  2021090900      97  25511.0  35481.0  35634.0  39985.0  40151.0  41233.0   \n",
       "\n",
       "   player7  player8  player9  player10  player11  \n",
       "0  42377.0  42404.0  44896.0   46163.0   52421.0  "
      ]
     },
     "execution_count": 86,
     "metadata": {},
     "output_type": "execute_result"
    }
   ],
   "source": [
    "pitch_lookup = pd.read_csv('BigDataBowl2023/pitch_lookup.csv')\n",
    "pitch_lookup.head(1)"
   ]
  },
  {
   "cell_type": "code",
   "execution_count": 87,
   "metadata": {},
   "outputs": [],
   "source": [
    "play_data_with_players = play_data.merge(pitch_lookup, how='inner', on=['gameId', 'playId'])"
   ]
  },
  {
   "cell_type": "code",
   "execution_count": 88,
   "metadata": {},
   "outputs": [],
   "source": [
    "feature_columns = ['Age', 'Height', 'Weight', 'Overall', 'Speed',\n",
    " 'Acceleration', 'Agility', 'Change of Dir', 'Strength', 'Jumping',\n",
    " 'Awareness', 'Carrying', 'Break Tackle', 'Juke Move', 'Spin Move',\n",
    " 'Trucking', 'Stiff Arm', 'BC Vision', 'Catching', 'Catch In Traffic',\n",
    " 'Spec Catch', 'Release', 'Short RR', 'Medium RR', 'Deep RR',\n",
    " 'Throw Power', 'Throw Acc Short', 'Throw Acc Mid', 'Throw Acc Deep',\n",
    " 'Throw Under Pressure', 'Throw On The Run', 'Play Action', 'Break Sack',\n",
    " 'Run Block', 'Run Block Power', 'Run Block Finesse', 'Pass Block',\n",
    " 'Pass Block Power', 'Pass Block Finesse', 'Impact Blocking',\n",
    " 'Lead Blocking', 'Tackle', 'Hit Power', 'Pursuit', 'Man Coverage',\n",
    " 'Zone Coverage', 'Press', 'Play Recognition', 'Power Moves',\n",
    " 'Finesse Moves', 'Block Shedding', 'Kick Power', 'Kick Accuracy',\n",
    " 'Kick Return', 'Stamina', 'Injury', 'Toughness', 'Years Pro']\n",
    "\n",
    "players_columns = [f'player{i}' for i in range(1, 12)]\n",
    "\n",
    "player_stats = pd.read_csv('BigDataBowl2023/merged_df.csv').drop('Unnamed: 0', axis='columns')"
   ]
  },
  {
   "attachments": {},
   "cell_type": "markdown",
   "metadata": {},
   "source": [
    "## Generate batches of player stats to pass into model"
   ]
  },
  {
   "cell_type": "code",
   "execution_count": 89,
   "metadata": {},
   "outputs": [
    {
     "data": {
      "text/plain": [
       "(6119,)"
      ]
     },
     "execution_count": 89,
     "metadata": {},
     "output_type": "execute_result"
    }
   ],
   "source": [
    "X = np.array(play_data_with_players.apply(lambda x: player_stats[player_stats['nflId'].isin(x[players_columns])].reset_index(drop=True), axis=1))\n",
    "X.shape"
   ]
  },
  {
   "cell_type": "code",
   "execution_count": 90,
   "metadata": {},
   "outputs": [],
   "source": [
    "#for x in X:\n",
    "#    x.drop(x[~x['Position'].isin([\"WR\", \"TE\", \"FB\", \"RB\"])].index, axis='index', inplace=True)\n",
    "#    x.reset_index(drop=True, inplace=True)"
   ]
  },
  {
   "cell_type": "code",
   "execution_count": 91,
   "metadata": {},
   "outputs": [
    {
     "data": {
      "text/plain": [
       "(6119,)"
      ]
     },
     "execution_count": 91,
     "metadata": {},
     "output_type": "execute_result"
    }
   ],
   "source": [
    "Y = np.array(play_data['nflId'])\n",
    "Y.shape"
   ]
  },
  {
   "attachments": {},
   "cell_type": "markdown",
   "metadata": {},
   "source": [
    "## Training ElasticNet"
   ]
  },
  {
   "cell_type": "code",
   "execution_count": 92,
   "metadata": {},
   "outputs": [
    {
     "name": "stdout",
     "output_type": "stream",
     "text": [
      "train 0.5960 test 0.4698\n"
     ]
    }
   ],
   "source": [
    "from sklearn.linear_model import ElasticNet\n",
    "from sklearn.feature_selection import RFE\n",
    "reg = ElasticNet()\n",
    "rfe = RFE(reg, n_features_to_select=22).fit(X_train, Y_train)\n",
    "Xk_train, Xk_test = rfe.transform(X_train), rfe.transform(X_test)\n",
    "reg = reg.fit(Xk_train, Y_train)\n",
    "print(f'train {reg.score(Xk_train, Y_train):.4f}', f'test {reg.score(Xk_test, Y_test):.4f}')"
   ]
  },
  {
   "cell_type": "markdown",
   "metadata": {},
   "source": [
    "## Propose pass by picking largest predicted yardage"
   ]
  },
  {
   "cell_type": "code",
   "execution_count": 93,
   "metadata": {},
   "outputs": [
    {
     "data": {
      "text/plain": [
       "(6119,)"
      ]
     },
     "execution_count": 93,
     "metadata": {},
     "output_type": "execute_result"
    }
   ],
   "source": [
    "Y_hat = np.array(list(map(lambda x: x.loc[np.argmax(reg.predict(rfe.transform(x[feature_columns])))]['nflId'], X)))\n",
    "Y_hat.shape"
   ]
  },
  {
   "cell_type": "markdown",
   "metadata": {},
   "source": [
    "## Calculate accuracy against the ground truth receiver"
   ]
  },
  {
   "cell_type": "code",
   "execution_count": 94,
   "metadata": {},
   "outputs": [
    {
     "name": "stdout",
     "output_type": "stream",
     "text": [
      "classification pass accuracy 29.6944\n",
      "classification pass recall 29.6944\n",
      "classification pass precision 21.2448\n",
      "classification pass f1 17.9969\n"
     ]
    }
   ],
   "source": [
    "print(f'classification pass accuracy {accuracy_score(y_true=Y, y_pred=Y_hat) * 100:.4f}')\n",
    "print(f'classification pass recall {recall_score(y_true=Y, y_pred=Y_hat, average=\"weighted\", zero_division=0) * 100:.4f}')\n",
    "print(f'classification pass precision {precision_score(y_true=Y, y_pred=Y_hat, average=\"weighted\", zero_division=0) * 100:.4f}')\n",
    "print(f'classification pass f1 {f1_score(y_true=Y, y_pred=Y_hat, average=\"weighted\", zero_division=0) * 100:.4f}')"
   ]
  },
  {
   "cell_type": "markdown",
   "metadata": {},
   "source": [
    "## Training the SVM"
   ]
  },
  {
   "cell_type": "code",
   "execution_count": 95,
   "metadata": {},
   "outputs": [
    {
     "name": "stdout",
     "output_type": "stream",
     "text": [
      "train 0.5865 test 0.5056\n"
     ]
    }
   ],
   "source": [
    "from sklearn.svm import SVR\n",
    "from sklearn.feature_selection import SelectKBest, f_regression\n",
    "reg = SVR(kernel='poly')\n",
    "k_best = SelectKBest(f_regression, k=15).fit(X_train, Y_train)\n",
    "Xk_train, Xk_test = k_best.transform(X_train), k_best.transform(X_test)\n",
    "reg = reg.fit(Xk_train, Y_train)\n",
    "print(f'train {reg.score(Xk_train, Y_train):.4f}', f'test {reg.score(Xk_test, Y_test):.4f}')"
   ]
  },
  {
   "attachments": {},
   "cell_type": "markdown",
   "metadata": {},
   "source": [
    "## Propose pass by picking largest predicted yardage"
   ]
  },
  {
   "cell_type": "code",
   "execution_count": 96,
   "metadata": {},
   "outputs": [
    {
     "data": {
      "text/plain": [
       "(6119,)"
      ]
     },
     "execution_count": 96,
     "metadata": {},
     "output_type": "execute_result"
    }
   ],
   "source": [
    "Y_hat = np.array(list(map(lambda x: x.loc[np.argmax(reg.predict(k_best.transform(x[feature_columns])))]['nflId'], X)))\n",
    "Y_hat.shape"
   ]
  },
  {
   "attachments": {},
   "cell_type": "markdown",
   "metadata": {},
   "source": [
    "## Calculate accuracy against the ground truth receiver"
   ]
  },
  {
   "cell_type": "code",
   "execution_count": 97,
   "metadata": {},
   "outputs": [
    {
     "name": "stdout",
     "output_type": "stream",
     "text": [
      "classification pass accuracy 28.6975\n",
      "classification pass recall 28.6975\n",
      "classification pass precision 21.1770\n",
      "classification pass f1 17.1285\n"
     ]
    }
   ],
   "source": [
    "print(f'classification pass accuracy {accuracy_score(y_true=Y, y_pred=Y_hat) * 100:.4f}')\n",
    "print(f'classification pass recall {recall_score(y_true=Y, y_pred=Y_hat, average=\"weighted\", zero_division=0) * 100:.4f}')\n",
    "print(f'classification pass precision {precision_score(y_true=Y, y_pred=Y_hat, average=\"weighted\", zero_division=0) * 100:.4f}')\n",
    "print(f'classification pass f1 {f1_score(y_true=Y, y_pred=Y_hat, average=\"weighted\", zero_division=0) * 100:.4f}')"
   ]
  },
  {
   "attachments": {},
   "cell_type": "markdown",
   "metadata": {},
   "source": [
    "## Training RandomForestRegressor"
   ]
  },
  {
   "cell_type": "code",
   "execution_count": 98,
   "metadata": {},
   "outputs": [
    {
     "name": "stdout",
     "output_type": "stream",
     "text": [
      "train 0.9447 test 0.5020\n"
     ]
    }
   ],
   "source": [
    "from sklearn.ensemble import RandomForestRegressor\n",
    "reg = RandomForestRegressor(random_state=0)\n",
    "reg = reg.fit(X_train, Y_train)\n",
    "print(f'train {reg.score(X_train, Y_train):.4f}', f'test {reg.score(X_test, Y_test):.4f}')"
   ]
  },
  {
   "cell_type": "markdown",
   "metadata": {},
   "source": [
    "## Propose pass by picking largest predicted yardage"
   ]
  },
  {
   "cell_type": "code",
   "execution_count": 99,
   "metadata": {},
   "outputs": [
    {
     "data": {
      "text/plain": [
       "(6119,)"
      ]
     },
     "execution_count": 99,
     "metadata": {},
     "output_type": "execute_result"
    }
   ],
   "source": [
    "Y_hat = np.array(list(map(lambda x: x.loc[np.argmax(reg.predict(x[feature_columns]))]['nflId'], X)))\n",
    "Y_hat.shape"
   ]
  },
  {
   "cell_type": "markdown",
   "metadata": {},
   "source": [
    "## Calculate accuracy against the ground truth receiver"
   ]
  },
  {
   "cell_type": "code",
   "execution_count": 100,
   "metadata": {},
   "outputs": [
    {
     "name": "stdout",
     "output_type": "stream",
     "text": [
      "classification pass accuracy 29.1878\n",
      "classification pass recall 29.1878\n",
      "classification pass precision 20.8236\n",
      "classification pass f1 17.4476\n"
     ]
    }
   ],
   "source": [
    "print(f'classification pass accuracy {accuracy_score(y_true=Y, y_pred=Y_hat) * 100:.4f}')\n",
    "print(f'classification pass recall {recall_score(y_true=Y, y_pred=Y_hat, average=\"weighted\", zero_division=0) * 100:.4f}')\n",
    "print(f'classification pass precision {precision_score(y_true=Y, y_pred=Y_hat, average=\"weighted\", zero_division=0) * 100:.4f}')\n",
    "print(f'classification pass f1 {f1_score(y_true=Y, y_pred=Y_hat, average=\"weighted\", zero_division=0) * 100:.4f}')"
   ]
  },
  {
   "attachments": {},
   "cell_type": "markdown",
   "metadata": {},
   "source": [
    "## Random baseline by picking player uniformly"
   ]
  },
  {
   "cell_type": "code",
   "execution_count": 101,
   "metadata": {},
   "outputs": [],
   "source": [
    "accuracy = 0\n",
    "num_iterations = 100\n",
    "for i in range(num_iterations):\n",
    "    Y_hat = np.array(list(map(lambda x: x.loc[np.random.default_rng().choice(x.shape[0])]['nflId'], X)))\n",
    "    accuracy += accuracy_score(y_true=Y, y_pred=Y_hat)\n",
    "accuracy = accuracy / num_iterations"
   ]
  },
  {
   "cell_type": "code",
   "execution_count": 102,
   "metadata": {},
   "outputs": [
    {
     "name": "stdout",
     "output_type": "stream",
     "text": [
      "random baseline accuracy 9.9492\n"
     ]
    }
   ],
   "source": [
    "print(f'random baseline accuracy {accuracy * 100:.4f}')"
   ]
  }
 ],
 "metadata": {
  "kernelspec": {
   "display_name": "ads",
   "language": "python",
   "name": "python3"
  },
  "language_info": {
   "codemirror_mode": {
    "name": "ipython",
    "version": 3
   },
   "file_extension": ".py",
   "mimetype": "text/x-python",
   "name": "python",
   "nbconvert_exporter": "python",
   "pygments_lexer": "ipython3",
   "version": "3.10.9"
  },
  "orig_nbformat": 4
 },
 "nbformat": 4,
 "nbformat_minor": 2
}
