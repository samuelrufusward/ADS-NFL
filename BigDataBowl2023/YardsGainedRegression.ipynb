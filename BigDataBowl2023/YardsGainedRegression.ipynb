{
 "cells": [
  {
   "cell_type": "code",
   "execution_count": 241,
   "metadata": {},
   "outputs": [],
   "source": [
    "import pandas as pd\n",
    "import numpy as np"
   ]
  },
  {
   "cell_type": "code",
   "execution_count": 242,
   "metadata": {},
   "outputs": [],
   "source": [
    "plays_df = pd.read_csv(\"./data2023/plays.csv\")\n",
    "plays_df = plays_df.loc[plays_df['passResult'].isin(['C', 'I', 'IN'])]\n",
    "player_stats_df = pd.read_csv(\"merged_df.csv\").drop('Unnamed: 0', axis='columns')"
   ]
  },
  {
   "cell_type": "code",
   "execution_count": 243,
   "metadata": {},
   "outputs": [
    {
     "data": {
      "text/plain": [
       "array(['I', 'C', 'IN'], dtype=object)"
      ]
     },
     "execution_count": 243,
     "metadata": {},
     "output_type": "execute_result"
    }
   ],
   "source": [
    "plays_df['passResult'].unique()"
   ]
  },
  {
   "cell_type": "code",
   "execution_count": 244,
   "metadata": {},
   "outputs": [
    {
     "data": {
      "text/plain": [
       "0                T.Brady\n",
       "1       B.Roethlisberger\n",
       "2              A.Rodgers\n",
       "3          R.Fitzpatrick\n",
       "4                M.Lewis\n",
       "              ...       \n",
       "1409         J.Jefferson\n",
       "1410             D.Milne\n",
       "1411            G.Stuard\n",
       "1412            J.Jacobs\n",
       "1413            J.Heflin\n",
       "Name: abrev_name, Length: 1414, dtype: object"
      ]
     },
     "execution_count": 244,
     "metadata": {},
     "output_type": "execute_result"
    }
   ],
   "source": [
    "player_stats_df[\"abrev_name\"] = player_stats_df.displayName.apply(lambda x: str(x)[0]+ \".\"+\"\".join(str(x).split(\" \")[1:]))\n",
    "player_stats_df['abrev_name']"
   ]
  },
  {
   "cell_type": "code",
   "execution_count": 245,
   "metadata": {},
   "outputs": [
    {
     "data": {
      "text/plain": [
       "0         T.Brady pass incomplete deep right to C.Godwin.\n",
       "1        D.Prescott pass deep left to A.Cooper pushed ...\n",
       "2        D.Prescott pass short middle to D.Schultz to ...\n",
       "3         D.Prescott pass incomplete deep left to C.Lamb.\n",
       "4        D.Prescott pass incomplete short left to C.La...\n",
       "                              ...                        \n",
       "8549     P.Mahomes pass incomplete short right [O.Ximi...\n",
       "8550     P.Mahomes pass short right intended for B.Pri...\n",
       "8551     P.Mahomes pass short right to T.Kelce to KC 3...\n",
       "8553     D.Jones pass short right to E.Engram pushed o...\n",
       "8555     D.Jones pass incomplete short right to E.Engram.\n",
       "Name: playDescription, Length: 7565, dtype: object"
      ]
     },
     "execution_count": 245,
     "metadata": {},
     "output_type": "execute_result"
    }
   ],
   "source": [
    "# Remove time from play description\n",
    "playDescText = plays_df.playDescription.apply(lambda x: \" \".join(str(x).split()[1:]))\n",
    "# Remove formation from play description\n",
    "playDescText = playDescText.apply(lambda x: \"\".join(x.split(\")\")[1:]) if str(x).startswith(\"(\") else x)\n",
    "playDescText"
   ]
  },
  {
   "cell_type": "code",
   "execution_count": 246,
   "metadata": {},
   "outputs": [],
   "source": [
    "# Create columns of names of players who carried out play\n",
    "# People who pass the ball\n",
    "passers = playDescText.map(lambda x: str(x).lower().split(\" \")[str(x).lower().split(\" \").index(\"pass\")-1] if \"pass\" in str(x).lower().split(\" \") else np.nan)\n",
    "\n",
    "# People who received the ball\n",
    "receivers = playDescText.map(lambda x: str(x).lower().split(\" \")[str(x).lower().split(\" \").index(\"to\")+1] if (\"pass\" in str(x).lower().split(\" \") and \"to\" in str(x).lower().split(\" \")) & (\"intercept\" not in str(x).lower()) else np.nan)\n",
    "# Remove full stop from some names at end\n",
    "receivers.loc[receivers.map(lambda x: str(x)[-1]) == \".\"] = receivers.loc[receivers.map(lambda x: str(x)[-1]) == \".\"].apply(lambda x: \"\".join(str(x)[:-1]))\n",
    "# 2 values have NO # instead of names, so we can remove these\n",
    "receivers.loc[receivers==\"no\"] = np.nan\n",
    "receivers.loc[~receivers.str.contains('.', na=False, regex=False)] = np.nan"
   ]
  },
  {
   "cell_type": "code",
   "execution_count": 247,
   "metadata": {},
   "outputs": [
    {
     "data": {
      "text/plain": [
       "array(['c.godwin', 'a.cooper', 'd.schultz', 'c.lamb', 'm.evans',\n",
       "       'r.gronkowski', 'a.brown', 'm.gallup', 'b.jarwin', 'l.fournette',\n",
       "       't.pollard', 'c.wilson', 'g.bernard', 't.johnson', 'e.elliott',\n",
       "       'c.ridley', 'c.patterson', 'k.pitts', 'h.hurst', 'r.gage',\n",
       "       'm.davis', 'd.smith', 'k.smith', 'd.goedert', 'z.ertz',\n",
       "       'm.sanders', 'k.gainwell', 'j.reagor', 'c.beasley', 's.diggs',\n",
       "       'd.johnson', 'd.knox', 'e.sanders', 'j.smith-schuster',\n",
       "       'c.claypool', 'n.harris', 'd.singletary', 'g.davis', 'e.ebron',\n",
       "       'p.freiermuth', 'r.griffin', 't.marshall', 'c.davis', 'dj.moore',\n",
       "       'd.arnold', 'e.moore', 'c.mccaffrey', 'i.thomas', 'j.smith',\n",
       "       't.kroft', 'mi.carter', 'r.anderson', 'b.berrios', 'c.hubbard',\n",
       "       'd.mims', 't.conklin', 'a.thielen', 'j.jefferson', 'd.westbrook',\n",
       "       't.boyd', 's.perine', 'd.cook', 't.higgins', 'a.mattison',\n",
       "       'k.osborn', 'j.mixon', 'j.chase', 'a.abdullah', 'm.thomas',\n",
       "       'c.herndon', 'c.ham', 'c.uzomah', 't.hockenson', 't.williams',\n",
       "       'j.williams', 'a.st', 'd.swift', 'g.kittle', 'm.sanu',\n",
       "       't.sherfield', 'j.cabinda', 'd.samuel', 'd.fells', 'k.juszczyk',\n",
       "       'k.raymond', 'q.cephus', 'j.hasty', 't.benson', 'b.cooks',\n",
       "       'n.collins', 'j.robinson', 'l.shenault', 'p.brown', 'd.amendola',\n",
       "       'm.jones', 'd.chark', 'c.conley', \"j.o'shaughnessy\", 'c.manhertz',\n",
       "       'r.burkhead', 'm.ingram', 'j.akins', 'c.hyde', 'j.doyle',\n",
       "       'm.strachan', 'z.pascal', 'n.hines', 't.lockett', 'w.dissly',\n",
       "       'g.everett', 'p.campbell', 'j.taylor', 'm.pittman', 'c.carson',\n",
       "       'f.swain', 'm.alie-cox', 'd.eskridge', 'd.metcalf', 'd.dallas',\n",
       "       'd.henry', 'c.rogers', 'd.hopkins', 'c.edmonds', 'a.green',\n",
       "       'c.kirk', 'r.moore', 'd.harris', 'j.mcnichols', 'a.firkser',\n",
       "       'j.jones', 'g.swaim', 'n.westbrook-ikhine', 'm.williams',\n",
       "       'j.guyton', 'j.cook', 'k.allen', 'a.gibson', 'd.brown',\n",
       "       'j.jackson', 'a.humphries', 'k.hill', 'j.mckissic', 's.anderson',\n",
       "       'j.palmer', 't.mclaurin', 'l.thomas', 'c.sims', 'd.parham',\n",
       "       'n.chubb', 'a.hooper', 'a.janovich', 'a.schwartz', 'd.njoku',\n",
       "       't.kelce', 'c.edwards-helaire', 't.hill', 'd.robinson', 'h.bryant',\n",
       "       'm.hardman', 'b.pringle', 'j.landry', 'k.hunt', 'd.peoples-jones',\n",
       "       'j.white', 'd.smythe', 'n.agholor', 'j.meyers', 'r.stevenson',\n",
       "       'd.parker', 'j.waddle', 's.ahmed', 'm.gesicki', 'm.gaskin',\n",
       "       'a.wilson', 'k.bourne', 'h.henry', 'm.callaway', 'a.trautman',\n",
       "       'd.adams', 'a.jones', 'r.tonyan', 'a.kamara', 'm.valdes-scantling',\n",
       "       't.montgomery', 'j.johnson', 'a.lazard', 'm.lewis', 'c.hogan',\n",
       "       'a.dillon', 'am.rodgers', 'm.taylor', 'd.slayton', 's.shepard',\n",
       "       'c.sutton', 'j.jeudy', 'e.saubert', 't.patrick', 'm.gordon',\n",
       "       'k.hamler', 'n.fant', 'k.golladay', 'd.booker', 'a.okwuegbunam',\n",
       "       'e.penny', 'k.rudolph', 's.barkley', 'g.brightwell', 'c.board',\n",
       "       'd.mooney', 't.higbee', 'v.jefferson', 'a.robinson', 'c.kmet',\n",
       "       'd.williams', 'c.kupp', 'd.jackson', 'm.goodwin', 'd.byrd',\n",
       "       'd.henderson', 'r.woods', 'd.montgomery', 'j.graham', 'd.waller',\n",
       "       'a.ingold', 'h.renfrow', 'j.jacobs', 's.watkins', 'm.andrews',\n",
       "       'm.brown', 'j.oliver', 'k.drake', 'h.ruggs', 'z.jones',\n",
       "       'b.edwards', 'd.duvernay', 'p.ricard', 'r.seals-jones',\n",
       "       'b.zylstra', 'l.humphrey', 'c.evans', 'r.higgins', 'a.roberts',\n",
       "       'a.dulin', 'm.mack', 'l.treadwell', 'k.hinton', 'l.farrell',\n",
       "       'i.mckenzie', 'z.moss', 'a.shaheen', 'j.grant', 'p.williams',\n",
       "       'c.carter', 'j.kumerow', 'b.aiyuk', 'q.watkins', 'j.jennings',\n",
       "       'f.moreau', 'd.carrier', 'w.snead', 'o.zaccheaus', 'l.smith',\n",
       "       'r.jones', 't.sharpe', 'o.howard', 'c.blake', 'c.brate', 'p.hesse',\n",
       "       'a.ekeler', 'l.rountree', 't.hudson', 't.homer', 'm.pruitt',\n",
       "       'j.fortson', 'j.mckinnon', 'm.burton', 'r.cobb', 'a.miller',\n",
       "       'r.freeman', 'a.erickson', 't.tremble', 't.sweeney', 'r.gilliam',\n",
       "       't.heinicke', 'o.beckham', 'd.felton', 'j.proche', 'k.hodge',\n",
       "       'j.hollister', 'j.conner', 'p.dorsett', 'g.nabers', 'da.williams',\n",
       "       'n.gray', 'k.stills', 't.jones', 'b.bolden', 'e.engram', 'k.toney',\n",
       "       'c.johnson', 'j.washington', 'a.tate', 'r.mccloud', 'c.white',\n",
       "       'c.batson', 'r.mcmath', 'k.cole', 'p.barber', 'w.fuller',\n",
       "       's.michel', 's.miller', 'p.hart', 't.sermon', 'n.brown', 'g.ward',\n",
       "       't.austin', 't.irwin', 'j.agnew', 'c.samuel', 'j.patterson',\n",
       "       'd.carter', 'r.smith', 'k.granson', 'j.ross', 'd.washington',\n",
       "       'j.reynolds', 'j.crowder', 't.wesco', 'j.mundt', 'r.dwelley',\n",
       "       'a.collins', 'l.bell', 'd.spencer', 'e.st', 'z.gentry', 'b.snell',\n",
       "       'c.mcelroy', 'n.harry', 'c.parkinson', 'd.sample', 'a.auclair',\n",
       "       'c.moore', 'm.johnson', 'd.ogunbowale', 'b.ellefson', 'k.ballage',\n",
       "       'd.moore', 'i.ford', 'm.hollins', 'd.milne', 'j.horsted',\n",
       "       't.benjamin', 'c.woerner', 'e.mitchell', 'j.gordon', 'b.bell',\n",
       "       'l.murray', 'd.freeman', 'h.long', 'r.bateman', 'm.boykin',\n",
       "       'k.herbert', 'j.deguara', 't.kennedy', 't.hilton', 'p.lindsay',\n",
       "       'd.pettis', 'j.bates', 'd.daniels', 'j.stanton', 'j.richard',\n",
       "       'm.turner', 't.cleveland', 'g.olszewski', 'd.sills', 'k.kirkwood',\n",
       "       'c.thompson', 's.smith', 'd.evans', 'm.kemp', 'd.gore',\n",
       "       'g.allison', 'h.vaitai', 'b.scott', 'j.james', 'd.yelder',\n",
       "       'j.darden', 'k.coutee', 't.smith', 'd.ozigbo', 'k.white',\n",
       "       'j.winfree', 'a.wesley', 'p.laird', 'g.igwebuike', 's.phillips',\n",
       "       'b.skowronek', 'b.jordan', 'g.griffin', 'a.armah', 'c.grayson',\n",
       "       'l.stocker', 'i.smith-marsette'], dtype=object)"
      ]
     },
     "execution_count": 247,
     "metadata": {},
     "output_type": "execute_result"
    }
   ],
   "source": [
    "key_players_df = pd.DataFrame({'gameId': plays_df['gameId'], 'playId': plays_df['playId'], 'passer': passers, 'receiver': receivers})\n",
    "key_players_df = key_players_df.dropna()\n",
    "key_players_df['receiver'].unique()"
   ]
  },
  {
   "cell_type": "code",
   "execution_count": 248,
   "metadata": {},
   "outputs": [
    {
     "data": {
      "text/plain": [
       "array(['(10:34) (Shotgun) J.Goff pass incomplete deep left to A.St. Brown.'],\n",
       "      dtype=object)"
      ]
     },
     "execution_count": 248,
     "metadata": {},
     "output_type": "execute_result"
    }
   ],
   "source": [
    "plays_df[(plays_df['gameId'] == 2021091204) & (plays_df['playId'] == 282)]['playDescription'].values"
   ]
  },
  {
   "cell_type": "code",
   "execution_count": 249,
   "metadata": {},
   "outputs": [],
   "source": [
    "def stats_from_name(name, stats, columns):\n",
    "    return stats[stats['abrev_name'].str.lower() == name].drop(stats.columns.difference(columns), axis='columns')[:1]\n",
    "\n",
    "def yards_from_play(gameId, playId, plays):\n",
    "    return plays[(plays['gameId'] == gameId) & (plays['playId'] == playId)]['prePenaltyPlayResult'].values[0]"
   ]
  },
  {
   "cell_type": "code",
   "execution_count": 250,
   "metadata": {},
   "outputs": [
    {
     "data": {
      "text/html": [
       "<div>\n",
       "<style scoped>\n",
       "    .dataframe tbody tr th:only-of-type {\n",
       "        vertical-align: middle;\n",
       "    }\n",
       "\n",
       "    .dataframe tbody tr th {\n",
       "        vertical-align: top;\n",
       "    }\n",
       "\n",
       "    .dataframe thead th {\n",
       "        text-align: right;\n",
       "    }\n",
       "</style>\n",
       "<table border=\"1\" class=\"dataframe\">\n",
       "  <thead>\n",
       "    <tr style=\"text-align: right;\">\n",
       "      <th></th>\n",
       "      <th>Acceleration</th>\n",
       "      <th>Age</th>\n",
       "      <th>Agility</th>\n",
       "      <th>Awareness</th>\n",
       "      <th>BC Vision</th>\n",
       "      <th>Block Shedding</th>\n",
       "      <th>Break Sack</th>\n",
       "      <th>Break Tackle</th>\n",
       "      <th>Carrying</th>\n",
       "      <th>Catch In Traffic</th>\n",
       "      <th>...</th>\n",
       "      <th>Throw Acc Mid</th>\n",
       "      <th>Throw Acc Short</th>\n",
       "      <th>Throw On The Run</th>\n",
       "      <th>Throw Power</th>\n",
       "      <th>Throw Under Pressure</th>\n",
       "      <th>Toughness</th>\n",
       "      <th>Trucking</th>\n",
       "      <th>Weight</th>\n",
       "      <th>Years Pro</th>\n",
       "      <th>Zone Coverage</th>\n",
       "    </tr>\n",
       "  </thead>\n",
       "  <tbody>\n",
       "    <tr>\n",
       "      <th>0</th>\n",
       "      <td>66</td>\n",
       "      <td>44</td>\n",
       "      <td>70</td>\n",
       "      <td>99</td>\n",
       "      <td>51</td>\n",
       "      <td>33</td>\n",
       "      <td>61</td>\n",
       "      <td>31</td>\n",
       "      <td>69</td>\n",
       "      <td>15</td>\n",
       "      <td>...</td>\n",
       "      <td>97</td>\n",
       "      <td>99</td>\n",
       "      <td>84</td>\n",
       "      <td>91</td>\n",
       "      <td>87</td>\n",
       "      <td>96</td>\n",
       "      <td>20</td>\n",
       "      <td>225</td>\n",
       "      <td>21</td>\n",
       "      <td>19</td>\n",
       "    </tr>\n",
       "  </tbody>\n",
       "</table>\n",
       "<p>1 rows × 58 columns</p>\n",
       "</div>"
      ],
      "text/plain": [
       "   Acceleration  Age  Agility  Awareness  BC Vision  Block Shedding  \\\n",
       "0            66   44       70         99         51              33   \n",
       "\n",
       "   Break Sack  Break Tackle  Carrying  Catch In Traffic  ...  Throw Acc Mid  \\\n",
       "0          61            31        69                15  ...             97   \n",
       "\n",
       "   Throw Acc Short  Throw On The Run  Throw Power  Throw Under Pressure  \\\n",
       "0               99                84           91                    87   \n",
       "\n",
       "   Toughness  Trucking  Weight  Years Pro  Zone Coverage  \n",
       "0         96        20     225         21             19  \n",
       "\n",
       "[1 rows x 58 columns]"
      ]
     },
     "execution_count": 250,
     "metadata": {},
     "output_type": "execute_result"
    }
   ],
   "source": [
    "feature_columns = ['Age', 'Height', 'Weight', 'Overall', 'Speed',\n",
    " 'Acceleration', 'Agility', 'Change of Dir', 'Strength', 'Jumping',\n",
    " 'Awareness', 'Carrying', 'Break Tackle', 'Juke Move', 'Spin Move',\n",
    " 'Trucking', 'Stiff Arm', 'BC Vision', 'Catching', 'Catch In Traffic',\n",
    " 'Spec Catch', 'Release', 'Short RR', 'Medium RR', 'Deep RR',\n",
    " 'Throw Power', 'Throw Acc Short', 'Throw Acc Mid', 'Throw Acc Deep',\n",
    " 'Throw Under Pressure', 'Throw On The Run', 'Play Action', 'Break Sack',\n",
    " 'Run Block', 'Run Block Power', 'Run Block Finesse', 'Pass Block',\n",
    " 'Pass Block Power', 'Pass Block Finesse', 'Impact Blocking',\n",
    " 'Lead Blocking', 'Tackle', 'Hit Power', 'Pursuit', 'Man Coverage',\n",
    " 'Zone Coverage', 'Press', 'Play Recognition', 'Power Moves',\n",
    " 'Finesse Moves', 'Block Shedding', 'Kick Power', 'Kick Accuracy',\n",
    " 'Kick Return', 'Stamina', 'Injury', 'Toughness', 'Years Pro']\n",
    "\n",
    "stats_from_name('t.brady', player_stats_df, feature_columns)"
   ]
  },
  {
   "cell_type": "code",
   "execution_count": 264,
   "metadata": {},
   "outputs": [
    {
     "data": {
      "text/plain": [
       "(12, 116)"
      ]
     },
     "execution_count": 264,
     "metadata": {},
     "output_type": "execute_result"
    }
   ],
   "source": [
    "X = np.stack(key_players_df[:12].apply(lambda x: np.concatenate((stats_from_name(x['passer'], player_stats_df, feature_columns),\n",
    "                                                   stats_from_name(x['receiver'], player_stats_df, feature_columns)), axis=1)[0], axis=1))\n",
    "X.shape"
   ]
  },
  {
   "cell_type": "code",
   "execution_count": 269,
   "metadata": {},
   "outputs": [
    {
     "name": "stdout",
     "output_type": "stream",
     "text": [
      "gameId      2021090900\n",
      "playId             687\n",
      "passer      d.prescott\n",
      "receiver      m.gallup\n",
      "Name: 12, dtype: object\n",
      "Empty DataFrame\n",
      "Columns: [Acceleration, Age, Agility, Awareness, BC Vision, Block Shedding, Break Sack, Break Tackle, Carrying, Catch In Traffic, Catching, Change of Dir, Deep RR, Finesse Moves, Height, Hit Power, Impact Blocking, Injury, Juke Move, Jumping, Kick Accuracy, Kick Power, Kick Return, Lead Blocking, Man Coverage, Medium RR, Overall, Pass Block, Pass Block Finesse, Pass Block Power, Play Action, Play Recognition, Power Moves, Press, Pursuit, Release, Run Block, Run Block Finesse, Run Block Power, Short RR, Spec Catch, Speed, Spin Move, Stamina, Stiff Arm, Strength, Tackle, Throw Acc Deep, Throw Acc Mid, Throw Acc Short, Throw On The Run, Throw Power, Throw Under Pressure, Toughness, Trucking, Weight, Years Pro, Zone Coverage]\n",
      "Index: []\n",
      "\n",
      "[0 rows x 58 columns]\n"
     ]
    }
   ],
   "source": [
    "print(key_players_df.loc[12])\n",
    "print(stats_from_name('m.gallup', player_stats_df, feature_columns))"
   ]
  }
 ],
 "metadata": {
  "kernelspec": {
   "display_name": "ads",
   "language": "python",
   "name": "python3"
  },
  "language_info": {
   "codemirror_mode": {
    "name": "ipython",
    "version": 3
   },
   "file_extension": ".py",
   "mimetype": "text/x-python",
   "name": "python",
   "nbconvert_exporter": "python",
   "pygments_lexer": "ipython3",
   "version": "3.10.9"
  },
  "orig_nbformat": 4
 },
 "nbformat": 4,
 "nbformat_minor": 2
}
