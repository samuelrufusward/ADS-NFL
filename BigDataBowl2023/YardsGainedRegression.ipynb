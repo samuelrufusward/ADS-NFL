{
 "cells": [
  {
   "cell_type": "code",
   "execution_count": 2,
   "metadata": {},
   "outputs": [],
   "source": [
    "import pandas as pd\n",
    "import numpy as np"
   ]
  },
  {
   "cell_type": "code",
   "execution_count": 3,
   "metadata": {},
   "outputs": [],
   "source": [
    "plays_df = pd.read_csv(\"./data2023/plays.csv\")\n",
    "plays_df = plays_df.loc[plays_df['passResult'].isin(['C', 'I', 'IN'])]\n",
    "player_stats_df = pd.read_csv(\"merged_df.csv\").drop('Unnamed: 0', axis='columns')\n",
    "backup_player_stats_df = pd.read_csv('data2023/players.csv')\n",
    "medians_df = pd.read_csv('all_pos_df.csv').rename(columns={'Unnamed: 0': 'Position'})"
   ]
  },
  {
   "cell_type": "code",
   "execution_count": 4,
   "metadata": {},
   "outputs": [
    {
     "data": {
      "text/plain": [
       "array(['I', 'C', 'IN'], dtype=object)"
      ]
     },
     "execution_count": 4,
     "metadata": {},
     "output_type": "execute_result"
    }
   ],
   "source": [
    "plays_df['passResult'].unique()"
   ]
  },
  {
   "cell_type": "code",
   "execution_count": 5,
   "metadata": {},
   "outputs": [
    {
     "data": {
      "text/plain": [
       "0                T.Brady\n",
       "1       B.Roethlisberger\n",
       "2              A.Rodgers\n",
       "3          R.Fitzpatrick\n",
       "4                M.Lewis\n",
       "              ...       \n",
       "1409         J.Jefferson\n",
       "1410             D.Milne\n",
       "1411            G.Stuard\n",
       "1412            J.Jacobs\n",
       "1413            J.Heflin\n",
       "Name: abrev_name, Length: 1414, dtype: object"
      ]
     },
     "execution_count": 5,
     "metadata": {},
     "output_type": "execute_result"
    }
   ],
   "source": [
    "player_stats_df[\"abrev_name\"] = player_stats_df.displayName.apply(lambda x: str(x)[0]+ \".\"+\"\".join(str(x).split(\" \")[1:]))\n",
    "player_stats_df['abrev_name']"
   ]
  },
  {
   "cell_type": "code",
   "execution_count": 6,
   "metadata": {},
   "outputs": [
    {
     "data": {
      "text/plain": [
       "0                T.Brady\n",
       "1       B.Roethlisberger\n",
       "2               J.Peters\n",
       "3              A.Rodgers\n",
       "4          R.Fitzpatrick\n",
       "              ...       \n",
       "1674           F.Merrill\n",
       "1675          R.McCollum\n",
       "1676            J.Heflin\n",
       "1677            J.Curhan\n",
       "1678            F.Franks\n",
       "Name: abrev_name, Length: 1679, dtype: object"
      ]
     },
     "execution_count": 6,
     "metadata": {},
     "output_type": "execute_result"
    }
   ],
   "source": [
    "backup_player_stats_df[\"abrev_name\"] = backup_player_stats_df.displayName.apply(lambda x: str(x)[0]+ \".\"+\"\".join(str(x).split(\" \")[1:]))\n",
    "backup_player_stats_df['abrev_name']"
   ]
  },
  {
   "cell_type": "code",
   "execution_count": 7,
   "metadata": {},
   "outputs": [
    {
     "data": {
      "text/plain": [
       "0         T.Brady pass incomplete deep right to C.Godwin.\n",
       "1        D.Prescott pass deep left to A.Cooper pushed ...\n",
       "2        D.Prescott pass short middle to D.Schultz to ...\n",
       "3         D.Prescott pass incomplete deep left to C.Lamb.\n",
       "4        D.Prescott pass incomplete short left to C.La...\n",
       "                              ...                        \n",
       "8549     P.Mahomes pass incomplete short right [O.Ximi...\n",
       "8550     P.Mahomes pass short right intended for B.Pri...\n",
       "8551     P.Mahomes pass short right to T.Kelce to KC 3...\n",
       "8553     D.Jones pass short right to E.Engram pushed o...\n",
       "8555     D.Jones pass incomplete short right to E.Engram.\n",
       "Name: playDescription, Length: 7565, dtype: object"
      ]
     },
     "execution_count": 7,
     "metadata": {},
     "output_type": "execute_result"
    }
   ],
   "source": [
    "# Remove time from play description\n",
    "playDescText = plays_df.playDescription.apply(lambda x: \" \".join(str(x).split()[1:]))\n",
    "# Remove formation from play description\n",
    "playDescText = playDescText.apply(lambda x: \"\".join(x.split(\")\")[1:]) if str(x).startswith(\"(\") else x)\n",
    "playDescText"
   ]
  },
  {
   "cell_type": "code",
   "execution_count": 8,
   "metadata": {},
   "outputs": [],
   "source": [
    "# Create columns of names of players who carried out play\n",
    "# People who pass the ball\n",
    "passers = playDescText.map(lambda x: str(x).lower().split(\" \")[str(x).lower().split(\" \").index(\"pass\")-1] if \"pass\" in str(x).lower().split(\" \") else np.nan)\n",
    "\n",
    "# People who received the ball\n",
    "receivers = playDescText.map(lambda x: str(x).lower().split(\" \")[str(x).lower().split(\" \").index(\"to\")+1] if (\"pass\" in str(x).lower().split(\" \") and \"to\" in str(x).lower().split(\" \")) & (\"intercept\" not in str(x).lower()) else np.nan)\n",
    "# Remove full stop from some names at end\n",
    "receivers.loc[receivers.map(lambda x: str(x)[-1]) == \".\"] = receivers.loc[receivers.map(lambda x: str(x)[-1]) == \".\"].apply(lambda x: \"\".join(str(x)[:-1]))\n",
    "# 2 values have NO # instead of names, so we can remove these\n",
    "receivers.loc[receivers==\"no\"] = np.nan\n",
    "receivers.loc[~receivers.str.contains('.', na=False, regex=False)] = np.nan"
   ]
  },
  {
   "cell_type": "code",
   "execution_count": 9,
   "metadata": {},
   "outputs": [
    {
     "name": "stdout",
     "output_type": "stream",
     "text": [
      "['ty.taylor' 'aa.rodgers' 'jos.allen' 'dj.moore' 'mi.carter' 'am.rodgers'\n",
      " 'da.williams' 'a.st']\n"
     ]
    },
    {
     "data": {
      "text/html": [
       "<div>\n",
       "<style scoped>\n",
       "    .dataframe tbody tr th:only-of-type {\n",
       "        vertical-align: middle;\n",
       "    }\n",
       "\n",
       "    .dataframe tbody tr th {\n",
       "        vertical-align: top;\n",
       "    }\n",
       "\n",
       "    .dataframe thead th {\n",
       "        text-align: right;\n",
       "    }\n",
       "</style>\n",
       "<table border=\"1\" class=\"dataframe\">\n",
       "  <thead>\n",
       "    <tr style=\"text-align: right;\">\n",
       "      <th></th>\n",
       "      <th>gameId</th>\n",
       "      <th>playId</th>\n",
       "      <th>passer</th>\n",
       "      <th>receiver</th>\n",
       "    </tr>\n",
       "  </thead>\n",
       "  <tbody>\n",
       "    <tr>\n",
       "      <th>0</th>\n",
       "      <td>2021090900</td>\n",
       "      <td>97</td>\n",
       "      <td>t.brady</td>\n",
       "      <td>c.godwin</td>\n",
       "    </tr>\n",
       "    <tr>\n",
       "      <th>1</th>\n",
       "      <td>2021090900</td>\n",
       "      <td>137</td>\n",
       "      <td>d.prescott</td>\n",
       "      <td>a.cooper</td>\n",
       "    </tr>\n",
       "    <tr>\n",
       "      <th>2</th>\n",
       "      <td>2021090900</td>\n",
       "      <td>187</td>\n",
       "      <td>d.prescott</td>\n",
       "      <td>d.schultz</td>\n",
       "    </tr>\n",
       "    <tr>\n",
       "      <th>3</th>\n",
       "      <td>2021090900</td>\n",
       "      <td>282</td>\n",
       "      <td>d.prescott</td>\n",
       "      <td>c.lamb</td>\n",
       "    </tr>\n",
       "    <tr>\n",
       "      <th>4</th>\n",
       "      <td>2021090900</td>\n",
       "      <td>349</td>\n",
       "      <td>d.prescott</td>\n",
       "      <td>c.lamb</td>\n",
       "    </tr>\n",
       "    <tr>\n",
       "      <th>...</th>\n",
       "      <td>...</td>\n",
       "      <td>...</td>\n",
       "      <td>...</td>\n",
       "      <td>...</td>\n",
       "    </tr>\n",
       "    <tr>\n",
       "      <th>6685</th>\n",
       "      <td>2021110100</td>\n",
       "      <td>3955</td>\n",
       "      <td>d.jones</td>\n",
       "      <td>d.booker</td>\n",
       "    </tr>\n",
       "    <tr>\n",
       "      <th>6686</th>\n",
       "      <td>2021110100</td>\n",
       "      <td>4016</td>\n",
       "      <td>p.mahomes</td>\n",
       "      <td>t.kelce</td>\n",
       "    </tr>\n",
       "    <tr>\n",
       "      <th>6687</th>\n",
       "      <td>2021110100</td>\n",
       "      <td>4113</td>\n",
       "      <td>p.mahomes</td>\n",
       "      <td>t.kelce</td>\n",
       "    </tr>\n",
       "    <tr>\n",
       "      <th>6688</th>\n",
       "      <td>2021110100</td>\n",
       "      <td>4363</td>\n",
       "      <td>d.jones</td>\n",
       "      <td>e.engram</td>\n",
       "    </tr>\n",
       "    <tr>\n",
       "      <th>6689</th>\n",
       "      <td>2021110100</td>\n",
       "      <td>4411</td>\n",
       "      <td>d.jones</td>\n",
       "      <td>e.engram</td>\n",
       "    </tr>\n",
       "  </tbody>\n",
       "</table>\n",
       "<p>6690 rows × 4 columns</p>\n",
       "</div>"
      ],
      "text/plain": [
       "          gameId  playId      passer   receiver\n",
       "0     2021090900      97     t.brady   c.godwin\n",
       "1     2021090900     137  d.prescott   a.cooper\n",
       "2     2021090900     187  d.prescott  d.schultz\n",
       "3     2021090900     282  d.prescott     c.lamb\n",
       "4     2021090900     349  d.prescott     c.lamb\n",
       "...          ...     ...         ...        ...\n",
       "6685  2021110100    3955     d.jones   d.booker\n",
       "6686  2021110100    4016   p.mahomes    t.kelce\n",
       "6687  2021110100    4113   p.mahomes    t.kelce\n",
       "6688  2021110100    4363     d.jones   e.engram\n",
       "6689  2021110100    4411     d.jones   e.engram\n",
       "\n",
       "[6690 rows x 4 columns]"
      ]
     },
     "execution_count": 9,
     "metadata": {},
     "output_type": "execute_result"
    }
   ],
   "source": [
    "key_players_df = pd.DataFrame({'gameId': plays_df['gameId'], 'playId': plays_df['playId'], 'passer': passers, 'receiver': receivers})\n",
    "key_players_df = key_players_df.dropna()\n",
    "bad_players = np.concatenate((key_players_df[key_players_df['passer'].str.index('.') != 1]['passer'].unique(),\n",
    "                                     key_players_df[key_players_df['receiver'].str.index('.') != 1]['receiver'].unique(),\n",
    "                                     ['a.st']))\n",
    "print(bad_players)\n",
    "key_players_df = key_players_df.drop(key_players_df[(key_players_df['passer'].isin(bad_players)) | (key_players_df['receiver'].isin(bad_players))].index)\n",
    "key_players_df = key_players_df.reset_index(drop=True)\n",
    "key_players_df"
   ]
  },
  {
   "cell_type": "code",
   "execution_count": 10,
   "metadata": {},
   "outputs": [],
   "source": [
    "def stats_from_name(name, stats, columns, backup_stats):\n",
    "    player_stats = stats[stats['abrev_name'].str.lower() == name].drop(stats.columns.difference(columns), axis='columns')[:1]\n",
    "    if player_stats.empty:\n",
    "        position = backup_stats[backup_stats['abrev_name'].str.lower() == name]['officialPosition'].values[0]\n",
    "        player_stats = medians_df[medians_df['Position'] == position][columns].sort_index(axis=1)\n",
    "    return player_stats\n",
    "\n",
    "\n",
    "def yards_from_play(gameId, playId, plays):\n",
    "    return plays[(plays['gameId'] == gameId) & (plays['playId'] == playId)]['prePenaltyPlayResult'].values[0]"
   ]
  },
  {
   "cell_type": "code",
   "execution_count": 11,
   "metadata": {},
   "outputs": [],
   "source": [
    "feature_columns = ['Age', 'Height', 'Weight', 'Overall', 'Speed',\n",
    " 'Acceleration', 'Agility', 'Change of Dir', 'Strength', 'Jumping',\n",
    " 'Awareness', 'Carrying', 'Break Tackle', 'Juke Move', 'Spin Move',\n",
    " 'Trucking', 'Stiff Arm', 'BC Vision', 'Catching', 'Catch In Traffic',\n",
    " 'Spec Catch', 'Release', 'Short RR', 'Medium RR', 'Deep RR',\n",
    " 'Throw Power', 'Throw Acc Short', 'Throw Acc Mid', 'Throw Acc Deep',\n",
    " 'Throw Under Pressure', 'Throw On The Run', 'Play Action', 'Break Sack',\n",
    " 'Run Block', 'Run Block Power', 'Run Block Finesse', 'Pass Block',\n",
    " 'Pass Block Power', 'Pass Block Finesse', 'Impact Blocking',\n",
    " 'Lead Blocking', 'Tackle', 'Hit Power', 'Pursuit', 'Man Coverage',\n",
    " 'Zone Coverage', 'Press', 'Play Recognition', 'Power Moves',\n",
    " 'Finesse Moves', 'Block Shedding', 'Kick Power', 'Kick Accuracy',\n",
    " 'Kick Return', 'Stamina', 'Injury', 'Toughness', 'Years Pro']"
   ]
  },
  {
   "cell_type": "code",
   "execution_count": 12,
   "metadata": {},
   "outputs": [
    {
     "data": {
      "text/plain": [
       "(6690, 116)"
      ]
     },
     "execution_count": 12,
     "metadata": {},
     "output_type": "execute_result"
    }
   ],
   "source": [
    "X = np.stack(key_players_df.apply(lambda x: np.concatenate((stats_from_name(x['passer'], player_stats_df, feature_columns, backup_player_stats_df),\n",
    "                                                            stats_from_name(x['receiver'], player_stats_df, feature_columns, backup_player_stats_df)), axis=1)[0], axis=1)).astype(float)\n",
    "X.shape"
   ]
  },
  {
   "cell_type": "code",
   "execution_count": 13,
   "metadata": {},
   "outputs": [
    {
     "data": {
      "text/plain": [
       "(6690,)"
      ]
     },
     "execution_count": 13,
     "metadata": {},
     "output_type": "execute_result"
    }
   ],
   "source": [
    "Y = key_players_df.apply(lambda x: yards_from_play(x['gameId'], x['playId'], plays_df), axis=1).to_numpy().astype(float)\n",
    "Y.shape"
   ]
  },
  {
   "cell_type": "code",
   "execution_count": 14,
   "metadata": {},
   "outputs": [],
   "source": [
    "from sklearn.model_selection import train_test_split\n",
    "\n",
    "X_train, X_test, Y_train, Y_test = train_test_split(X, Y, train_size=0.8, random_state=0)"
   ]
  },
  {
   "cell_type": "code",
   "execution_count": 15,
   "metadata": {},
   "outputs": [
    {
     "data": {
      "text/plain": [
       "-1.4217083489019843e+22"
      ]
     },
     "execution_count": 15,
     "metadata": {},
     "output_type": "execute_result"
    }
   ],
   "source": [
    "from sklearn.linear_model import LinearRegression\n",
    "reg = LinearRegression().fit(X_train, Y_train)\n",
    "reg.score(X_test, Y_test)"
   ]
  },
  {
   "cell_type": "code",
   "execution_count": 16,
   "metadata": {},
   "outputs": [
    {
     "data": {
      "text/plain": [
       "0.006389312175957618"
      ]
     },
     "execution_count": 16,
     "metadata": {},
     "output_type": "execute_result"
    }
   ],
   "source": [
    "from sklearn.linear_model import ElasticNet\n",
    "reg = ElasticNet().fit(X_train, Y_train)\n",
    "reg.score(X_test, Y_test)"
   ]
  },
  {
   "cell_type": "code",
   "execution_count": 17,
   "metadata": {},
   "outputs": [
    {
     "data": {
      "text/plain": [
       "-0.06954036645002493"
      ]
     },
     "execution_count": 17,
     "metadata": {},
     "output_type": "execute_result"
    }
   ],
   "source": [
    "from sklearn import svm\n",
    "reg = svm.SVR().fit(X_train, Y_train)\n",
    "reg.score(X_test, Y_test)"
   ]
  },
  {
   "cell_type": "code",
   "execution_count": 18,
   "metadata": {},
   "outputs": [
    {
     "data": {
      "text/plain": [
       "array(['x44', 'x70', 'x79', 'x81', 'x83', 'x87', 'x91', 'x94', 'x97',\n",
       "       'x98'], dtype=object)"
      ]
     },
     "execution_count": 18,
     "metadata": {},
     "output_type": "execute_result"
    }
   ],
   "source": [
    "from sklearn.feature_selection import SelectKBest\n",
    "from sklearn.feature_selection import mutual_info_regression\n",
    "k_best = SelectKBest(mutual_info_regression).fit(X_train, Y_train)\n",
    "Xk_train = k_best.transform(X_train)\n",
    "Xk_test = k_best.transform(X_test)\n",
    "k_best.get_feature_names_out()"
   ]
  },
  {
   "cell_type": "code",
   "execution_count": 19,
   "metadata": {},
   "outputs": [
    {
     "data": {
      "text/plain": [
       "0.0016532102762423229"
      ]
     },
     "execution_count": 19,
     "metadata": {},
     "output_type": "execute_result"
    }
   ],
   "source": [
    "from sklearn.linear_model import LinearRegression\n",
    "reg = LinearRegression().fit(Xk_train, Y_train)\n",
    "reg.score(Xk_test, Y_test)"
   ]
  },
  {
   "cell_type": "code",
   "execution_count": 20,
   "metadata": {},
   "outputs": [
    {
     "data": {
      "text/plain": [
       "0.001640299474380269"
      ]
     },
     "execution_count": 20,
     "metadata": {},
     "output_type": "execute_result"
    }
   ],
   "source": [
    "from sklearn.linear_model import ElasticNet\n",
    "reg = ElasticNet().fit(Xk_train, Y_train)\n",
    "reg.score(Xk_test, Y_test)"
   ]
  },
  {
   "cell_type": "code",
   "execution_count": 21,
   "metadata": {},
   "outputs": [
    {
     "data": {
      "text/plain": [
       "-0.06876043870963944"
      ]
     },
     "execution_count": 21,
     "metadata": {},
     "output_type": "execute_result"
    }
   ],
   "source": [
    "from sklearn import svm\n",
    "reg = svm.SVR().fit(Xk_train, Y_train)\n",
    "reg.score(Xk_test, Y_test)"
   ]
  },
  {
   "cell_type": "code",
   "execution_count": 22,
   "metadata": {},
   "outputs": [
    {
     "data": {
      "text/plain": [
       "-0.032853860644679767"
      ]
     },
     "execution_count": 22,
     "metadata": {},
     "output_type": "execute_result"
    }
   ],
   "source": [
    "from sklearn import tree\n",
    "reg = tree.DecisionTreeRegressor().fit(X_train, Y_train)\n",
    "reg.score(X_test, Y_test)"
   ]
  },
  {
   "cell_type": "code",
   "execution_count": 26,
   "metadata": {},
   "outputs": [
    {
     "data": {
      "text/plain": [
       "-0.03347036933828762"
      ]
     },
     "execution_count": 26,
     "metadata": {},
     "output_type": "execute_result"
    }
   ],
   "source": [
    "from sklearn.ensemble import RandomForestRegressor\n",
    "reg = RandomForestRegressor().fit(X_train, Y_train)\n",
    "reg.score(X_test, Y_test)"
   ]
  },
  {
   "cell_type": "code",
   "execution_count": 24,
   "metadata": {},
   "outputs": [
    {
     "data": {
      "text/plain": [
       "0.005089387526406974"
      ]
     },
     "execution_count": 24,
     "metadata": {},
     "output_type": "execute_result"
    }
   ],
   "source": [
    "from sklearn.linear_model import SGDRegressor\n",
    "from sklearn.pipeline import make_pipeline\n",
    "from sklearn.preprocessing import StandardScaler\n",
    "reg = make_pipeline(StandardScaler(), SGDRegressor()).fit(X_train, Y_train)\n",
    "reg.score(X_test, Y_test)"
   ]
  },
  {
   "cell_type": "code",
   "execution_count": 25,
   "metadata": {},
   "outputs": [
    {
     "data": {
      "text/plain": [
       "-0.07427589053773453"
      ]
     },
     "execution_count": 25,
     "metadata": {},
     "output_type": "execute_result"
    }
   ],
   "source": [
    "from sklearn.neural_network import MLPRegressor\n",
    "reg = MLPRegressor().fit(X_train, Y_train)\n",
    "reg.score(X_test, Y_test)"
   ]
  }
 ],
 "metadata": {
  "kernelspec": {
   "display_name": "ads",
   "language": "python",
   "name": "python3"
  },
  "language_info": {
   "codemirror_mode": {
    "name": "ipython",
    "version": 3
   },
   "file_extension": ".py",
   "mimetype": "text/x-python",
   "name": "python",
   "nbconvert_exporter": "python",
   "pygments_lexer": "ipython3",
   "version": "3.10.9"
  },
  "orig_nbformat": 4,
  "vscode": {
   "interpreter": {
    "hash": "0e96904fe6a4eb5dcde79f9123a0a8bbaac3658c49d83a7a085475ac53c6c486"
   }
  }
 },
 "nbformat": 4,
 "nbformat_minor": 2
}
