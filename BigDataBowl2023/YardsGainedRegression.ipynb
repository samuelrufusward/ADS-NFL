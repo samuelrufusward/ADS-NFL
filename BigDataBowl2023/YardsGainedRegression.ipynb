{
 "cells": [
  {
   "cell_type": "code",
   "execution_count": 64,
   "metadata": {},
   "outputs": [],
   "source": [
    "import pandas as pd\n",
    "import numpy as np"
   ]
  },
  {
   "cell_type": "code",
   "execution_count": 65,
   "metadata": {},
   "outputs": [],
   "source": [
    "plays_df = pd.read_csv(\"./data2023/plays.csv\")\n",
    "plays_df = plays_df.loc[plays_df['passResult'].isin(['C', 'I', 'IN'])]\n",
    "player_stats_df = pd.read_csv(\"merged_df.csv\").drop('Unnamed: 0', axis='columns')"
   ]
  },
  {
   "cell_type": "code",
   "execution_count": 66,
   "metadata": {},
   "outputs": [
    {
     "data": {
      "text/plain": [
       "array(['I', 'C', 'IN'], dtype=object)"
      ]
     },
     "execution_count": 66,
     "metadata": {},
     "output_type": "execute_result"
    }
   ],
   "source": [
    "plays_df['passResult'].unique()"
   ]
  },
  {
   "cell_type": "code",
   "execution_count": 67,
   "metadata": {},
   "outputs": [
    {
     "data": {
      "text/plain": [
       "0                T.Brady\n",
       "1       B.Roethlisberger\n",
       "2              A.Rodgers\n",
       "3          R.Fitzpatrick\n",
       "4                M.Lewis\n",
       "              ...       \n",
       "1409         J.Jefferson\n",
       "1410             D.Milne\n",
       "1411            G.Stuard\n",
       "1412            J.Jacobs\n",
       "1413            J.Heflin\n",
       "Name: abrev_name, Length: 1414, dtype: object"
      ]
     },
     "execution_count": 67,
     "metadata": {},
     "output_type": "execute_result"
    }
   ],
   "source": [
    "player_stats_df[\"abrev_name\"] = player_stats_df.displayName.apply(lambda x: str(x)[0]+ \".\"+\"\".join(str(x).split(\" \")[1:]))\n",
    "player_stats_df.abrev_name"
   ]
  },
  {
   "cell_type": "code",
   "execution_count": 68,
   "metadata": {},
   "outputs": [
    {
     "data": {
      "text/plain": [
       "0         T.Brady pass incomplete deep right to C.Godwin.\n",
       "1        D.Prescott pass deep left to A.Cooper pushed ...\n",
       "2        D.Prescott pass short middle to D.Schultz to ...\n",
       "3         D.Prescott pass incomplete deep left to C.Lamb.\n",
       "4        D.Prescott pass incomplete short left to C.La...\n",
       "                              ...                        \n",
       "8549     P.Mahomes pass incomplete short right [O.Ximi...\n",
       "8550     P.Mahomes pass short right intended for B.Pri...\n",
       "8551     P.Mahomes pass short right to T.Kelce to KC 3...\n",
       "8553     D.Jones pass short right to E.Engram pushed o...\n",
       "8555     D.Jones pass incomplete short right to E.Engram.\n",
       "Name: playDescription, Length: 7565, dtype: object"
      ]
     },
     "execution_count": 68,
     "metadata": {},
     "output_type": "execute_result"
    }
   ],
   "source": [
    "# Remove time from play description\n",
    "playDescText = plays_df.playDescription.apply(lambda x: \" \".join(str(x).split()[1:]))\n",
    "# Remove formation from play description\n",
    "playDescText = playDescText.apply(lambda x: \"\".join(x.split(\")\")[1:]) if str(x).startswith(\"(\") else x)\n",
    "playDescText"
   ]
  },
  {
   "cell_type": "code",
   "execution_count": 123,
   "metadata": {},
   "outputs": [
    {
     "data": {
      "text/html": [
       "<div>\n",
       "<style scoped>\n",
       "    .dataframe tbody tr th:only-of-type {\n",
       "        vertical-align: middle;\n",
       "    }\n",
       "\n",
       "    .dataframe tbody tr th {\n",
       "        vertical-align: top;\n",
       "    }\n",
       "\n",
       "    .dataframe thead th {\n",
       "        text-align: right;\n",
       "    }\n",
       "</style>\n",
       "<table border=\"1\" class=\"dataframe\">\n",
       "  <thead>\n",
       "    <tr style=\"text-align: right;\">\n",
       "      <th></th>\n",
       "      <th>playId</th>\n",
       "      <th>passer</th>\n",
       "      <th>receiver</th>\n",
       "    </tr>\n",
       "  </thead>\n",
       "  <tbody>\n",
       "    <tr>\n",
       "      <th>2</th>\n",
       "      <td>187</td>\n",
       "      <td>d.prescott</td>\n",
       "      <td>d.schultz</td>\n",
       "    </tr>\n",
       "    <tr>\n",
       "      <th>3</th>\n",
       "      <td>282</td>\n",
       "      <td>d.prescott</td>\n",
       "      <td>c.lamb</td>\n",
       "    </tr>\n",
       "    <tr>\n",
       "      <th>4</th>\n",
       "      <td>349</td>\n",
       "      <td>d.prescott</td>\n",
       "      <td>c.lamb</td>\n",
       "    </tr>\n",
       "    <tr>\n",
       "      <th>5</th>\n",
       "      <td>410</td>\n",
       "      <td>t.brady</td>\n",
       "      <td>m.evans</td>\n",
       "    </tr>\n",
       "    <tr>\n",
       "      <th>6</th>\n",
       "      <td>434</td>\n",
       "      <td>t.brady</td>\n",
       "      <td>m.evans</td>\n",
       "    </tr>\n",
       "    <tr>\n",
       "      <th>...</th>\n",
       "      <td>...</td>\n",
       "      <td>...</td>\n",
       "      <td>...</td>\n",
       "    </tr>\n",
       "    <tr>\n",
       "      <th>8549</th>\n",
       "      <td>4049</td>\n",
       "      <td>p.mahomes</td>\n",
       "      <td>NaN</td>\n",
       "    </tr>\n",
       "    <tr>\n",
       "      <th>8550</th>\n",
       "      <td>4071</td>\n",
       "      <td>p.mahomes</td>\n",
       "      <td>kc</td>\n",
       "    </tr>\n",
       "    <tr>\n",
       "      <th>8551</th>\n",
       "      <td>4113</td>\n",
       "      <td>p.mahomes</td>\n",
       "      <td>t.kelce</td>\n",
       "    </tr>\n",
       "    <tr>\n",
       "      <th>8553</th>\n",
       "      <td>4363</td>\n",
       "      <td>d.jones</td>\n",
       "      <td>e.engram</td>\n",
       "    </tr>\n",
       "    <tr>\n",
       "      <th>8555</th>\n",
       "      <td>4411</td>\n",
       "      <td>d.jones</td>\n",
       "      <td>e.engram</td>\n",
       "    </tr>\n",
       "  </tbody>\n",
       "</table>\n",
       "<p>7563 rows × 3 columns</p>\n",
       "</div>"
      ],
      "text/plain": [
       "      playId      passer   receiver\n",
       "2        187  d.prescott  d.schultz\n",
       "3        282  d.prescott     c.lamb\n",
       "4        349  d.prescott     c.lamb\n",
       "5        410     t.brady    m.evans\n",
       "6        434     t.brady    m.evans\n",
       "...      ...         ...        ...\n",
       "8549    4049   p.mahomes        NaN\n",
       "8550    4071   p.mahomes         kc\n",
       "8551    4113   p.mahomes    t.kelce\n",
       "8553    4363     d.jones   e.engram\n",
       "8555    4411     d.jones   e.engram\n",
       "\n",
       "[7563 rows x 3 columns]"
      ]
     },
     "execution_count": 123,
     "metadata": {},
     "output_type": "execute_result"
    }
   ],
   "source": [
    "passers = playDescText.map(lambda x: str(x).lower().split(\" \")[str(x).lower().split(\" \").index(\"pass\")-1] if \"pass\" in str(x).lower().split(\" \") else np.nan)\n",
    "receivers = playDescText.map(lambda x: str(x).lower().split(\" \")[str(x).lower().split(\" \").index(\"to\")+1].removesuffix('.') if (\"pass\" in str(x).lower().split(\" \") and \"to\" in str(x).lower().split(\" \")) else np.nan)\n",
    "key_players_df = pd.DataFrame({'playId': plays_df['playId'], 'passer': passers, 'receiver': receivers}).drop()\n",
    "key_players_df"
   ]
  },
  {
   "cell_type": "code",
   "execution_count": 120,
   "metadata": {},
   "outputs": [
    {
     "data": {
      "text/plain": [
       "array(['c.godwin', 'a.cooper', 'd.schultz', 'c.lamb', 'm.evans',\n",
       "       'r.gronkowski', 'a.brown', 'm.gallup', 'b.jarwin', 'l.fournette',\n",
       "       't.pollard', 'c.wilson', 'tb', 'g.bernard', 't.johnson',\n",
       "       'e.elliott', 'dal', 'c.ridley', 'c.patterson', 'k.pitts',\n",
       "       'h.hurst', 'r.gage', 'm.davis', 'd.smith', 'k.smith', 'd.goedert',\n",
       "       'z.ertz', 'm.sanders', 'k.gainwell', 'j.reagor', 'atl',\n",
       "       'c.beasley', 's.diggs', 'd.johnson', 'd.knox', 'e.sanders',\n",
       "       'j.smith-schuster', 'c.claypool', 'n.harris', 'd.singletary',\n",
       "       'g.davis', 'pit', 'e.ebron', 'p.freiermuth', 'r.griffin',\n",
       "       't.marshall', 'c.davis', 'dj.moore', 'd.arnold', 'e.moore',\n",
       "       'c.mccaffrey', 'i.thomas', 'j.smith', 't.kroft', 'mi.carter',\n",
       "       'r.anderson', 'b.berrios', 'c.hubbard', 'd.mims', 't.conklin',\n",
       "       'a.thielen', 'j.jefferson', 'd.westbrook', 't.boyd', 's.perine',\n",
       "       'd.cook', 't.higgins', 'a.mattison', 'k.osborn', 'j.mixon',\n",
       "       'j.chase', 'a.abdullah', 'm.thomas', 'c.herndon', 'c.ham',\n",
       "       'c.uzomah', 't.hockenson', 't.williams', 'j.williams', 'a.st',\n",
       "       'd.swift', 'g.kittle', 'm.sanu', 't.sherfield', 'j.cabinda',\n",
       "       'd.samuel', 'd.fells', 'k.juszczyk', 'k.raymond', 'q.cephus',\n",
       "       'j.hasty', 't.benson', 'b.cooks', 'n.collins', 'j.robinson',\n",
       "       'l.shenault', 'p.brown', 'd.amendola', 'm.jones', 'd.chark',\n",
       "       'c.conley', \"j.o'shaughnessy\", 'c.manhertz', 'r.burkhead', 'jax',\n",
       "       'm.ingram', 'j.akins', 'hou', 'c.hyde', 'j.doyle', 'm.strachan',\n",
       "       'z.pascal', 'n.hines', 't.lockett', 'w.dissly', 'g.everett',\n",
       "       'p.campbell', 'j.taylor', 'm.pittman', 'c.carson', 'f.swain',\n",
       "       'm.alie-cox', 'd.eskridge', 'd.metcalf', 'd.dallas', 'd.henry',\n",
       "       'c.rogers', 'd.hopkins', 'c.edmonds', 'a.green', 'c.kirk',\n",
       "       'r.moore', 'd.harris', 'j.mcnichols', 'a.firkser', 'j.jones',\n",
       "       'g.swaim', 'n.westbrook-ikhine', 'm.williams', 'ari', 'j.guyton',\n",
       "       'j.cook', 'k.allen', 'a.gibson', 'd.brown', 'j.jackson',\n",
       "       'a.humphries', 'k.hill', 'j.mckissic', 's.anderson', 'j.palmer',\n",
       "       't.mclaurin', 'l.thomas', 'c.sims', 'd.parham', 'n.chubb',\n",
       "       'a.hooper', 'a.janovich', 'a.schwartz', 'd.njoku', 't.kelce',\n",
       "       'c.edwards-helaire', 't.hill', 'd.robinson', 'h.bryant',\n",
       "       'm.hardman', 'b.pringle', 'j.landry', 'k.hunt', 'd.peoples-jones',\n",
       "       'kc', 'j.white', 'd.smythe', 'n.agholor', 'j.meyers',\n",
       "       'r.stevenson', 'd.parker', 'j.waddle', 's.ahmed', 'm.gesicki',\n",
       "       'm.gaskin', 'a.wilson', 'k.bourne', 'h.henry', '50', 'm.callaway',\n",
       "       'a.trautman', 'd.adams', 'a.jones', 'r.tonyan', 'a.kamara',\n",
       "       'm.valdes-scantling', 't.montgomery', 'j.johnson', 'a.lazard',\n",
       "       'm.lewis', 'no', 'c.hogan', 'gb', 'a.dillon', 'am.rodgers',\n",
       "       'm.taylor', 'd.slayton', 's.shepard', 'c.sutton', 'j.jeudy',\n",
       "       'e.saubert', 't.patrick', 'm.gordon', 'k.hamler', 'n.fant',\n",
       "       'k.golladay', 'd.booker', 'a.okwuegbunam', 'e.penny', 'k.rudolph',\n",
       "       's.barkley', 'g.brightwell', 'c.board', 'd.mooney', 't.higbee',\n",
       "       'v.jefferson', 'a.robinson', 'c.kmet', 'd.williams', 'c.kupp',\n",
       "       'd.jackson', 'm.goodwin', 'd.byrd', 'd.henderson', 'r.woods',\n",
       "       'd.montgomery', 'j.graham', 'd.waller', 'a.ingold', 'h.renfrow',\n",
       "       'j.jacobs', 's.watkins', 'm.andrews', 'm.brown', 'j.oliver',\n",
       "       'k.drake', 'h.ruggs', 'z.jones', 'b.edwards', 'd.duvernay',\n",
       "       'p.ricard', 'r.seals-jones', 'was', 'b.zylstra', 'l.humphrey',\n",
       "       'car', 'c.evans', 'cin', 'chi', 'r.higgins', 'cle', 'a.roberts',\n",
       "       'la', 'a.dulin', 'm.mack', 'l.treadwell', 'k.hinton', 'l.farrell',\n",
       "       'i.mckenzie', 'z.moss', 'buf', 'a.shaheen', 'j.grant',\n",
       "       'p.williams', 'c.carter', 'j.kumerow', 'nyj', 'ne', 'b.aiyuk',\n",
       "       'q.watkins', 'j.jennings', 'f.moreau', 'd.carrier', 'w.snead',\n",
       "       'o.zaccheaus', 'l.smith', 'r.jones', 't.sharpe', 'o.howard',\n",
       "       'c.blake', 'c.brate', 'p.hesse', 'a.ekeler', 'l.rountree',\n",
       "       't.hudson', 't.homer', 'm.pruitt', 'j.fortson', 'j.mckinnon',\n",
       "       'm.burton', 'bal', 'r.cobb', 'a.miller', 'r.freeman', 'a.erickson',\n",
       "       't.tremble', 't.sweeney', 'r.gilliam', 't.heinicke', 'o.beckham',\n",
       "       'd.felton', 'j.proche', 'k.hodge', 'det', 'j.hollister',\n",
       "       'j.conner', 'p.dorsett', 'lac', 'g.nabers', 'da.williams',\n",
       "       'n.gray', 'k.stills', 't.jones', 'b.bolden', 'e.engram', 'k.toney',\n",
       "       'c.johnson', 'j.washington', 'a.tate', 'r.mccloud', 'c.white',\n",
       "       'ind', 'c.batson', 'r.mcmath', 'k.cole', 'p.barber', 'w.fuller',\n",
       "       's.michel', 's.miller', 'p.hart', 'sf', 't.sermon', 'n.brown',\n",
       "       'g.ward', 't.austin', 't.irwin', 'j.agnew', 'c.samuel',\n",
       "       'j.patterson', 'd.carter', 'r.smith', 'k.granson', 'j.ross',\n",
       "       'd.washington', 'nyg', 'j.reynolds', 'j.crowder', 'ten', 't.wesco',\n",
       "       'j.mundt', 'r.dwelley', 'a.collins', 'l.bell', 'd.spencer', 'e.st',\n",
       "       'z.gentry', 'b.snell', 'c.mcelroy', 'n.harry', 'c.parkinson',\n",
       "       'phi', 'd.sample', 'a.auclair', 'c.moore', 'm.johnson',\n",
       "       'd.ogunbowale', 'b.ellefson', 'k.ballage', 'd.moore', 'i.ford',\n",
       "       'm.hollins', 'd.milne', 'j.horsted', 't.benjamin', 'c.woerner',\n",
       "       'e.mitchell', 'j.gordon', 'b.bell', 'l.murray', 'd.freeman',\n",
       "       'h.long', 'mia', 'r.bateman', 'm.boykin', 'k.herbert', 'j.deguara',\n",
       "       't.kennedy', 't.hilton', 'p.lindsay', 'd.pettis', 'j.bates',\n",
       "       'd.daniels', 'j.stanton', 'j.richard', 'den', 'lv', 'start',\n",
       "       'm.turner', 't.cleveland', 'g.olszewski', 'd.sills', 'k.kirkwood',\n",
       "       'c.thompson', 's.smith', 'd.evans', 'm.kemp', 'd.gore',\n",
       "       'g.allison', 'h.vaitai', 'b.scott', 'j.james', 'd.yelder',\n",
       "       'j.darden', 'k.coutee', 't.smith', 'sea', 'd.ozigbo', 'k.white',\n",
       "       'j.winfree', 'a.wesley', 'p.laird', 'g.igwebuike', 's.phillips',\n",
       "       'b.skowronek', 'b.jordan', 'g.griffin', 'a.armah', 'c.grayson',\n",
       "       'min', 'l.stocker', 'i.smith-marsette'], dtype=object)"
      ]
     },
     "execution_count": 120,
     "metadata": {},
     "output_type": "execute_result"
    }
   ],
   "source": [
    "key_players_df['receiver'].dropna().unique()"
   ]
  },
  {
   "cell_type": "code",
   "execution_count": 101,
   "metadata": {},
   "outputs": [
    {
     "name": "stdout",
     "output_type": "stream",
     "text": [
      "(3:38) (Shotgun) M.Stafford pass short right to R.Woods to LA 32 for 7 yards (J.Hicks).\n",
      "(4:39) (No Huddle, Shotgun) T.Lawrence pass incomplete short right to M.Jones [J.Baker].\n",
      "(4:29) (Shotgun) P.Mahomes pass short right intended for B.Pringle INTERCEPTED by D.Holmes at KC 34. D.Holmes to KC 34 for no gain (B.Pringle). PENALTY on NYG-O.Ximines, Defensive Offside, 5 yards, enforced at KC 19 - No Play.\n"
     ]
    }
   ],
   "source": [
    "a = plays_df.loc[plays_df['playId'] == 4071]['playDescription']\n",
    "for b in a:\n",
    "    print(b)"
   ]
  }
 ],
 "metadata": {
  "kernelspec": {
   "display_name": "ads",
   "language": "python",
   "name": "python3"
  },
  "language_info": {
   "codemirror_mode": {
    "name": "ipython",
    "version": 3
   },
   "file_extension": ".py",
   "mimetype": "text/x-python",
   "name": "python",
   "nbconvert_exporter": "python",
   "pygments_lexer": "ipython3",
   "version": "3.10.9"
  },
  "orig_nbformat": 4
 },
 "nbformat": 4,
 "nbformat_minor": 2
}
