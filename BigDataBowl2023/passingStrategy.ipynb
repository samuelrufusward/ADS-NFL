{
 "cells": [
  {
   "cell_type": "markdown",
   "source": [
    "Analysis of passing strategy"
   ],
   "metadata": {
    "collapsed": false
   }
  },
  {
   "cell_type": "code",
   "execution_count": 47,
   "outputs": [],
   "source": [
    "import datetime\n",
    "import pandas as pd\n",
    "import numpy as np"
   ],
   "metadata": {
    "collapsed": false
   }
  },
  {
   "cell_type": "code",
   "execution_count": 4,
   "outputs": [],
   "source": [
    "plays_df = pd.read_csv(\"./data2023/plays.csv\")"
   ],
   "metadata": {
    "collapsed": false
   }
  },
  {
   "cell_type": "code",
   "execution_count": 6,
   "outputs": [],
   "source": [
    "games_df = pd.read_csv(\"./data2023/games.csv\")"
   ],
   "metadata": {
    "collapsed": false
   }
  },
  {
   "cell_type": "code",
   "execution_count": 48,
   "outputs": [],
   "source": [
    "players_df = pd.read_csv(\"./data2023/players.csv\")"
   ],
   "metadata": {
    "collapsed": false
   }
  },
  {
   "cell_type": "code",
   "execution_count": 5,
   "outputs": [
    {
     "data": {
      "text/plain": "       gameId  playId                                    playDescription  \\\n0  2021090900      97  (13:33) (Shotgun) T.Brady pass incomplete deep...   \n1  2021090900     137  (13:18) (Shotgun) D.Prescott pass deep left to...   \n2  2021090900     187  (12:23) (Shotgun) D.Prescott pass short middle...   \n3  2021090900     282  (9:56) D.Prescott pass incomplete deep left to...   \n4  2021090900     349  (9:46) (Shotgun) D.Prescott pass incomplete sh...   \n\n   quarter  down  yardsToGo possessionTeam defensiveTeam yardlineSide  \\\n0        1     3          2             TB           DAL           TB   \n1        1     1         10            DAL            TB          DAL   \n2        1     2          6            DAL            TB          DAL   \n3        1     1         10            DAL            TB           TB   \n4        1     3         15            DAL            TB           TB   \n\n   yardlineNumber  ... foulNFLId3  absoluteYardlineNumber  offenseFormation  \\\n0              33  ...        NaN                    43.0           SHOTGUN   \n1               2  ...        NaN                   108.0             EMPTY   \n2              34  ...        NaN                    76.0           SHOTGUN   \n3              39  ...        NaN                    49.0        SINGLEBACK   \n4              44  ...        NaN                    54.0           SHOTGUN   \n\n         personnelO  defendersInBox        personnelD  dropBackType  \\\n0  1 RB, 1 TE, 3 WR             6.0  4 DL, 2 LB, 5 DB   TRADITIONAL   \n1  1 RB, 2 TE, 2 WR             6.0  4 DL, 4 LB, 3 DB   TRADITIONAL   \n2  0 RB, 2 TE, 3 WR             6.0  3 DL, 3 LB, 5 DB   TRADITIONAL   \n3  1 RB, 2 TE, 2 WR             6.0  4 DL, 3 LB, 4 DB   TRADITIONAL   \n4  1 RB, 1 TE, 3 WR             7.0  3 DL, 4 LB, 4 DB   TRADITIONAL   \n\n  pff_playAction  pff_passCoverage pff_passCoverageType  \n0              0           Cover-1                  Man  \n1              0           Cover-3                 Zone  \n2              0           Cover-3                 Zone  \n3              1           Cover-3                 Zone  \n4              0           Cover-3                 Zone  \n\n[5 rows x 32 columns]",
      "text/html": "<div>\n<style scoped>\n    .dataframe tbody tr th:only-of-type {\n        vertical-align: middle;\n    }\n\n    .dataframe tbody tr th {\n        vertical-align: top;\n    }\n\n    .dataframe thead th {\n        text-align: right;\n    }\n</style>\n<table border=\"1\" class=\"dataframe\">\n  <thead>\n    <tr style=\"text-align: right;\">\n      <th></th>\n      <th>gameId</th>\n      <th>playId</th>\n      <th>playDescription</th>\n      <th>quarter</th>\n      <th>down</th>\n      <th>yardsToGo</th>\n      <th>possessionTeam</th>\n      <th>defensiveTeam</th>\n      <th>yardlineSide</th>\n      <th>yardlineNumber</th>\n      <th>...</th>\n      <th>foulNFLId3</th>\n      <th>absoluteYardlineNumber</th>\n      <th>offenseFormation</th>\n      <th>personnelO</th>\n      <th>defendersInBox</th>\n      <th>personnelD</th>\n      <th>dropBackType</th>\n      <th>pff_playAction</th>\n      <th>pff_passCoverage</th>\n      <th>pff_passCoverageType</th>\n    </tr>\n  </thead>\n  <tbody>\n    <tr>\n      <th>0</th>\n      <td>2021090900</td>\n      <td>97</td>\n      <td>(13:33) (Shotgun) T.Brady pass incomplete deep...</td>\n      <td>1</td>\n      <td>3</td>\n      <td>2</td>\n      <td>TB</td>\n      <td>DAL</td>\n      <td>TB</td>\n      <td>33</td>\n      <td>...</td>\n      <td>NaN</td>\n      <td>43.0</td>\n      <td>SHOTGUN</td>\n      <td>1 RB, 1 TE, 3 WR</td>\n      <td>6.0</td>\n      <td>4 DL, 2 LB, 5 DB</td>\n      <td>TRADITIONAL</td>\n      <td>0</td>\n      <td>Cover-1</td>\n      <td>Man</td>\n    </tr>\n    <tr>\n      <th>1</th>\n      <td>2021090900</td>\n      <td>137</td>\n      <td>(13:18) (Shotgun) D.Prescott pass deep left to...</td>\n      <td>1</td>\n      <td>1</td>\n      <td>10</td>\n      <td>DAL</td>\n      <td>TB</td>\n      <td>DAL</td>\n      <td>2</td>\n      <td>...</td>\n      <td>NaN</td>\n      <td>108.0</td>\n      <td>EMPTY</td>\n      <td>1 RB, 2 TE, 2 WR</td>\n      <td>6.0</td>\n      <td>4 DL, 4 LB, 3 DB</td>\n      <td>TRADITIONAL</td>\n      <td>0</td>\n      <td>Cover-3</td>\n      <td>Zone</td>\n    </tr>\n    <tr>\n      <th>2</th>\n      <td>2021090900</td>\n      <td>187</td>\n      <td>(12:23) (Shotgun) D.Prescott pass short middle...</td>\n      <td>1</td>\n      <td>2</td>\n      <td>6</td>\n      <td>DAL</td>\n      <td>TB</td>\n      <td>DAL</td>\n      <td>34</td>\n      <td>...</td>\n      <td>NaN</td>\n      <td>76.0</td>\n      <td>SHOTGUN</td>\n      <td>0 RB, 2 TE, 3 WR</td>\n      <td>6.0</td>\n      <td>3 DL, 3 LB, 5 DB</td>\n      <td>TRADITIONAL</td>\n      <td>0</td>\n      <td>Cover-3</td>\n      <td>Zone</td>\n    </tr>\n    <tr>\n      <th>3</th>\n      <td>2021090900</td>\n      <td>282</td>\n      <td>(9:56) D.Prescott pass incomplete deep left to...</td>\n      <td>1</td>\n      <td>1</td>\n      <td>10</td>\n      <td>DAL</td>\n      <td>TB</td>\n      <td>TB</td>\n      <td>39</td>\n      <td>...</td>\n      <td>NaN</td>\n      <td>49.0</td>\n      <td>SINGLEBACK</td>\n      <td>1 RB, 2 TE, 2 WR</td>\n      <td>6.0</td>\n      <td>4 DL, 3 LB, 4 DB</td>\n      <td>TRADITIONAL</td>\n      <td>1</td>\n      <td>Cover-3</td>\n      <td>Zone</td>\n    </tr>\n    <tr>\n      <th>4</th>\n      <td>2021090900</td>\n      <td>349</td>\n      <td>(9:46) (Shotgun) D.Prescott pass incomplete sh...</td>\n      <td>1</td>\n      <td>3</td>\n      <td>15</td>\n      <td>DAL</td>\n      <td>TB</td>\n      <td>TB</td>\n      <td>44</td>\n      <td>...</td>\n      <td>NaN</td>\n      <td>54.0</td>\n      <td>SHOTGUN</td>\n      <td>1 RB, 1 TE, 3 WR</td>\n      <td>7.0</td>\n      <td>3 DL, 4 LB, 4 DB</td>\n      <td>TRADITIONAL</td>\n      <td>0</td>\n      <td>Cover-3</td>\n      <td>Zone</td>\n    </tr>\n  </tbody>\n</table>\n<p>5 rows × 32 columns</p>\n</div>"
     },
     "execution_count": 5,
     "metadata": {},
     "output_type": "execute_result"
    }
   ],
   "source": [
    "plays_df.head()"
   ],
   "metadata": {
    "collapsed": false
   }
  },
  {
   "cell_type": "code",
   "execution_count": 8,
   "outputs": [
    {
     "data": {
      "text/plain": "       gameId  season  week    gameDate gameTimeEastern homeTeamAbbr  \\\n0  2021090900    2021     1  09/09/2021        20:20:00           TB   \n1  2021091200    2021     1  09/12/2021        13:00:00          ATL   \n2  2021091201    2021     1  09/12/2021        13:00:00          BUF   \n3  2021091202    2021     1  09/12/2021        13:00:00          CAR   \n4  2021091203    2021     1  09/12/2021        13:00:00          CIN   \n\n  visitorTeamAbbr  \n0             DAL  \n1             PHI  \n2             PIT  \n3             NYJ  \n4             MIN  ",
      "text/html": "<div>\n<style scoped>\n    .dataframe tbody tr th:only-of-type {\n        vertical-align: middle;\n    }\n\n    .dataframe tbody tr th {\n        vertical-align: top;\n    }\n\n    .dataframe thead th {\n        text-align: right;\n    }\n</style>\n<table border=\"1\" class=\"dataframe\">\n  <thead>\n    <tr style=\"text-align: right;\">\n      <th></th>\n      <th>gameId</th>\n      <th>season</th>\n      <th>week</th>\n      <th>gameDate</th>\n      <th>gameTimeEastern</th>\n      <th>homeTeamAbbr</th>\n      <th>visitorTeamAbbr</th>\n    </tr>\n  </thead>\n  <tbody>\n    <tr>\n      <th>0</th>\n      <td>2021090900</td>\n      <td>2021</td>\n      <td>1</td>\n      <td>09/09/2021</td>\n      <td>20:20:00</td>\n      <td>TB</td>\n      <td>DAL</td>\n    </tr>\n    <tr>\n      <th>1</th>\n      <td>2021091200</td>\n      <td>2021</td>\n      <td>1</td>\n      <td>09/12/2021</td>\n      <td>13:00:00</td>\n      <td>ATL</td>\n      <td>PHI</td>\n    </tr>\n    <tr>\n      <th>2</th>\n      <td>2021091201</td>\n      <td>2021</td>\n      <td>1</td>\n      <td>09/12/2021</td>\n      <td>13:00:00</td>\n      <td>BUF</td>\n      <td>PIT</td>\n    </tr>\n    <tr>\n      <th>3</th>\n      <td>2021091202</td>\n      <td>2021</td>\n      <td>1</td>\n      <td>09/12/2021</td>\n      <td>13:00:00</td>\n      <td>CAR</td>\n      <td>NYJ</td>\n    </tr>\n    <tr>\n      <th>4</th>\n      <td>2021091203</td>\n      <td>2021</td>\n      <td>1</td>\n      <td>09/12/2021</td>\n      <td>13:00:00</td>\n      <td>CIN</td>\n      <td>MIN</td>\n    </tr>\n  </tbody>\n</table>\n</div>"
     },
     "execution_count": 8,
     "metadata": {},
     "output_type": "execute_result"
    }
   ],
   "source": [
    "games_df.head()"
   ],
   "metadata": {
    "collapsed": false
   }
  },
  {
   "cell_type": "markdown",
   "source": [
    "# Players pre-processing"
   ],
   "metadata": {
    "collapsed": false
   }
  },
  {
   "cell_type": "code",
   "execution_count": 9,
   "outputs": [
    {
     "data": {
      "text/plain": "   nflId height  weight   birthDate collegeName officialPosition  \\\n0  25511    6-4     225  1977-08-03    Michigan               QB   \n1  28963    6-5     240  1982-03-02   Miami, O.               QB   \n2  29550    6-4     328  1982-01-22    Arkansas                T   \n3  29851    6-2     225  1983-12-02  California               QB   \n4  30078    6-2     228  1982-11-24     Harvard               QB   \n\n          displayName  \n0           Tom Brady  \n1  Ben Roethlisberger  \n2        Jason Peters  \n3       Aaron Rodgers  \n4    Ryan Fitzpatrick  ",
      "text/html": "<div>\n<style scoped>\n    .dataframe tbody tr th:only-of-type {\n        vertical-align: middle;\n    }\n\n    .dataframe tbody tr th {\n        vertical-align: top;\n    }\n\n    .dataframe thead th {\n        text-align: right;\n    }\n</style>\n<table border=\"1\" class=\"dataframe\">\n  <thead>\n    <tr style=\"text-align: right;\">\n      <th></th>\n      <th>nflId</th>\n      <th>height</th>\n      <th>weight</th>\n      <th>birthDate</th>\n      <th>collegeName</th>\n      <th>officialPosition</th>\n      <th>displayName</th>\n    </tr>\n  </thead>\n  <tbody>\n    <tr>\n      <th>0</th>\n      <td>25511</td>\n      <td>6-4</td>\n      <td>225</td>\n      <td>1977-08-03</td>\n      <td>Michigan</td>\n      <td>QB</td>\n      <td>Tom Brady</td>\n    </tr>\n    <tr>\n      <th>1</th>\n      <td>28963</td>\n      <td>6-5</td>\n      <td>240</td>\n      <td>1982-03-02</td>\n      <td>Miami, O.</td>\n      <td>QB</td>\n      <td>Ben Roethlisberger</td>\n    </tr>\n    <tr>\n      <th>2</th>\n      <td>29550</td>\n      <td>6-4</td>\n      <td>328</td>\n      <td>1982-01-22</td>\n      <td>Arkansas</td>\n      <td>T</td>\n      <td>Jason Peters</td>\n    </tr>\n    <tr>\n      <th>3</th>\n      <td>29851</td>\n      <td>6-2</td>\n      <td>225</td>\n      <td>1983-12-02</td>\n      <td>California</td>\n      <td>QB</td>\n      <td>Aaron Rodgers</td>\n    </tr>\n    <tr>\n      <th>4</th>\n      <td>30078</td>\n      <td>6-2</td>\n      <td>228</td>\n      <td>1982-11-24</td>\n      <td>Harvard</td>\n      <td>QB</td>\n      <td>Ryan Fitzpatrick</td>\n    </tr>\n  </tbody>\n</table>\n</div>"
     },
     "execution_count": 9,
     "metadata": {},
     "output_type": "execute_result"
    }
   ],
   "source": [
    "players_df.head()"
   ],
   "metadata": {
    "collapsed": false
   }
  },
  {
   "cell_type": "code",
   "execution_count": 6,
   "outputs": [
    {
     "data": {
      "text/plain": "count     1679\nunique      16\ntop        6-3\nfreq       255\nName: height, dtype: object"
     },
     "execution_count": 6,
     "metadata": {},
     "output_type": "execute_result"
    }
   ],
   "source": [
    "players_df.height.describe()"
   ],
   "metadata": {
    "collapsed": false
   }
  },
  {
   "cell_type": "code",
   "execution_count": 27,
   "outputs": [
    {
     "name": "stdout",
     "output_type": "stream",
     "text": [
      "0       193.04\n",
      "1       195.58\n",
      "2       193.04\n",
      "3       187.96\n",
      "4       187.96\n",
      "         ...  \n",
      "1674    185.42\n",
      "1675    195.58\n",
      "1676    193.04\n",
      "1677    198.12\n",
      "1678    198.12\n",
      "Name: height, Length: 1679, dtype: float64\n"
     ]
    }
   ],
   "source": [
    "# Convert player height from inches to cm\n",
    "players_df.height = players_df.height.apply(lambda x: (float(str(x).split(\"-\")[0])*12+float(str(x).split(\"-\")[1]))*2.54)"
   ],
   "metadata": {
    "collapsed": false
   }
  },
  {
   "cell_type": "code",
   "execution_count": 63,
   "outputs": [
    {
     "name": "stdout",
     "output_type": "stream",
     "text": [
      "datetime64[ns]\n"
     ]
    }
   ],
   "source": [
    "# Creates age column in days\n",
    "players_df.birthDate = pd.to_datetime(players_df.birthDate)\n",
    "today = np.datetime64(datetime.date.today())\n",
    "ages = today - players_df.birthDate"
   ],
   "metadata": {
    "collapsed": false
   }
  },
  {
   "cell_type": "code",
   "execution_count": 64,
   "outputs": [
    {
     "name": "stdout",
     "output_type": "stream",
     "text": [
      "0      16659 days\n",
      "1      14987 days\n",
      "2      15026 days\n",
      "3      14347 days\n",
      "4      14720 days\n",
      "          ...    \n",
      "1674          NaT\n",
      "1675          NaT\n",
      "1676          NaT\n",
      "1677          NaT\n",
      "1678          NaT\n",
      "Name: birthDate, Length: 1679, dtype: timedelta64[ns]\n"
     ]
    }
   ],
   "source": [
    "print(ages)"
   ],
   "metadata": {
    "collapsed": false
   }
  },
  {
   "cell_type": "code",
   "execution_count": null,
   "outputs": [],
   "source": [],
   "metadata": {
    "collapsed": false
   }
  }
 ],
 "metadata": {
  "kernelspec": {
   "display_name": "Python 3",
   "language": "python",
   "name": "python3"
  },
  "language_info": {
   "codemirror_mode": {
    "name": "ipython",
    "version": 2
   },
   "file_extension": ".py",
   "mimetype": "text/x-python",
   "name": "python",
   "nbconvert_exporter": "python",
   "pygments_lexer": "ipython2",
   "version": "2.7.6"
  }
 },
 "nbformat": 4,
 "nbformat_minor": 0
}
