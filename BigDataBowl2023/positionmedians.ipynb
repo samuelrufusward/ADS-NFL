{
 "cells": [
  {
   "cell_type": "markdown",
   "id": "5af565af",
   "metadata": {},
   "source": [
    "# Calculate the median values for each position from the players data"
   ]
  },
  {
   "cell_type": "code",
   "execution_count": 3,
   "id": "189d0557",
   "metadata": {},
   "outputs": [],
   "source": [
    "import pandas as pd"
   ]
  },
  {
   "cell_type": "code",
   "execution_count": 4,
   "id": "cd72e4ae",
   "metadata": {},
   "outputs": [],
   "source": [
    "merged_df = pd.read_csv(\"merged_df.csv\")\n",
    "players_df = pd.read_csv(\"./data2023/players.csv\")"
   ]
  },
  {
   "cell_type": "code",
   "execution_count": 5,
   "id": "2c8f3322",
   "metadata": {},
   "outputs": [
    {
     "name": "stdout",
     "output_type": "stream",
     "text": [
      "   Unnamed: 0  Acceleration  Age  Agility        Archetype  Awareness  \\\n",
      "0           0            66   44       70  QB_FieldGeneral         99   \n",
      "1           1            77   39       67  QB_FieldGeneral         85   \n",
      "2           2            84   37       81    QB_Improviser         96   \n",
      "3           3            79   38       71  QB_FieldGeneral         82   \n",
      "4           4            80   37       72      TE_Blocking         76   \n",
      "\n",
      "   BC Vision  Block Shedding  Break Sack  Break Tackle  ...  Zone Coverage  \\\n",
      "0         51              33          61            31  ...             19   \n",
      "1         68              45          83            64  ...             13   \n",
      "2         78              19          86            65  ...             19   \n",
      "3         73              12          82            66  ...             12   \n",
      "4         75              45          11            54  ...             13   \n",
      "\n",
      "    birthDate  collegeName         displayName height  nflId  \\\n",
      "0  1977-08-03     Michigan           Tom Brady    6-4  25511   \n",
      "1  1982-03-02    Miami, O.  Ben Roethlisberger    6-5  28963   \n",
      "2  1983-12-02   California       Aaron Rodgers    6-2  29851   \n",
      "3  1982-11-24      Harvard    Ryan Fitzpatrick    6-2  30078   \n",
      "4  1984-05-19         UCLA      Marcedes Lewis    6-6  30842   \n",
      "\n",
      "   officialPosition         updatedName        updatedName2  weight  \n",
      "0                QB           Tom Brady           Tom Brady     225  \n",
      "1                QB  Ben Roethlisberger  Ben Roethlisberger     240  \n",
      "2                QB       Aaron Rodgers       Aaron Rodgers     225  \n",
      "3                QB    Ryan Fitzpatrick    Ryan Fitzpatrick     228  \n",
      "4                TE      Marcedes Lewis      Marcedes Lewis     267  \n",
      "\n",
      "[5 rows x 85 columns]\n"
     ]
    }
   ],
   "source": [
    "print(merged_df.head())"
   ]
  },
  {
   "cell_type": "code",
   "execution_count": 6,
   "id": "28a76dd1",
   "metadata": {},
   "outputs": [
    {
     "name": "stdout",
     "output_type": "stream",
     "text": [
      "   nflId height  weight   birthDate collegeName officialPosition  \\\n",
      "0  25511    6-4     225  1977-08-03    Michigan               QB   \n",
      "1  28963    6-5     240  1982-03-02   Miami, O.               QB   \n",
      "2  29550    6-4     328  1982-01-22    Arkansas                T   \n",
      "3  29851    6-2     225  1983-12-02  California               QB   \n",
      "4  30078    6-2     228  1982-11-24     Harvard               QB   \n",
      "\n",
      "          displayName  \n",
      "0           Tom Brady  \n",
      "1  Ben Roethlisberger  \n",
      "2        Jason Peters  \n",
      "3       Aaron Rodgers  \n",
      "4    Ryan Fitzpatrick  \n"
     ]
    }
   ],
   "source": [
    "print(players_df.head())"
   ]
  },
  {
   "cell_type": "code",
   "execution_count": 10,
   "id": "a8babf53",
   "metadata": {},
   "outputs": [
    {
     "name": "stdout",
     "output_type": "stream",
     "text": [
      "19\n"
     ]
    }
   ],
   "source": [
    "unique_pos = merged_df[\"officialPosition\"].unique()\n",
    "print(len(unique_pos))"
   ]
  },
  {
   "cell_type": "markdown",
   "id": "66cf83bd",
   "metadata": {},
   "source": [
    "# Remove irrelevant columns (strings will be removed automatically)"
   ]
  },
  {
   "cell_type": "code",
   "execution_count": 23,
   "id": "7a52b2a2",
   "metadata": {},
   "outputs": [
    {
     "name": "stdout",
     "output_type": "stream",
     "text": [
      "Index(['Unnamed: 0', 'Acceleration', 'Age', 'Agility', 'Archetype',\n",
      "       'Awareness', 'BC Vision', 'Block Shedding', 'Break Sack',\n",
      "       'Break Tackle', 'Carrying', 'Catch In Traffic', 'Catching',\n",
      "       'Change of Dir', 'College', 'Deep RR', 'Finesse Moves', 'Handedness',\n",
      "       'Height', 'Hit Power', 'Impact Blocking', 'Injury', 'Iteration',\n",
      "       'Jersey #', 'Juke Move', 'Jumping', 'Kick Accuracy', 'Kick Power',\n",
      "       'Kick Return', 'Last Name', 'Lead Blocking', 'Man Coverage',\n",
      "       'Medium RR', 'Overall', 'Pass Block', 'Pass Block Finesse',\n",
      "       'Pass Block Power', 'Play Action', 'Play Recognition', 'Player Asset',\n",
      "       'Portrait ID', 'Position', 'Power Moves', 'Press', 'Primary Key',\n",
      "       'Pursuit', 'Release', 'Run Block', 'Run Block Finesse',\n",
      "       'Run Block Power', 'Run Style', 'Short RR', 'Signing Bonus',\n",
      "       'Spec Catch', 'Speed', 'Spin Move', 'Stamina', 'Status', 'Stiff Arm',\n",
      "       'Strength', 'Tackle', 'Team', 'Team ID', 'Throw Acc Deep',\n",
      "       'Throw Acc Mid', 'Throw Acc Short', 'Throw On The Run', 'Throw Power',\n",
      "       'Throw Under Pressure', 'Total Salary', 'Toughness', 'Trucking',\n",
      "       'Unnamed: 5', 'Weight', 'Years Pro', 'Zone Coverage', 'birthDate',\n",
      "       'collegeName', 'displayName', 'height', 'nflId', 'officialPosition',\n",
      "       'updatedName', 'updatedName2', 'weight'],\n",
      "      dtype='object')\n"
     ]
    }
   ],
   "source": [
    "print(merged_df.columns)"
   ]
  },
  {
   "cell_type": "code",
   "execution_count": 24,
   "id": "08739de2",
   "metadata": {},
   "outputs": [
    {
     "name": "stdout",
     "output_type": "stream",
     "text": [
      "Index(['Acceleration', 'Age', 'Agility', 'Archetype', 'Awareness', 'BC Vision',\n",
      "       'Block Shedding', 'Break Sack', 'Break Tackle', 'Carrying',\n",
      "       'Catch In Traffic', 'Catching', 'Change of Dir', 'College', 'Deep RR',\n",
      "       'Finesse Moves', 'Handedness', 'Height', 'Hit Power', 'Impact Blocking',\n",
      "       'Injury', 'Iteration', 'Juke Move', 'Jumping', 'Kick Accuracy',\n",
      "       'Kick Power', 'Kick Return', 'Last Name', 'Lead Blocking',\n",
      "       'Man Coverage', 'Medium RR', 'Overall', 'Pass Block',\n",
      "       'Pass Block Finesse', 'Pass Block Power', 'Play Action',\n",
      "       'Play Recognition', 'Player Asset', 'Position', 'Power Moves', 'Press',\n",
      "       'Pursuit', 'Release', 'Run Block', 'Run Block Finesse',\n",
      "       'Run Block Power', 'Run Style', 'Short RR', 'Signing Bonus',\n",
      "       'Spec Catch', 'Speed', 'Spin Move', 'Stamina', 'Status', 'Stiff Arm',\n",
      "       'Strength', 'Tackle', 'Team', 'Throw Acc Deep', 'Throw Acc Mid',\n",
      "       'Throw Acc Short', 'Throw On The Run', 'Throw Power',\n",
      "       'Throw Under Pressure', 'Total Salary', 'Toughness', 'Trucking',\n",
      "       'Unnamed: 5', 'Weight', 'Years Pro', 'Zone Coverage', 'birthDate',\n",
      "       'collegeName', 'displayName', 'height', 'officialPosition',\n",
      "       'updatedName', 'updatedName2', 'weight'],\n",
      "      dtype='object')\n"
     ]
    }
   ],
   "source": [
    "merged_df = merged_df.drop(['Unnamed: 0', 'Jersey #', 'Portrait ID', 'Primary Key', 'Team ID', 'nflId'], axis=1)\n",
    "print(merged_df.columns)"
   ]
  },
  {
   "cell_type": "code",
   "execution_count": 54,
   "id": "c3629358",
   "metadata": {},
   "outputs": [
    {
     "name": "stdout",
     "output_type": "stream",
     "text": [
      "['QB_df.csv', 'TE_df.csv', 'T_df.csv', 'WR_df.csv', 'DE_df.csv', 'SS_df.csv', 'C_df.csv', 'FS_df.csv', 'NT_df.csv', 'CB_df.csv', 'G_df.csv', 'OLB_df.csv', 'DT_df.csv', 'RB_df.csv', 'MLB_df.csv', 'LB_df.csv', 'ILB_df.csv', 'FB_df.csv', 'DB_df.csv']\n",
      "    Acceleration   Age  Agility  Awareness  BC Vision  Block Shedding  \\\n",
      "QB          86.0  26.0     81.0       76.0       80.0            23.0   \n",
      "TE          86.0  26.0     80.0       73.0       72.0            40.0   \n",
      "T           78.0  27.0     66.0       82.0       15.0            30.0   \n",
      "WR          90.0  25.0     87.0       74.0       81.0            32.0   \n",
      "DE          85.0  25.0     76.0       72.0       34.0            70.0   \n",
      "\n",
      "    Break Sack  Break Tackle  Carrying  Catch In Traffic  ...  \\\n",
      "QB        79.0          66.0      63.0              19.0  ...   \n",
      "TE        16.0          62.0      74.0              78.0  ...   \n",
      "T         12.0          10.0      34.0              16.0  ...   \n",
      "WR        22.0          75.0      73.0              81.0  ...   \n",
      "DE        12.0          20.5      41.5              25.0  ...   \n",
      "\n",
      "    Throw Acc Short  Throw On The Run  Throw Power  Throw Under Pressure  \\\n",
      "QB             87.0              84.0         89.0                  82.0   \n",
      "TE             15.0              10.0         30.0                  14.0   \n",
      "T               6.0               6.0         22.0                  14.0   \n",
      "WR             20.0              18.0         34.0                  20.0   \n",
      "DE              6.0               6.0         23.0                  14.0   \n",
      "\n",
      "    Toughness  Trucking  Weight  Years Pro  Zone Coverage  weight  \n",
      "QB       91.0      48.0   221.0        4.0           18.0   220.0  \n",
      "TE       84.0      69.0   251.0        3.0           21.0   251.0  \n",
      "T        87.0      27.0   314.0        4.0           14.0   315.0  \n",
      "WR       82.0      50.0   200.0        3.0           24.0   200.0  \n",
      "DE       85.0      33.0   270.0        3.0           38.5   270.0  \n",
      "\n",
      "[5 rows x 59 columns]\n"
     ]
    }
   ],
   "source": [
    "player_count = 0\n",
    "for_count = 0\n",
    "unique_pos_csv = []\n",
    "file = \"_df.csv\"\n",
    "[unique_pos_csv.append(\"\".join([pos, file])) for pos in unique_pos]\n",
    "print(unique_pos_csv)\n",
    "for pos in unique_pos:\n",
    "    pos_df = merged_df[merged_df[\"officialPosition\"] == pos]\n",
    "    # print(len(pos_df), pos)\n",
    "    player_count += len(pos_df)\n",
    "    # print(pos_df.describe())\n",
    "    pos_df_median = pos_df.median(numeric_only=True)\n",
    "    # print(pos_def_median.T)\n",
    "    pos_df_median.to_csv(unique_pos_csv[for_count])\n",
    "    if pos == 'QB':\n",
    "        pos_df_median.rename(pos)\n",
    "        all_pos_df = pos_df_median\n",
    "    else:\n",
    "        all_pos_df = pd.concat([all_pos_df, pos_df_median], axis=1)\n",
    "    for_count += 1\n",
    "\n",
    "\n",
    "all_pos_df.columns = unique_pos\n",
    "# Flip the columns and rows\n",
    "all_pos_df = all_pos_df.T\n",
    "print(all_pos_df.head())\n",
    "all_pos_df.to_csv('all_pos_df.csv')\n",
    "# print('Total number of players = ' + str(len(merged_df[\"officialPosition\"])))\n",
    "# print('Number of players from unique positions = ' + str(player_count))"
   ]
  },
  {
   "cell_type": "code",
   "execution_count": null,
   "id": "b658f7e0",
   "metadata": {},
   "outputs": [],
   "source": []
  },
  {
   "cell_type": "code",
   "execution_count": null,
   "id": "bd28c379",
   "metadata": {},
   "outputs": [],
   "source": []
  }
 ],
 "metadata": {
  "kernelspec": {
   "display_name": "Python 3 (ipykernel)",
   "language": "python",
   "name": "python3"
  },
  "language_info": {
   "codemirror_mode": {
    "name": "ipython",
    "version": 3
   },
   "file_extension": ".py",
   "mimetype": "text/x-python",
   "name": "python",
   "nbconvert_exporter": "python",
   "pygments_lexer": "ipython3",
   "version": "3.10.6"
  }
 },
 "nbformat": 4,
 "nbformat_minor": 5
}
