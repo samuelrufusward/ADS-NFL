{
 "cells": [
  {
   "cell_type": "markdown",
   "id": "d2b41fd1",
   "metadata": {},
   "source": [
    "# Combine the player data with the Madden data"
   ]
  },
  {
   "cell_type": "code",
   "execution_count": 129,
   "id": "2841385a",
   "metadata": {},
   "outputs": [],
   "source": [
    "import pandas as pd"
   ]
  },
  {
   "cell_type": "code",
   "execution_count": 130,
   "id": "82e245dc",
   "metadata": {},
   "outputs": [],
   "source": [
    "madden_df = pd.read_csv(\"./data2023/actualmaddenratings.csv\")\n",
    "players_df = pd.read_csv(\"./data2023/players.csv\")"
   ]
  },
  {
   "cell_type": "code",
   "execution_count": 131,
   "id": "f11b6354",
   "metadata": {},
   "outputs": [
    {
     "name": "stdout",
     "output_type": "stream",
     "text": [
      "   #     Team Position          Archetype  Jersey # Unnamed: 5 Last Name  Age  \\\n",
      "0  1  Packers       WR     WR_RouteRunner        17    Davante     Adams   28   \n",
      "1  2   Chiefs       QB      QB_Improviser        15    Patrick   Mahomes   25   \n",
      "2  3   Chiefs       TE  TE_VerticalThreat        87     Travis     Kelce   31   \n",
      "3  4     Rams       RE     DE_PowerRusher        99      Aaron    Donald   30   \n",
      "4  5     Rams       CB        CB_MantoMan         5      Jalen    Ramsey   26   \n",
      "\n",
      "   Height  Weight  ...  Years Pro  Handedness        College  Portrait ID  \\\n",
      "0      73     215  ...          7       Right   Fresno State         6328   \n",
      "1      75     230  ...          4       Right     Texas Tech         8648   \n",
      "2      77     260  ...          8       Right     Cincinnati         5920   \n",
      "3      73     280  ...          7       Right     Pittsburgh         6394   \n",
      "4      73     208  ...          5       Right  Florida State         8185   \n",
      "\n",
      "   Team ID  Primary Key        Full Name            Player Asset  \\\n",
      "0       20        10823    Davante Adams      AdamsDavante_10823   \n",
      "1        9        12635  Patrick Mahomes  MahomesIIPatrick_12635   \n",
      "2        9          890     Travis Kelce         KelceTravis_890   \n",
      "3       24        10852     Aaron Donald       DonaldAaron_10852   \n",
      "4       24        17538     Jalen Ramsey       RamseyJalen_17538   \n",
      "\n",
      "        Iteration     Status  \n",
      "0  launch-ratings  published  \n",
      "1  launch-ratings  published  \n",
      "2  launch-ratings  published  \n",
      "3  launch-ratings  published  \n",
      "4  launch-ratings  published  \n",
      "\n",
      "[5 rows x 78 columns]\n"
     ]
    }
   ],
   "source": [
    "print(madden_df.head())"
   ]
  },
  {
   "cell_type": "code",
   "execution_count": 132,
   "id": "793ba70c",
   "metadata": {},
   "outputs": [
    {
     "name": "stdout",
     "output_type": "stream",
     "text": [
      "    nflId height  weight   birthDate      collegeName officialPosition  \\\n",
      "0   25511    6-4     225  1977-08-03         Michigan               QB   \n",
      "1   28963    6-5     240  1982-03-02        Miami, O.               QB   \n",
      "2   29550    6-4     328  1982-01-22         Arkansas                T   \n",
      "3   29851    6-2     225  1983-12-02       California               QB   \n",
      "4   30078    6-2     228  1982-11-24          Harvard               QB   \n",
      "5   30842    6-6     267  1984-05-19             UCLA               TE   \n",
      "6   30869    6-7     330  1981-12-12  Louisiana State                T   \n",
      "7   33084    6-4     217  1985-05-17   Boston College               QB   \n",
      "8   33107    6-4     315  1985-08-30    Virginia Tech                T   \n",
      "9   33130   5-10     175  1986-12-01       California               WR   \n",
      "10  33131    6-8     300  1986-09-01            Miami               DE   \n",
      "11  33138    6-3     222  1985-07-02         Michigan               QB   \n",
      "12  33241    6-3     219  05/15/1986        San Diego               QB   \n",
      "13  33566   5-11     185  1985-11-02       Texas Tech               WR   \n",
      "14  34452    6-3     220  1988-02-07          Georgia               QB   \n",
      "\n",
      "           displayName  \n",
      "0            Tom Brady  \n",
      "1   Ben Roethlisberger  \n",
      "2         Jason Peters  \n",
      "3        Aaron Rodgers  \n",
      "4     Ryan Fitzpatrick  \n",
      "5       Marcedes Lewis  \n",
      "6     Andrew Whitworth  \n",
      "7            Matt Ryan  \n",
      "8          Duane Brown  \n",
      "9       DeSean Jackson  \n",
      "10     Calais Campbell  \n",
      "11          Chad Henne  \n",
      "12        Josh Johnson  \n",
      "13      Danny Amendola  \n",
      "14    Matthew Stafford  \n"
     ]
    }
   ],
   "source": [
    "print(players_df.head(15))"
   ]
  },
  {
   "cell_type": "code",
   "execution_count": 133,
   "id": "9a98a010",
   "metadata": {},
   "outputs": [
    {
     "name": "stdout",
     "output_type": "stream",
     "text": [
      "0       03/08/1977\n",
      "1       02/03/1982\n",
      "2       22/01/1982\n",
      "3       02/12/1983\n",
      "4       24/11/1982\n",
      "           ...    \n",
      "1674           NaN\n",
      "1675           NaN\n",
      "1676           NaN\n",
      "1677           NaN\n",
      "1678           NaN\n",
      "Name: birthDate, Length: 1679, dtype: object\n",
      "0       24/12/1992\n",
      "1       17/09/1995\n",
      "2       10/05/1989\n",
      "3       23/05/1991\n",
      "4       24/10/1994\n",
      "           ...    \n",
      "2075    10/07/1994\n",
      "2076    21/08/1997\n",
      "2077    26/01/1996\n",
      "2078    26/09/1998\n",
      "2079    15/07/1994\n",
      "Name: Birthdate, Length: 2080, dtype: object\n"
     ]
    },
    {
     "name": "stderr",
     "output_type": "stream",
     "text": [
      "C:\\Users\\ellio\\AppData\\Local\\Temp\\ipykernel_4664\\903581096.py:3: UserWarning: Parsing dates in DD/MM/YYYY format when dayfirst=False (the default) was specified. This may lead to inconsistently parsed dates! Specify a format to ensure consistent parsing.\n",
      "  madden_df['Birthdate'] = pd.to_datetime(madden_df['Birthdate'])\n"
     ]
    }
   ],
   "source": [
    "# Ensure all birthdates use the same formatting\n",
    "players_df['birthDate'] = pd.to_datetime(players_df['birthDate'])\n",
    "madden_df['Birthdate'] = pd.to_datetime(madden_df['Birthdate'])\n",
    "players_df['birthDate'] = players_df['birthDate'].dt.strftime('%d/%m/%Y')\n",
    "madden_df['Birthdate'] = madden_df['Birthdate'].dt.strftime('%d/%m/%Y')\n",
    "\n",
    "print(players_df['birthDate'])\n",
    "print(madden_df['Birthdate'])"
   ]
  },
  {
   "cell_type": "markdown",
   "id": "da78e87f",
   "metadata": {},
   "source": [
    "# Add a column for names from the Madden data which include suffixes (e.g. Jr)"
   ]
  },
  {
   "cell_type": "code",
   "execution_count": 134,
   "id": "8727e300",
   "metadata": {},
   "outputs": [],
   "source": [
    "players_names_list = players_df[\"displayName\"]\n",
    "madden_names_list = madden_df[\"Full Name\"]"
   ]
  },
  {
   "cell_type": "code",
   "execution_count": 135,
   "id": "6e7e50ed",
   "metadata": {},
   "outputs": [
    {
     "name": "stdout",
     "output_type": "stream",
     "text": [
      "1679\n"
     ]
    }
   ],
   "source": [
    "count = 0\n",
    "updated_players_names = list(players_names_list)\n",
    "for name in players_names_list:\n",
    "    i = 0\n",
    "    while i < len(madden_names_list):\n",
    "        if name in madden_names_list[i]:\n",
    "            updated_players_names[count] = madden_names_list[i]\n",
    "            i = 10000\n",
    "        i += 1\n",
    "    count += 1\n",
    "\n",
    "print(len(updated_players_names))\n",
    "#print(updated_players_names)"
   ]
  },
  {
   "cell_type": "code",
   "execution_count": 136,
   "id": "9e38f6ae",
   "metadata": {},
   "outputs": [
    {
     "name": "stdout",
     "output_type": "stream",
     "text": [
      "   nflId height  weight   birthDate collegeName officialPosition  \\\n",
      "0  25511    6-4     225  03/08/1977    Michigan               QB   \n",
      "1  28963    6-5     240  02/03/1982   Miami, O.               QB   \n",
      "2  29550    6-4     328  22/01/1982    Arkansas                T   \n",
      "3  29851    6-2     225  02/12/1983  California               QB   \n",
      "4  30078    6-2     228  24/11/1982     Harvard               QB   \n",
      "\n",
      "          displayName         updatedName  \n",
      "0           Tom Brady           Tom Brady  \n",
      "1  Ben Roethlisberger  Ben Roethlisberger  \n",
      "2        Jason Peters        Jason Peters  \n",
      "3       Aaron Rodgers       Aaron Rodgers  \n",
      "4    Ryan Fitzpatrick    Ryan Fitzpatrick  \n"
     ]
    }
   ],
   "source": [
    "players_df['updatedName'] = updated_players_names\n",
    "print(players_df.head())"
   ]
  },
  {
   "cell_type": "markdown",
   "id": "618248d1",
   "metadata": {},
   "source": [
    "# Now include those with slightly different punctuation"
   ]
  },
  {
   "cell_type": "code",
   "execution_count": 137,
   "id": "adb7a8b4",
   "metadata": {},
   "outputs": [],
   "source": [
    "def remove_punctuations(text):\n",
    "    for punctuation in string.punctuation:\n",
    "        text = text.replace(punctuation, '')\n",
    "    return text\n",
    "import string\n",
    "\n",
    "players_df[\"nopunctuationname\"] = players_df[\"updatedName\"].apply(remove_punctuations)\n",
    "madden_df[\"nopunctuationname\"] = madden_df[\"Full Name\"].apply(remove_punctuations)"
   ]
  },
  {
   "cell_type": "code",
   "execution_count": 138,
   "id": "158903f8",
   "metadata": {},
   "outputs": [],
   "source": [
    "madden_names_list = madden_df[\"Full Name\"]\n",
    "updated_players_names_list = players_df[\"updatedName\"]\n",
    "madden_nopunc = madden_df[\"nopunctuationname\"]\n",
    "players_nopunc = players_df[\"nopunctuationname\"]\n",
    "count = 0\n",
    "updated_players_names2 = list(players_names_list)\n",
    "for name in players_nopunc:\n",
    "    i = 0\n",
    "    while i < len(madden_names_list):\n",
    "        if name in madden_nopunc[i]:\n",
    "            updated_players_names2[count] = madden_names_list[i]\n",
    "            i = 10000\n",
    "        i += 1\n",
    "    count += 1"
   ]
  },
  {
   "cell_type": "code",
   "execution_count": 139,
   "id": "65b5ba80",
   "metadata": {},
   "outputs": [],
   "source": [
    "players_df['updatedName2'] = updated_players_names2\n",
    "players_df.to_csv('trialplayers.csv')  # Use to check file if necessary"
   ]
  },
  {
   "cell_type": "code",
   "execution_count": 140,
   "id": "5a133faa",
   "metadata": {},
   "outputs": [],
   "source": [
    "# madden_df.loc[madden_df[\"Full Name\"].isin(updated_players_names)]"
   ]
  },
  {
   "cell_type": "markdown",
   "id": "3c3484a5",
   "metadata": {},
   "source": [
    "# Replace NA dates using the Madden data"
   ]
  },
  {
   "cell_type": "code",
   "execution_count": 141,
   "id": "b89b427a",
   "metadata": {},
   "outputs": [
    {
     "name": "stdout",
     "output_type": "stream",
     "text": [
      "nan\n",
      "nan\n",
      "nan\n",
      "nan\n",
      "nan\n",
      "nan\n",
      "nan\n",
      "nan\n",
      "nan\n",
      "nan\n",
      "nan\n",
      "nan\n",
      "nan\n",
      "nan\n",
      "nan\n",
      "nan\n",
      "nan\n",
      "nan\n",
      "nan\n",
      "nan\n",
      "nan\n",
      "nan\n",
      "nan\n",
      "nan\n",
      "nan\n",
      "nan\n",
      "nan\n",
      "nan\n",
      "nan\n",
      "nan\n",
      "nan\n",
      "nan\n",
      "nan\n",
      "nan\n",
      "nan\n",
      "nan\n",
      "nan\n",
      "nan\n",
      "nan\n",
      "nan\n",
      "nan\n",
      "nan\n",
      "nan\n",
      "nan\n",
      "nan\n",
      "nan\n",
      "nan\n",
      "nan\n",
      "nan\n",
      "nan\n"
     ]
    },
    {
     "name": "stderr",
     "output_type": "stream",
     "text": [
      "C:\\Users\\ellio\\AppData\\Local\\Temp\\ipykernel_4664\\2052361875.py:20: SettingWithCopyWarning: \n",
      "A value is trying to be set on a copy of a slice from a DataFrame\n",
      "\n",
      "See the caveats in the documentation: https://pandas.pydata.org/pandas-docs/stable/user_guide/indexing.html#returning-a-view-versus-a-copy\n",
      "  players_date[count] = madden_date[i]\n"
     ]
    },
    {
     "name": "stdout",
     "output_type": "stream",
     "text": [
      "nan\n",
      "nan\n",
      "nan\n",
      "nan\n",
      "nan\n",
      "nan\n",
      "nan\n",
      "nan\n",
      "nan\n",
      "nan\n",
      "nan\n",
      "nan\n",
      "nan\n",
      "nan\n",
      "nan\n",
      "nan\n",
      "nan\n",
      "nan\n",
      "nan\n",
      "nan\n",
      "nan\n",
      "nan\n",
      "nan\n",
      "nan\n",
      "nan\n",
      "nan\n",
      "nan\n",
      "nan\n",
      "nan\n",
      "nan\n",
      "nan\n",
      "nan\n",
      "nan\n",
      "nan\n",
      "nan\n",
      "nan\n",
      "nan\n",
      "nan\n",
      "nan\n",
      "nan\n",
      "nan\n",
      "nan\n",
      "nan\n",
      "nan\n",
      "nan\n",
      "nan\n",
      "nan\n",
      "nan\n",
      "nan\n",
      "nan\n",
      "nan\n",
      "nan\n",
      "nan\n",
      "nan\n",
      "nan\n",
      "nan\n",
      "nan\n",
      "nan\n",
      "nan\n",
      "nan\n",
      "nan\n",
      "nan\n",
      "nan\n",
      "nan\n",
      "nan\n",
      "nan\n",
      "nan\n",
      "nan\n",
      "nan\n",
      "nan\n",
      "nan\n",
      "nan\n",
      "nan\n",
      "nan\n",
      "nan\n",
      "nan\n",
      "nan\n",
      "nan\n",
      "nan\n",
      "nan\n",
      "nan\n",
      "nan\n",
      "nan\n",
      "nan\n",
      "nan\n",
      "nan\n",
      "nan\n",
      "nan\n",
      "nan\n",
      "nan\n",
      "nan\n"
     ]
    },
    {
     "name": "stderr",
     "output_type": "stream",
     "text": [
      "C:\\Users\\ellio\\AppData\\Local\\Temp\\ipykernel_4664\\2052361875.py:17: SettingWithCopyWarning: \n",
      "A value is trying to be set on a copy of a slice from a DataFrame\n",
      "\n",
      "See the caveats in the documentation: https://pandas.pydata.org/pandas-docs/stable/user_guide/indexing.html#returning-a-view-versus-a-copy\n",
      "  players_date[count] = madden_date[i]\n"
     ]
    },
    {
     "name": "stdout",
     "output_type": "stream",
     "text": [
      "nan\n",
      "nan\n",
      "nan\n",
      "nan\n",
      "nan\n",
      "nan\n",
      "nan\n",
      "nan\n",
      "nan\n",
      "nan\n",
      "nan\n",
      "nan\n",
      "nan\n",
      "nan\n",
      "nan\n",
      "nan\n",
      "nan\n",
      "nan\n",
      "nan\n",
      "nan\n",
      "nan\n",
      "nan\n",
      "nan\n",
      "nan\n",
      "nan\n",
      "nan\n",
      "nan\n",
      "nan\n",
      "nan\n",
      "nan\n",
      "nan\n",
      "nan\n",
      "nan\n",
      "nan\n",
      "nan\n",
      "nan\n",
      "nan\n",
      "nan\n",
      "nan\n",
      "nan\n",
      "nan\n",
      "nan\n",
      "nan\n",
      "nan\n",
      "nan\n",
      "nan\n",
      "nan\n",
      "nan\n",
      "nan\n",
      "nan\n",
      "nan\n",
      "nan\n"
     ]
    }
   ],
   "source": [
    "players_date = players_df['birthDate']\n",
    "madden_date = madden_df['Birthdate']\n",
    "players_names = players_df['updatedName2']\n",
    "madden_names = madden_df[\"Full Name\"]\n",
    "players_pos = players_df['officialPosition']\n",
    "madden_pos = madden_df['Position']\n",
    "count = 0\n",
    "for date in players_date:\n",
    "    if pd.DataFrame([date]).isnull()[0][0] == True:\n",
    "        player = players_names[count]\n",
    "        i = 0\n",
    "        while i < len(madden_names):\n",
    "            if player in madden_names[i]:\n",
    "                if player == 'Michael Carter':  # Michael Carter is the only duplicate name which has a nan in the date column\n",
    "                    if players_pos[count] == madden_pos[i]:\n",
    "                        players_date[count] = madden_date[i]\n",
    "                else:\n",
    "                    players_date[count] = madden_date[i]\n",
    "            i += 1\n",
    "        \n",
    "    count += 1"
   ]
  },
  {
   "cell_type": "code",
   "execution_count": 143,
   "id": "162046bc",
   "metadata": {},
   "outputs": [
    {
     "name": "stdout",
     "output_type": "stream",
     "text": [
      "0       03/08/1977\n",
      "1       02/03/1982\n",
      "2       22/01/1982\n",
      "3       02/12/1983\n",
      "4       24/11/1982\n",
      "           ...    \n",
      "1674           NaN\n",
      "1675           NaN\n",
      "1676    03/08/1998\n",
      "1677           NaN\n",
      "1678           NaN\n",
      "Name: birthDate, Length: 1679, dtype: object\n"
     ]
    }
   ],
   "source": [
    "print(players_df['birthDate'])\n",
    "players_df.to_csv('trialnewdate.csv')"
   ]
  },
  {
   "cell_type": "markdown",
   "id": "61f4b441",
   "metadata": {},
   "source": [
    "# Combine the two datasets using the D.O.B and Full name"
   ]
  },
  {
   "cell_type": "markdown",
   "id": "5cfbdab7",
   "metadata": {},
   "source": [
    "First we need to make sure the column names match up (rename column titles)"
   ]
  },
  {
   "cell_type": "code",
   "execution_count": 144,
   "id": "f3b8c3ce",
   "metadata": {
    "scrolled": true
   },
   "outputs": [
    {
     "name": "stdout",
     "output_type": "stream",
     "text": [
      "Index(['#', 'Team', 'Position', 'Archetype', 'Jersey #', 'Unnamed: 5',\n",
      "       'Last Name', 'Age', 'Height', 'Weight', 'Overall', 'Speed',\n",
      "       'Acceleration', 'Agility', 'Change of Dir', 'Strength', 'Jumping',\n",
      "       'Awareness', 'Carrying', 'Break Tackle', 'Juke Move', 'Spin Move',\n",
      "       'Trucking', 'Stiff Arm', 'BC Vision', 'Catching', 'Catch In Traffic',\n",
      "       'Spec Catch', 'Release', 'Short RR', 'Medium RR', 'Deep RR',\n",
      "       'Throw Power', 'Throw Acc Short', 'Throw Acc Mid', 'Throw Acc Deep',\n",
      "       'Throw Under Pressure', 'Throw On The Run', 'Play Action', 'Break Sack',\n",
      "       'Run Block', 'Run Block Power', 'Run Block Finesse', 'Pass Block',\n",
      "       'Pass Block Power', 'Pass Block Finesse', 'Impact Blocking',\n",
      "       'Lead Blocking', 'Tackle', 'Hit Power', 'Pursuit', 'Man Coverage',\n",
      "       'Zone Coverage', 'Press', 'Play Recognition', 'Power Moves',\n",
      "       'Finesse Moves', 'Block Shedding', 'Kick Power', 'Kick Accuracy',\n",
      "       'Kick Return', 'Stamina', 'Injury', 'Toughness', 'Total Salary',\n",
      "       'Signing Bonus', 'Run Style', 'birthDate', 'Years Pro', 'Handedness',\n",
      "       'College', 'Portrait ID', 'Team ID', 'Primary Key', 'updatedName2',\n",
      "       'Player Asset', 'Iteration', 'Status', 'nopunctuationname'],\n",
      "      dtype='object')\n",
      "Index(['nflId', 'height', 'weight', 'birthDate', 'collegeName',\n",
      "       'officialPosition', 'displayName', 'updatedName', 'nopunctuationname',\n",
      "       'updatedName2'],\n",
      "      dtype='object')\n"
     ]
    }
   ],
   "source": [
    "madden_df.rename(columns={\"Birthdate\": \"birthDate\"}, inplace=True)\n",
    "madden_df.rename(columns={\"Full Name\": \"updatedName2\"}, inplace=True)\n",
    "print(madden_df.columns)\n",
    "print(players_df.columns)"
   ]
  },
  {
   "cell_type": "markdown",
   "id": "34a32ec8",
   "metadata": {},
   "source": [
    "Now we can combine the two datasets"
   ]
  },
  {
   "cell_type": "code",
   "execution_count": 145,
   "id": "95d46f01",
   "metadata": {},
   "outputs": [
    {
     "name": "stdout",
     "output_type": "stream",
     "text": [
      "Index(['#', 'Acceleration', 'Age', 'Agility', 'Archetype', 'Awareness',\n",
      "       'BC Vision', 'Block Shedding', 'Break Sack', 'Break Tackle', 'Carrying',\n",
      "       'Catch In Traffic', 'Catching', 'Change of Dir', 'College', 'Deep RR',\n",
      "       'Finesse Moves', 'Handedness', 'Height', 'Hit Power', 'Impact Blocking',\n",
      "       'Injury', 'Iteration', 'Jersey #', 'Juke Move', 'Jumping',\n",
      "       'Kick Accuracy', 'Kick Power', 'Kick Return', 'Last Name',\n",
      "       'Lead Blocking', 'Man Coverage', 'Medium RR', 'Overall', 'Pass Block',\n",
      "       'Pass Block Finesse', 'Pass Block Power', 'Play Action',\n",
      "       'Play Recognition', 'Player Asset', 'Portrait ID', 'Position',\n",
      "       'Power Moves', 'Press', 'Primary Key', 'Pursuit', 'Release',\n",
      "       'Run Block', 'Run Block Finesse', 'Run Block Power', 'Run Style',\n",
      "       'Short RR', 'Signing Bonus', 'Spec Catch', 'Speed', 'Spin Move',\n",
      "       'Stamina', 'Status', 'Stiff Arm', 'Strength', 'Tackle', 'Team',\n",
      "       'Team ID', 'Throw Acc Deep', 'Throw Acc Mid', 'Throw Acc Short',\n",
      "       'Throw On The Run', 'Throw Power', 'Throw Under Pressure',\n",
      "       'Total Salary', 'Toughness', 'Trucking', 'Unnamed: 5', 'Weight',\n",
      "       'Years Pro', 'Zone Coverage', 'birthDate', 'collegeName', 'displayName',\n",
      "       'height', 'nflId', 'nopunctuationname_x', 'nopunctuationname_y',\n",
      "       'officialPosition', 'updatedName', 'updatedName2', 'weight'],\n",
      "      dtype='object')\n"
     ]
    }
   ],
   "source": [
    "merged_df = players_df.merge(madden_df, on=['birthDate','updatedName2']).sort_index(axis=1)\n",
    "print(merged_df.columns)"
   ]
  },
  {
   "cell_type": "code",
   "execution_count": 146,
   "id": "de4bd757",
   "metadata": {},
   "outputs": [
    {
     "name": "stdout",
     "output_type": "stream",
     "text": [
      "Index(['Acceleration', 'Age', 'Agility', 'Archetype', 'Awareness', 'BC Vision',\n",
      "       'Block Shedding', 'Break Sack', 'Break Tackle', 'Carrying',\n",
      "       'Catch In Traffic', 'Catching', 'Change of Dir', 'College', 'Deep RR',\n",
      "       'Finesse Moves', 'Handedness', 'Height', 'Hit Power', 'Impact Blocking',\n",
      "       'Injury', 'Iteration', 'Jersey #', 'Juke Move', 'Jumping',\n",
      "       'Kick Accuracy', 'Kick Power', 'Kick Return', 'Last Name',\n",
      "       'Lead Blocking', 'Man Coverage', 'Medium RR', 'Overall', 'Pass Block',\n",
      "       'Pass Block Finesse', 'Pass Block Power', 'Play Action',\n",
      "       'Play Recognition', 'Player Asset', 'Portrait ID', 'Position',\n",
      "       'Power Moves', 'Press', 'Primary Key', 'Pursuit', 'Release',\n",
      "       'Run Block', 'Run Block Finesse', 'Run Block Power', 'Run Style',\n",
      "       'Short RR', 'Signing Bonus', 'Spec Catch', 'Speed', 'Spin Move',\n",
      "       'Stamina', 'Status', 'Stiff Arm', 'Strength', 'Tackle', 'Team',\n",
      "       'Team ID', 'Throw Acc Deep', 'Throw Acc Mid', 'Throw Acc Short',\n",
      "       'Throw On The Run', 'Throw Power', 'Throw Under Pressure',\n",
      "       'Total Salary', 'Toughness', 'Trucking', 'Unnamed: 5', 'Weight',\n",
      "       'Years Pro', 'Zone Coverage', 'birthDate', 'collegeName', 'displayName',\n",
      "       'height', 'nflId', 'officialPosition', 'updatedName', 'updatedName2',\n",
      "       'weight'],\n",
      "      dtype='object')\n"
     ]
    }
   ],
   "source": [
    "merged_df = merged_df.drop(['nopunctuationname_x', 'nopunctuationname_y', '#'], axis=1)\n",
    "print(merged_df.columns)\n",
    "merged_df.to_csv('merged_df.csv') "
   ]
  },
  {
   "cell_type": "code",
   "execution_count": 147,
   "id": "67d9e149",
   "metadata": {},
   "outputs": [],
   "source": [
    "merged_df2 = players_df.merge(madden_df, on=['updatedName2']).sort_index(axis=1)\n",
    "merged_df2.to_csv('merged_df2.csv') "
   ]
  },
  {
   "cell_type": "code",
   "execution_count": 148,
   "id": "3a5fd623",
   "metadata": {},
   "outputs": [],
   "source": [
    "merged_df3 = players_df.merge(madden_df, on=['birthDate']).sort_index(axis=1)\n",
    "merged_df3.to_csv('merged_df3.csv') "
   ]
  },
  {
   "cell_type": "code",
   "execution_count": null,
   "id": "56377939",
   "metadata": {},
   "outputs": [],
   "source": []
  }
 ],
 "metadata": {
  "kernelspec": {
   "display_name": "Python 3 (ipykernel)",
   "language": "python",
   "name": "python3"
  },
  "language_info": {
   "codemirror_mode": {
    "name": "ipython",
    "version": 3
   },
   "file_extension": ".py",
   "mimetype": "text/x-python",
   "name": "python",
   "nbconvert_exporter": "python",
   "pygments_lexer": "ipython3",
   "version": "3.10.6"
  }
 },
 "nbformat": 4,
 "nbformat_minor": 5
}
