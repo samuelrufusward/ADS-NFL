{
 "cells": [
  {
   "cell_type": "code",
   "execution_count": 1,
   "metadata": {
    "collapsed": true
   },
   "outputs": [],
   "source": [
    "import pandas as pd\n",
    "import numpy as np\n",
    "import re\n"
   ]
  },
  {
   "cell_type": "code",
   "execution_count": 2,
   "outputs": [],
   "source": [
    "player_stats = pd.read_csv(\"merged_df.csv\")"
   ],
   "metadata": {
    "collapsed": false
   }
  },
  {
   "cell_type": "code",
   "execution_count": 3,
   "outputs": [],
   "source": [
    "play_data2021 = pd.read_csv(\"./data2023/plays.csv\")"
   ],
   "metadata": {
    "collapsed": false
   }
  },
  {
   "cell_type": "code",
   "execution_count": 4,
   "outputs": [],
   "source": [
    "play_data2018 = pd.read_csv(\"../BigDataBowl2021/data2021/plays.csv\")"
   ],
   "metadata": {
    "collapsed": false
   }
  },
  {
   "cell_type": "code",
   "execution_count": 5,
   "outputs": [],
   "source": [
    "play_data = pd.concat([play_data2018, play_data2021])"
   ],
   "metadata": {
    "collapsed": false
   }
  },
  {
   "cell_type": "code",
   "execution_count": 6,
   "outputs": [
    {
     "data": {
      "text/plain": "   Unnamed: 0  Acceleration  Age  Agility        Archetype  Awareness  \\\n0           0            66   44       70  QB_FieldGeneral         99   \n1           1            77   39       67  QB_FieldGeneral         85   \n2           2            84   37       81    QB_Improviser         96   \n3           3            79   38       71  QB_FieldGeneral         82   \n4           4            80   37       72      TE_Blocking         76   \n\n   BC Vision  Block Shedding  Break Sack  Break Tackle  ...  Zone Coverage  \\\n0         51              33          61            31  ...             19   \n1         68              45          83            64  ...             13   \n2         78              19          86            65  ...             19   \n3         73              12          82            66  ...             12   \n4         75              45          11            54  ...             13   \n\n    birthDate  collegeName         displayName height  nflId  \\\n0  1977-08-03     Michigan           Tom Brady    6-4  25511   \n1  1982-03-02    Miami, O.  Ben Roethlisberger    6-5  28963   \n2  1983-12-02   California       Aaron Rodgers    6-2  29851   \n3  1982-11-24      Harvard    Ryan Fitzpatrick    6-2  30078   \n4  1984-05-19         UCLA      Marcedes Lewis    6-6  30842   \n\n   officialPosition         updatedName        updatedName2  weight  \n0                QB           Tom Brady           Tom Brady     225  \n1                QB  Ben Roethlisberger  Ben Roethlisberger     240  \n2                QB       Aaron Rodgers       Aaron Rodgers     225  \n3                QB    Ryan Fitzpatrick    Ryan Fitzpatrick     228  \n4                TE      Marcedes Lewis      Marcedes Lewis     267  \n\n[5 rows x 85 columns]",
      "text/html": "<div>\n<style scoped>\n    .dataframe tbody tr th:only-of-type {\n        vertical-align: middle;\n    }\n\n    .dataframe tbody tr th {\n        vertical-align: top;\n    }\n\n    .dataframe thead th {\n        text-align: right;\n    }\n</style>\n<table border=\"1\" class=\"dataframe\">\n  <thead>\n    <tr style=\"text-align: right;\">\n      <th></th>\n      <th>Unnamed: 0</th>\n      <th>Acceleration</th>\n      <th>Age</th>\n      <th>Agility</th>\n      <th>Archetype</th>\n      <th>Awareness</th>\n      <th>BC Vision</th>\n      <th>Block Shedding</th>\n      <th>Break Sack</th>\n      <th>Break Tackle</th>\n      <th>...</th>\n      <th>Zone Coverage</th>\n      <th>birthDate</th>\n      <th>collegeName</th>\n      <th>displayName</th>\n      <th>height</th>\n      <th>nflId</th>\n      <th>officialPosition</th>\n      <th>updatedName</th>\n      <th>updatedName2</th>\n      <th>weight</th>\n    </tr>\n  </thead>\n  <tbody>\n    <tr>\n      <th>0</th>\n      <td>0</td>\n      <td>66</td>\n      <td>44</td>\n      <td>70</td>\n      <td>QB_FieldGeneral</td>\n      <td>99</td>\n      <td>51</td>\n      <td>33</td>\n      <td>61</td>\n      <td>31</td>\n      <td>...</td>\n      <td>19</td>\n      <td>1977-08-03</td>\n      <td>Michigan</td>\n      <td>Tom Brady</td>\n      <td>6-4</td>\n      <td>25511</td>\n      <td>QB</td>\n      <td>Tom Brady</td>\n      <td>Tom Brady</td>\n      <td>225</td>\n    </tr>\n    <tr>\n      <th>1</th>\n      <td>1</td>\n      <td>77</td>\n      <td>39</td>\n      <td>67</td>\n      <td>QB_FieldGeneral</td>\n      <td>85</td>\n      <td>68</td>\n      <td>45</td>\n      <td>83</td>\n      <td>64</td>\n      <td>...</td>\n      <td>13</td>\n      <td>1982-03-02</td>\n      <td>Miami, O.</td>\n      <td>Ben Roethlisberger</td>\n      <td>6-5</td>\n      <td>28963</td>\n      <td>QB</td>\n      <td>Ben Roethlisberger</td>\n      <td>Ben Roethlisberger</td>\n      <td>240</td>\n    </tr>\n    <tr>\n      <th>2</th>\n      <td>2</td>\n      <td>84</td>\n      <td>37</td>\n      <td>81</td>\n      <td>QB_Improviser</td>\n      <td>96</td>\n      <td>78</td>\n      <td>19</td>\n      <td>86</td>\n      <td>65</td>\n      <td>...</td>\n      <td>19</td>\n      <td>1983-12-02</td>\n      <td>California</td>\n      <td>Aaron Rodgers</td>\n      <td>6-2</td>\n      <td>29851</td>\n      <td>QB</td>\n      <td>Aaron Rodgers</td>\n      <td>Aaron Rodgers</td>\n      <td>225</td>\n    </tr>\n    <tr>\n      <th>3</th>\n      <td>3</td>\n      <td>79</td>\n      <td>38</td>\n      <td>71</td>\n      <td>QB_FieldGeneral</td>\n      <td>82</td>\n      <td>73</td>\n      <td>12</td>\n      <td>82</td>\n      <td>66</td>\n      <td>...</td>\n      <td>12</td>\n      <td>1982-11-24</td>\n      <td>Harvard</td>\n      <td>Ryan Fitzpatrick</td>\n      <td>6-2</td>\n      <td>30078</td>\n      <td>QB</td>\n      <td>Ryan Fitzpatrick</td>\n      <td>Ryan Fitzpatrick</td>\n      <td>228</td>\n    </tr>\n    <tr>\n      <th>4</th>\n      <td>4</td>\n      <td>80</td>\n      <td>37</td>\n      <td>72</td>\n      <td>TE_Blocking</td>\n      <td>76</td>\n      <td>75</td>\n      <td>45</td>\n      <td>11</td>\n      <td>54</td>\n      <td>...</td>\n      <td>13</td>\n      <td>1984-05-19</td>\n      <td>UCLA</td>\n      <td>Marcedes Lewis</td>\n      <td>6-6</td>\n      <td>30842</td>\n      <td>TE</td>\n      <td>Marcedes Lewis</td>\n      <td>Marcedes Lewis</td>\n      <td>267</td>\n    </tr>\n  </tbody>\n</table>\n<p>5 rows × 85 columns</p>\n</div>"
     },
     "execution_count": 6,
     "metadata": {},
     "output_type": "execute_result"
    }
   ],
   "source": [
    "player_stats.head()"
   ],
   "metadata": {
    "collapsed": false
   }
  },
  {
   "cell_type": "code",
   "execution_count": 7,
   "outputs": [
    {
     "data": {
      "text/plain": "array(['Buccaneers', 'Steelers', 'Packers', 'Football Team', 'Rams',\n       'Falcons', 'Seahawks', 'Ravens', 'Saints', '49ers', 'Chargers',\n       'Dolphins', 'Eagles', 'Broncos', 'Patriots', 'Bills', 'Titans',\n       'Texans', 'Bears', 'Cowboys', 'Cardinals', 'Vikings', 'Giants',\n       'Browns', 'Lions', 'Bengals', 'Raiders', 'Colts', 'Jaguars',\n       'Panthers', 'Chiefs', 'Jets'], dtype=object)"
     },
     "execution_count": 7,
     "metadata": {},
     "output_type": "execute_result"
    }
   ],
   "source": [
    "player_stats.Team.unique()"
   ],
   "metadata": {
    "collapsed": false
   }
  },
  {
   "cell_type": "code",
   "execution_count": 47,
   "outputs": [],
   "source": [
    "# Get name to match play_data format\n",
    "player_stats[\"abrev_name\"] = player_stats.displayName.apply(lambda x: str(x)[0]+ \".\"+\"\".join(str(x).split(\" \")[1:]))\n",
    "player_stats.abrev_name = player_stats.abrev_name.apply(lambda x: str(x).lower())"
   ],
   "metadata": {
    "collapsed": false
   }
  },
  {
   "cell_type": "code",
   "execution_count": 48,
   "outputs": [
    {
     "data": {
      "text/plain": "0                t.brady\n1       b.roethlisberger\n2              a.rodgers\n3          r.fitzpatrick\n4                m.lewis\n              ...       \n1409         j.jefferson\n1410             d.milne\n1411            g.stuard\n1412            j.jacobs\n1413            j.heflin\nName: abrev_name, Length: 1414, dtype: object"
     },
     "execution_count": 48,
     "metadata": {},
     "output_type": "execute_result"
    }
   ],
   "source": [
    "player_stats.abrev_name"
   ],
   "metadata": {
    "collapsed": false
   }
  },
  {
   "cell_type": "code",
   "execution_count": 9,
   "outputs": [],
   "source": [
    "team_mapping = {\"PHI\": \"Eagles\", \"BUF\": \"Bills\", \"ATL\": \"Falcons\", \"PIT\": \"Steelers\", \"CLE\": \"Browns\", \"CIN\": \"Bengals\", \"IND\": \"Colts\", \"TEN\": \"Titans\", \"MIA\": \"Dolphins\", \"BAL\": \"Ravens\", \"NE\": \"Patriots\", \"HOU\": \"Texans\", \"JAX\": \"Jaguars\", \"NYG\": \"Giants\", \"NO\": \"Saints\", \"TB\": \"Buccaneers\", \"WAS\": \"Commanders\", \"ARI\": \"Cardinals\", \"CAR\": \"Panthers\", \"DAL\": \"Cowboys\", \"GB\": \"Packers\", \"CHI\": \"Bears\", \"NYJ\": \"Jets\", \"DET\": \"Lions\", \"OAK\": \"Raiders\", \"LA\": \"Rams\", \"MIN\": \"Vikings\", \"LAC\": \"Chargers\", \"KC\": \"Chiefs\", \"SF\": \"49ers\", \"DEN\": \"Broncos\", \"SEA\": \"Seahawks\", \"LV\": \"Raiders\"}"
   ],
   "metadata": {
    "collapsed": false
   }
  },
  {
   "cell_type": "code",
   "execution_count": 10,
   "outputs": [],
   "source": [
    "play_data['Team'] = play_data.possessionTeam.apply(lambda x: team_mapping[str(x)])\n"
   ],
   "metadata": {
    "collapsed": false
   }
  },
  {
   "cell_type": "code",
   "execution_count": 11,
   "outputs": [
    {
     "data": {
      "text/plain": "array(['ATL', 'PHI', 'PIT', 'CLE', 'CIN', 'IND', 'TEN', 'MIA', 'BAL',\n       'BUF', 'NE', 'HOU', 'JAX', 'NYG', 'NO', 'TB', 'WAS', 'ARI', 'CAR',\n       'DAL', 'GB', 'CHI', 'NYJ', 'DET', 'OAK', 'LA', 'MIN', 'LAC', 'KC',\n       'SF', 'DEN', 'SEA', 'LV'], dtype=object)"
     },
     "execution_count": 11,
     "metadata": {},
     "output_type": "execute_result"
    }
   ],
   "source": [
    "play_data.possessionTeam.unique()"
   ],
   "metadata": {
    "collapsed": false
   }
  },
  {
   "cell_type": "code",
   "execution_count": 12,
   "outputs": [
    {
     "data": {
      "text/plain": "         gameId  playId                                    playDescription  \\\n97   2021091200      56  (15:00) M.Ryan pass deep middle to C.Ridley to...   \n98   2021091200     122  (13:45) (No Huddle) M.Ryan pass short right to...   \n99   2021091200     146  (13:08) (No Huddle, Shotgun) M.Ryan pass short...   \n100  2021091200     176  (12:50) (No Huddle) M.Ryan pass incomplete sho...   \n101  2021091200     231  (12:08) (Shotgun) M.Ryan pass short middle to ...   \n..          ...     ...                                                ...   \n165  2021091200    4274  (4:13) (Shotgun) M.Ryan pass short right to K....   \n166  2021091200    4298  (3:50) (No Huddle, Shotgun) M.Ryan sacked at A...   \n167  2021091200    4317  (3:24) (No Huddle, Shotgun) M.Ryan pass incomp...   \n168  2021091200    4346  (3:19) (Shotgun) M.Ryan sacked at ATL 31 for -...   \n169  2021091200    4367  (6:13) (Shotgun) M.Ryan pass short left to C.R...   \n\n     quarter  down  yardsToGo possessionTeam playType yardlineSide  \\\n97         1     1         10            ATL      NaN          ATL   \n98         1     2          6            ATL      NaN          PHI   \n99         1     3          5            ATL      NaN          PHI   \n100        1     1         10            ATL      NaN          PHI   \n101        1     3          7            ATL      NaN          PHI   \n..       ...   ...        ...            ...      ...          ...   \n165        4     1         10            ATL      NaN          ATL   \n166        4     2          5            ATL      NaN          ATL   \n167        4     3         13            ATL      NaN          ATL   \n168        4     4         13            ATL      NaN          ATL   \n169        4     3         17            ATL      NaN          ATL   \n\n     yardlineNumber  ... foulName2 foulNFLId2  foulName3  foulNFLId3  \\\n97               25  ...       NaN        NaN        NaN         NaN   \n98               43  ...       NaN        NaN        NaN         NaN   \n99               42  ...       NaN        NaN        NaN         NaN   \n100              31  ...       NaN        NaN        NaN         NaN   \n101              28  ...       NaN        NaN        NaN         NaN   \n..              ...  ...       ...        ...        ...         ...   \n165              44  ...       NaN        NaN        NaN         NaN   \n166              49  ...       NaN        NaN        NaN         NaN   \n167              41  ...       NaN        NaN        NaN         NaN   \n168              41  ...       NaN        NaN        NaN         NaN   \n169              25  ...       NaN        NaN        NaN         NaN   \n\n    defendersInBox            dropBackType  pff_playAction  pff_passCoverage  \\\n97             7.0             TRADITIONAL             1.0           Cover-2   \n98             6.0  DESIGNED_ROLLOUT_RIGHT             1.0           Cover-2   \n99             6.0             TRADITIONAL             0.0           Cover-3   \n100            7.0             TRADITIONAL             1.0           Cover-3   \n101            6.0             TRADITIONAL             0.0           Cover-3   \n..             ...                     ...             ...               ...   \n165            5.0             TRADITIONAL             0.0           Cover-6   \n166            4.0             TRADITIONAL             0.0          Quarters   \n167            4.0             TRADITIONAL             0.0          Quarters   \n168            4.0             TRADITIONAL             0.0          Quarters   \n169            4.0             TRADITIONAL             0.0          Quarters   \n\n    pff_passCoverageType     Team  \n97                  Zone  Falcons  \n98                  Zone  Falcons  \n99                  Zone  Falcons  \n100                 Zone  Falcons  \n101                 Zone  Falcons  \n..                   ...      ...  \n165                 Zone  Falcons  \n166                 Zone  Falcons  \n167                 Zone  Falcons  \n168                 Zone  Falcons  \n169                 Zone  Falcons  \n\n[73 rows x 42 columns]",
      "text/html": "<div>\n<style scoped>\n    .dataframe tbody tr th:only-of-type {\n        vertical-align: middle;\n    }\n\n    .dataframe tbody tr th {\n        vertical-align: top;\n    }\n\n    .dataframe thead th {\n        text-align: right;\n    }\n</style>\n<table border=\"1\" class=\"dataframe\">\n  <thead>\n    <tr style=\"text-align: right;\">\n      <th></th>\n      <th>gameId</th>\n      <th>playId</th>\n      <th>playDescription</th>\n      <th>quarter</th>\n      <th>down</th>\n      <th>yardsToGo</th>\n      <th>possessionTeam</th>\n      <th>playType</th>\n      <th>yardlineSide</th>\n      <th>yardlineNumber</th>\n      <th>...</th>\n      <th>foulName2</th>\n      <th>foulNFLId2</th>\n      <th>foulName3</th>\n      <th>foulNFLId3</th>\n      <th>defendersInBox</th>\n      <th>dropBackType</th>\n      <th>pff_playAction</th>\n      <th>pff_passCoverage</th>\n      <th>pff_passCoverageType</th>\n      <th>Team</th>\n    </tr>\n  </thead>\n  <tbody>\n    <tr>\n      <th>97</th>\n      <td>2021091200</td>\n      <td>56</td>\n      <td>(15:00) M.Ryan pass deep middle to C.Ridley to...</td>\n      <td>1</td>\n      <td>1</td>\n      <td>10</td>\n      <td>ATL</td>\n      <td>NaN</td>\n      <td>ATL</td>\n      <td>25</td>\n      <td>...</td>\n      <td>NaN</td>\n      <td>NaN</td>\n      <td>NaN</td>\n      <td>NaN</td>\n      <td>7.0</td>\n      <td>TRADITIONAL</td>\n      <td>1.0</td>\n      <td>Cover-2</td>\n      <td>Zone</td>\n      <td>Falcons</td>\n    </tr>\n    <tr>\n      <th>98</th>\n      <td>2021091200</td>\n      <td>122</td>\n      <td>(13:45) (No Huddle) M.Ryan pass short right to...</td>\n      <td>1</td>\n      <td>2</td>\n      <td>6</td>\n      <td>ATL</td>\n      <td>NaN</td>\n      <td>PHI</td>\n      <td>43</td>\n      <td>...</td>\n      <td>NaN</td>\n      <td>NaN</td>\n      <td>NaN</td>\n      <td>NaN</td>\n      <td>6.0</td>\n      <td>DESIGNED_ROLLOUT_RIGHT</td>\n      <td>1.0</td>\n      <td>Cover-2</td>\n      <td>Zone</td>\n      <td>Falcons</td>\n    </tr>\n    <tr>\n      <th>99</th>\n      <td>2021091200</td>\n      <td>146</td>\n      <td>(13:08) (No Huddle, Shotgun) M.Ryan pass short...</td>\n      <td>1</td>\n      <td>3</td>\n      <td>5</td>\n      <td>ATL</td>\n      <td>NaN</td>\n      <td>PHI</td>\n      <td>42</td>\n      <td>...</td>\n      <td>NaN</td>\n      <td>NaN</td>\n      <td>NaN</td>\n      <td>NaN</td>\n      <td>6.0</td>\n      <td>TRADITIONAL</td>\n      <td>0.0</td>\n      <td>Cover-3</td>\n      <td>Zone</td>\n      <td>Falcons</td>\n    </tr>\n    <tr>\n      <th>100</th>\n      <td>2021091200</td>\n      <td>176</td>\n      <td>(12:50) (No Huddle) M.Ryan pass incomplete sho...</td>\n      <td>1</td>\n      <td>1</td>\n      <td>10</td>\n      <td>ATL</td>\n      <td>NaN</td>\n      <td>PHI</td>\n      <td>31</td>\n      <td>...</td>\n      <td>NaN</td>\n      <td>NaN</td>\n      <td>NaN</td>\n      <td>NaN</td>\n      <td>7.0</td>\n      <td>TRADITIONAL</td>\n      <td>1.0</td>\n      <td>Cover-3</td>\n      <td>Zone</td>\n      <td>Falcons</td>\n    </tr>\n    <tr>\n      <th>101</th>\n      <td>2021091200</td>\n      <td>231</td>\n      <td>(12:08) (Shotgun) M.Ryan pass short middle to ...</td>\n      <td>1</td>\n      <td>3</td>\n      <td>7</td>\n      <td>ATL</td>\n      <td>NaN</td>\n      <td>PHI</td>\n      <td>28</td>\n      <td>...</td>\n      <td>NaN</td>\n      <td>NaN</td>\n      <td>NaN</td>\n      <td>NaN</td>\n      <td>6.0</td>\n      <td>TRADITIONAL</td>\n      <td>0.0</td>\n      <td>Cover-3</td>\n      <td>Zone</td>\n      <td>Falcons</td>\n    </tr>\n    <tr>\n      <th>...</th>\n      <td>...</td>\n      <td>...</td>\n      <td>...</td>\n      <td>...</td>\n      <td>...</td>\n      <td>...</td>\n      <td>...</td>\n      <td>...</td>\n      <td>...</td>\n      <td>...</td>\n      <td>...</td>\n      <td>...</td>\n      <td>...</td>\n      <td>...</td>\n      <td>...</td>\n      <td>...</td>\n      <td>...</td>\n      <td>...</td>\n      <td>...</td>\n      <td>...</td>\n      <td>...</td>\n    </tr>\n    <tr>\n      <th>165</th>\n      <td>2021091200</td>\n      <td>4274</td>\n      <td>(4:13) (Shotgun) M.Ryan pass short right to K....</td>\n      <td>4</td>\n      <td>1</td>\n      <td>10</td>\n      <td>ATL</td>\n      <td>NaN</td>\n      <td>ATL</td>\n      <td>44</td>\n      <td>...</td>\n      <td>NaN</td>\n      <td>NaN</td>\n      <td>NaN</td>\n      <td>NaN</td>\n      <td>5.0</td>\n      <td>TRADITIONAL</td>\n      <td>0.0</td>\n      <td>Cover-6</td>\n      <td>Zone</td>\n      <td>Falcons</td>\n    </tr>\n    <tr>\n      <th>166</th>\n      <td>2021091200</td>\n      <td>4298</td>\n      <td>(3:50) (No Huddle, Shotgun) M.Ryan sacked at A...</td>\n      <td>4</td>\n      <td>2</td>\n      <td>5</td>\n      <td>ATL</td>\n      <td>NaN</td>\n      <td>ATL</td>\n      <td>49</td>\n      <td>...</td>\n      <td>NaN</td>\n      <td>NaN</td>\n      <td>NaN</td>\n      <td>NaN</td>\n      <td>4.0</td>\n      <td>TRADITIONAL</td>\n      <td>0.0</td>\n      <td>Quarters</td>\n      <td>Zone</td>\n      <td>Falcons</td>\n    </tr>\n    <tr>\n      <th>167</th>\n      <td>2021091200</td>\n      <td>4317</td>\n      <td>(3:24) (No Huddle, Shotgun) M.Ryan pass incomp...</td>\n      <td>4</td>\n      <td>3</td>\n      <td>13</td>\n      <td>ATL</td>\n      <td>NaN</td>\n      <td>ATL</td>\n      <td>41</td>\n      <td>...</td>\n      <td>NaN</td>\n      <td>NaN</td>\n      <td>NaN</td>\n      <td>NaN</td>\n      <td>4.0</td>\n      <td>TRADITIONAL</td>\n      <td>0.0</td>\n      <td>Quarters</td>\n      <td>Zone</td>\n      <td>Falcons</td>\n    </tr>\n    <tr>\n      <th>168</th>\n      <td>2021091200</td>\n      <td>4346</td>\n      <td>(3:19) (Shotgun) M.Ryan sacked at ATL 31 for -...</td>\n      <td>4</td>\n      <td>4</td>\n      <td>13</td>\n      <td>ATL</td>\n      <td>NaN</td>\n      <td>ATL</td>\n      <td>41</td>\n      <td>...</td>\n      <td>NaN</td>\n      <td>NaN</td>\n      <td>NaN</td>\n      <td>NaN</td>\n      <td>4.0</td>\n      <td>TRADITIONAL</td>\n      <td>0.0</td>\n      <td>Quarters</td>\n      <td>Zone</td>\n      <td>Falcons</td>\n    </tr>\n    <tr>\n      <th>169</th>\n      <td>2021091200</td>\n      <td>4367</td>\n      <td>(6:13) (Shotgun) M.Ryan pass short left to C.R...</td>\n      <td>4</td>\n      <td>3</td>\n      <td>17</td>\n      <td>ATL</td>\n      <td>NaN</td>\n      <td>ATL</td>\n      <td>25</td>\n      <td>...</td>\n      <td>NaN</td>\n      <td>NaN</td>\n      <td>NaN</td>\n      <td>NaN</td>\n      <td>4.0</td>\n      <td>TRADITIONAL</td>\n      <td>0.0</td>\n      <td>Quarters</td>\n      <td>Zone</td>\n      <td>Falcons</td>\n    </tr>\n  </tbody>\n</table>\n<p>73 rows × 42 columns</p>\n</div>"
     },
     "execution_count": 12,
     "metadata": {},
     "output_type": "execute_result"
    }
   ],
   "source": [
    "play_data.loc[play_data.gameId==2021091200]\n",
    "# brackets at end = who tackled"
   ],
   "metadata": {
    "collapsed": false
   }
  },
  {
   "cell_type": "code",
   "execution_count": 13,
   "outputs": [],
   "source": [
    "# Remove time from play description\n",
    "playDescText = play_data.playDescription.apply(lambda x: \" \".join(str(x).split()[1:]))\n",
    "# Remove formation from play description\n",
    "playDescText = playDescText.apply(lambda x: \"\".join(x.split(\")\")[1:]) if str(x).startswith(\"(\") else x)"
   ],
   "metadata": {
    "collapsed": false
   }
  },
  {
   "cell_type": "code",
   "execution_count": 14,
   "outputs": [
    {
     "name": "stdout",
     "output_type": "stream",
     "text": [
      "0       M.Ryan pass short right to J.Jones pushed ob a...\n",
      "1       M.Ryan pass incomplete short right to C.Ridley...\n",
      "2         M.Ryan pass incomplete short left to D.Freeman.\n",
      "3        M.Ryan pass deep left to J.Jones to PHI 6 for...\n",
      "4        M.Ryan pass incomplete short right to D.Freeman.\n",
      "                              ...                        \n",
      "8552     P.Mahomes sacked at NYG 16 for -8 yards (K.Cr...\n",
      "8553     D.Jones pass short right to E.Engram pushed o...\n",
      "8554      D.Jones sacked at NYG 20 for -8 yards (C.Jones.\n",
      "8555     D.Jones pass incomplete short right to E.Engram.\n",
      "8556     D.Jones sacked at NYG 14 for -6 yards (F.Clar...\n",
      "Name: playDescription, Length: 27796, dtype: object\n"
     ]
    }
   ],
   "source": [
    "print(playDescText)"
   ],
   "metadata": {
    "collapsed": false
   }
  },
  {
   "cell_type": "code",
   "execution_count": 14,
   "outputs": [],
   "source": [],
   "metadata": {
    "collapsed": false
   }
  },
  {
   "cell_type": "code",
   "execution_count": 15,
   "outputs": [
    {
     "name": "stdout",
     "output_type": "stream",
     "text": [
      "25435 passed\n",
      "1861 sacked\n",
      "517 fumbled\n",
      "456 scrambled\n",
      "28269  total\n"
     ]
    }
   ],
   "source": [
    "# Create binary variable for play outcomes\n",
    "passed = playDescText.map(lambda x: 1 if \"pass\" in str(x).lower() else 0)\n",
    "sacked = playDescText.map(lambda x: 1 if \"sacked\" in str(x).lower() else 0)\n",
    "fumbled = playDescText.map(lambda x: 1 if \"fumble\" in str(x).lower() else 0)\n",
    "scrambled = playDescText.map(lambda x: 1 if \"scramble\" in str(x).lower() else 0)\n",
    "intercepted = playDescText.map(lambda x: 1 if \"intercept\" in str(x).lower() else 0)\n",
    "print(passed.sum(), \"passed\")\n",
    "print(sacked.sum(), \"sacked\")\n",
    "print(fumbled.sum(), \"fumbled\")\n",
    "print(scrambled.sum(), \"scrambled\")\n",
    "print(passed.sum() + sacked.sum() + fumbled.sum() + scrambled.sum(), \" total\")"
   ],
   "metadata": {
    "collapsed": false
   }
  },
  {
   "cell_type": "code",
   "execution_count": 16,
   "outputs": [
    {
     "data": {
      "text/plain": "191      A.Dalton pass short left to A.Green to IND 45...\n244      A.Dalton pass short left to A.Green to IND 23...\n258      A.Luck pass short left to J.Doyle to CIN 15 f...\n446     T.Brady pass deep middle to R.Gronkowski to 50...\n571     R.Fitzpatrick pass short middle to C.Godwin to...\n                              ...                        \n8371     T.Brady pass short left to L.Fournette to NO ...\n8379     T.Siemian to NO 24 for -5 yards. FUMBLES, and...\n8471     C.Rush pass short right to A.Cooper to MIN 24...\n8473     C.Rush pass short middle to N.Brown to MIN 23...\n8529     P.Mahomes pass short middle to T.Kelce to NYG...\nName: playDescription, Length: 261, dtype: object"
     },
     "execution_count": 16,
     "metadata": {},
     "output_type": "execute_result"
    }
   ],
   "source": [
    "playDescText.loc[(fumbled==1) & (passed==1)]\n"
   ],
   "metadata": {
    "collapsed": false
   }
  },
  {
   "cell_type": "code",
   "execution_count": 17,
   "outputs": [
    {
     "data": {
      "text/plain": "14      N.Foles FUMBLES (Aborted at PHI 41, and recov...\n66      M.Ryan sacked at ATL 10 for -8 yards (sack sp...\n117     T.Taylor sacked at CLV 41 for -8 yards (B.Dup...\n144     B.Roethlisberger sacked at PIT 39 for -6 yard...\n172     B.Roethlisberger sacked at PIT 33 for -5 yard...\nName: playDescription, dtype: object"
     },
     "execution_count": 17,
     "metadata": {},
     "output_type": "execute_result"
    }
   ],
   "source": [
    "others = playDescText.loc[fumbled==1]\n",
    "others.head()"
   ],
   "metadata": {
    "collapsed": false
   }
  },
  {
   "cell_type": "code",
   "execution_count": 18,
   "outputs": [],
   "source": [
    "# Create columns of names of players who carried out play\n",
    "# People who pass the ball\n",
    "passers = playDescText.map(lambda x: str(x).lower().split(\" \")[str(x).lower().split(\" \").index(\"pass\")-1] if \"pass\" in str(x).lower().split(\" \") else np.nan)\n",
    "\n",
    "# People who received the ball\n",
    "receivers = playDescText.map(lambda x: str(x).lower().split(\" \")[str(x).lower().split(\" \").index(\"to\")+1] if (\"pass\" in str(x).lower().split(\" \") and \"to\" in str(x).lower().split(\" \")) & (\"intercept\" not in str(x).lower()) else np.nan)\n",
    "# Remove full stop from some names at end\n",
    "receivers.loc[receivers.map(lambda x: str(x)[-1]) == \".\"] = receivers.loc[receivers.map(lambda x: str(x)[-1]) == \".\"].apply(lambda x: \"\".join(str(x)[:-1]))\n",
    "# 2 values have NO # instead of names, so we can remove these\n",
    "receivers.loc[receivers==\"no\"] = np.nan\n",
    "\n",
    "# People who carry out scramble\n",
    "scramblers = playDescText.map(lambda x: str(x).lower().split(\" \")[str(x).lower().split(\" \").index(\"scrambles\")-1] if (\"scramble\" in str(x).lower()) else np.nan)\n",
    "\n",
    "# People who were sacked\n",
    "sackees = playDescText.map(lambda x: str(x).lower().split(\" \")[str(x).lower().split(\" \").index(\"sacked\")-1] if (\"sacked\" in str(x).lower().split(\" \")) else np.nan)\n",
    "\n",
    "# People who perform sacking action\n",
    "sackers = playDescText.map(lambda x: re.findall(\"\\[(.*?)\\]\", str(x))[0] if (re.findall(\"\\[(.*?)\\]\", str(x))) and (\"sacked\" in str(x).lower()) else np.nan)\n",
    "\n",
    "recovered_by = playDescText.map(lambda x: str(x).lower().split(\" \")[str(x).lower().split(\" \").index(\"recovered by\") + 1] if (\"recovered by\" in str(x).lower().split(\" \")) else np.nan)"
   ],
   "metadata": {
    "collapsed": false
   }
  },
  {
   "cell_type": "code",
   "execution_count": 19,
   "outputs": [
    {
     "data": {
      "text/plain": "Series([], Name: playDescription, dtype: object)"
     },
     "execution_count": 19,
     "metadata": {},
     "output_type": "execute_result"
    }
   ],
   "source": [
    "passers.loc[(passers.apply(lambda x: len(str(x))) < 3) & (passers.apply(lambda x: str(x)!=\"NaN\"))]"
   ],
   "metadata": {
    "collapsed": false
   }
  },
  {
   "cell_type": "code",
   "execution_count": 37,
   "outputs": [
    {
     "data": {
      "text/plain": "0        m.ryan\n1        m.ryan\n2        m.ryan\n3        m.ryan\n4        m.ryan\n         ...   \n8552        NaN\n8553    d.jones\n8554        NaN\n8555    d.jones\n8556        NaN\nName: abrev_name, Length: 27796, dtype: object"
     },
     "execution_count": 37,
     "metadata": {},
     "output_type": "execute_result"
    }
   ],
   "source": [
    "play_data.abrev_name"
   ],
   "metadata": {
    "collapsed": false
   }
  },
  {
   "cell_type": "code",
   "execution_count": 46,
   "outputs": [
    {
     "data": {
      "text/plain": "0                T.BRADY\n1       B.ROETHLISBERGER\n2              A.RODGERS\n3          R.FITZPATRICK\n4                M.LEWIS\n              ...       \n1409         J.JEFFERSON\n1410             D.MILNE\n1411            G.STUARD\n1412            J.JACOBS\n1413            J.HEFLIN\nName: abrev_name, Length: 1414, dtype: object"
     },
     "execution_count": 46,
     "metadata": {},
     "output_type": "execute_result"
    }
   ],
   "source": [],
   "metadata": {
    "collapsed": false
   }
  },
  {
   "cell_type": "code",
   "execution_count": 50,
   "outputs": [],
   "source": [
    "# Passer player stats\n",
    "play_data['abrev_name'] = passers\n",
    "passer_stats = play_data.merge(player_stats, how='left', left_on=['Team','abrev_name'], right_on=['Team','abrev_name'])"
   ],
   "metadata": {
    "collapsed": false
   }
  },
  {
   "cell_type": "code",
   "execution_count": 54,
   "outputs": [
    {
     "data": {
      "text/plain": "           gameId  playId                                    playDescription  \\\n0      2018090600      75  (15:00) M.Ryan pass short right to J.Jones pus...   \n1      2018090600     146  (13:10) M.Ryan pass incomplete short right to ...   \n2      2018090600     168  (13:05) (Shotgun) M.Ryan pass incomplete short...   \n3      2018090600     190  (13:01) (Shotgun) M.Ryan pass deep left to J.J...   \n4      2018090600     256  (10:59) (Shotgun) M.Ryan pass incomplete short...   \n...           ...     ...                                                ...   \n28397  2021110100    4310  (1:56) (Shotgun) P.Mahomes sacked at NYG 16 fo...   \n28398  2021110100    4363  (1:07) (Shotgun) D.Jones pass short right to E...   \n28399  2021110100    4392  (1:01) (No Huddle, Shotgun) D.Jones sacked at ...   \n28400  2021110100    4411  (:39) (No Huddle, Shotgun) D.Jones pass incomp...   \n28401  2021110100    4433  (:35) (Shotgun) D.Jones sacked at NYG 14 for -...   \n\n       quarter  down  yardsToGo possessionTeam        playType yardlineSide  \\\n0            1     1         15            ATL  play_type_pass          ATL   \n1            1     1         10            ATL  play_type_pass          PHI   \n2            1     2         10            ATL  play_type_pass          PHI   \n3            1     3         10            ATL  play_type_pass          PHI   \n4            1     3          1            ATL  play_type_pass          PHI   \n...        ...   ...        ...            ...             ...          ...   \n28397        4     3          8             KC             NaN          NYG   \n28398        4     1         10            NYG             NaN          NYG   \n28399        4     2          7            NYG             NaN          NYG   \n28400        4     3         15            NYG             NaN          NYG   \n28401        4     4         15            NYG             NaN          NYG   \n\n       yardlineNumber  ... Zone Coverage   birthDate     collegeName  \\\n0                  20  ...          20.0  1985-05-17  Boston College   \n1                  39  ...          20.0  1985-05-17  Boston College   \n2                  39  ...          20.0  1985-05-17  Boston College   \n3                  39  ...          20.0  1985-05-17  Boston College   \n4                   1  ...          20.0  1985-05-17  Boston College   \n...               ...  ...           ...         ...             ...   \n28397               8  ...           NaN         NaN             NaN   \n28398              25  ...          18.0  1997-05-27            Duke   \n28399              28  ...           NaN         NaN             NaN   \n28400              20  ...          18.0  1997-05-27            Duke   \n28401              20  ...           NaN         NaN             NaN   \n\n        displayName height    nflId  officialPosition   updatedName  \\\n0         Matt Ryan    6-4  33084.0                QB     Matt Ryan   \n1         Matt Ryan    6-4  33084.0                QB     Matt Ryan   \n2         Matt Ryan    6-4  33084.0                QB     Matt Ryan   \n3         Matt Ryan    6-4  33084.0                QB     Matt Ryan   \n4         Matt Ryan    6-4  33084.0                QB     Matt Ryan   \n...             ...    ...      ...               ...           ...   \n28397           NaN    NaN      NaN               NaN           NaN   \n28398  Daniel Jones    6-5  47789.0                QB  Daniel Jones   \n28399           NaN    NaN      NaN               NaN           NaN   \n28400  Daniel Jones    6-5  47789.0                QB  Daniel Jones   \n28401           NaN    NaN      NaN               NaN           NaN   \n\n       updatedName2  weight  \n0         Matt Ryan   217.0  \n1         Matt Ryan   217.0  \n2         Matt Ryan   217.0  \n3         Matt Ryan   217.0  \n4         Matt Ryan   217.0  \n...             ...     ...  \n28397           NaN     NaN  \n28398  Daniel Jones   220.0  \n28399           NaN     NaN  \n28400  Daniel Jones   220.0  \n28401           NaN     NaN  \n\n[28402 rows x 127 columns]",
      "text/html": "<div>\n<style scoped>\n    .dataframe tbody tr th:only-of-type {\n        vertical-align: middle;\n    }\n\n    .dataframe tbody tr th {\n        vertical-align: top;\n    }\n\n    .dataframe thead th {\n        text-align: right;\n    }\n</style>\n<table border=\"1\" class=\"dataframe\">\n  <thead>\n    <tr style=\"text-align: right;\">\n      <th></th>\n      <th>gameId</th>\n      <th>playId</th>\n      <th>playDescription</th>\n      <th>quarter</th>\n      <th>down</th>\n      <th>yardsToGo</th>\n      <th>possessionTeam</th>\n      <th>playType</th>\n      <th>yardlineSide</th>\n      <th>yardlineNumber</th>\n      <th>...</th>\n      <th>Zone Coverage</th>\n      <th>birthDate</th>\n      <th>collegeName</th>\n      <th>displayName</th>\n      <th>height</th>\n      <th>nflId</th>\n      <th>officialPosition</th>\n      <th>updatedName</th>\n      <th>updatedName2</th>\n      <th>weight</th>\n    </tr>\n  </thead>\n  <tbody>\n    <tr>\n      <th>0</th>\n      <td>2018090600</td>\n      <td>75</td>\n      <td>(15:00) M.Ryan pass short right to J.Jones pus...</td>\n      <td>1</td>\n      <td>1</td>\n      <td>15</td>\n      <td>ATL</td>\n      <td>play_type_pass</td>\n      <td>ATL</td>\n      <td>20</td>\n      <td>...</td>\n      <td>20.0</td>\n      <td>1985-05-17</td>\n      <td>Boston College</td>\n      <td>Matt Ryan</td>\n      <td>6-4</td>\n      <td>33084.0</td>\n      <td>QB</td>\n      <td>Matt Ryan</td>\n      <td>Matt Ryan</td>\n      <td>217.0</td>\n    </tr>\n    <tr>\n      <th>1</th>\n      <td>2018090600</td>\n      <td>146</td>\n      <td>(13:10) M.Ryan pass incomplete short right to ...</td>\n      <td>1</td>\n      <td>1</td>\n      <td>10</td>\n      <td>ATL</td>\n      <td>play_type_pass</td>\n      <td>PHI</td>\n      <td>39</td>\n      <td>...</td>\n      <td>20.0</td>\n      <td>1985-05-17</td>\n      <td>Boston College</td>\n      <td>Matt Ryan</td>\n      <td>6-4</td>\n      <td>33084.0</td>\n      <td>QB</td>\n      <td>Matt Ryan</td>\n      <td>Matt Ryan</td>\n      <td>217.0</td>\n    </tr>\n    <tr>\n      <th>2</th>\n      <td>2018090600</td>\n      <td>168</td>\n      <td>(13:05) (Shotgun) M.Ryan pass incomplete short...</td>\n      <td>1</td>\n      <td>2</td>\n      <td>10</td>\n      <td>ATL</td>\n      <td>play_type_pass</td>\n      <td>PHI</td>\n      <td>39</td>\n      <td>...</td>\n      <td>20.0</td>\n      <td>1985-05-17</td>\n      <td>Boston College</td>\n      <td>Matt Ryan</td>\n      <td>6-4</td>\n      <td>33084.0</td>\n      <td>QB</td>\n      <td>Matt Ryan</td>\n      <td>Matt Ryan</td>\n      <td>217.0</td>\n    </tr>\n    <tr>\n      <th>3</th>\n      <td>2018090600</td>\n      <td>190</td>\n      <td>(13:01) (Shotgun) M.Ryan pass deep left to J.J...</td>\n      <td>1</td>\n      <td>3</td>\n      <td>10</td>\n      <td>ATL</td>\n      <td>play_type_pass</td>\n      <td>PHI</td>\n      <td>39</td>\n      <td>...</td>\n      <td>20.0</td>\n      <td>1985-05-17</td>\n      <td>Boston College</td>\n      <td>Matt Ryan</td>\n      <td>6-4</td>\n      <td>33084.0</td>\n      <td>QB</td>\n      <td>Matt Ryan</td>\n      <td>Matt Ryan</td>\n      <td>217.0</td>\n    </tr>\n    <tr>\n      <th>4</th>\n      <td>2018090600</td>\n      <td>256</td>\n      <td>(10:59) (Shotgun) M.Ryan pass incomplete short...</td>\n      <td>1</td>\n      <td>3</td>\n      <td>1</td>\n      <td>ATL</td>\n      <td>play_type_pass</td>\n      <td>PHI</td>\n      <td>1</td>\n      <td>...</td>\n      <td>20.0</td>\n      <td>1985-05-17</td>\n      <td>Boston College</td>\n      <td>Matt Ryan</td>\n      <td>6-4</td>\n      <td>33084.0</td>\n      <td>QB</td>\n      <td>Matt Ryan</td>\n      <td>Matt Ryan</td>\n      <td>217.0</td>\n    </tr>\n    <tr>\n      <th>...</th>\n      <td>...</td>\n      <td>...</td>\n      <td>...</td>\n      <td>...</td>\n      <td>...</td>\n      <td>...</td>\n      <td>...</td>\n      <td>...</td>\n      <td>...</td>\n      <td>...</td>\n      <td>...</td>\n      <td>...</td>\n      <td>...</td>\n      <td>...</td>\n      <td>...</td>\n      <td>...</td>\n      <td>...</td>\n      <td>...</td>\n      <td>...</td>\n      <td>...</td>\n      <td>...</td>\n    </tr>\n    <tr>\n      <th>28397</th>\n      <td>2021110100</td>\n      <td>4310</td>\n      <td>(1:56) (Shotgun) P.Mahomes sacked at NYG 16 fo...</td>\n      <td>4</td>\n      <td>3</td>\n      <td>8</td>\n      <td>KC</td>\n      <td>NaN</td>\n      <td>NYG</td>\n      <td>8</td>\n      <td>...</td>\n      <td>NaN</td>\n      <td>NaN</td>\n      <td>NaN</td>\n      <td>NaN</td>\n      <td>NaN</td>\n      <td>NaN</td>\n      <td>NaN</td>\n      <td>NaN</td>\n      <td>NaN</td>\n      <td>NaN</td>\n    </tr>\n    <tr>\n      <th>28398</th>\n      <td>2021110100</td>\n      <td>4363</td>\n      <td>(1:07) (Shotgun) D.Jones pass short right to E...</td>\n      <td>4</td>\n      <td>1</td>\n      <td>10</td>\n      <td>NYG</td>\n      <td>NaN</td>\n      <td>NYG</td>\n      <td>25</td>\n      <td>...</td>\n      <td>18.0</td>\n      <td>1997-05-27</td>\n      <td>Duke</td>\n      <td>Daniel Jones</td>\n      <td>6-5</td>\n      <td>47789.0</td>\n      <td>QB</td>\n      <td>Daniel Jones</td>\n      <td>Daniel Jones</td>\n      <td>220.0</td>\n    </tr>\n    <tr>\n      <th>28399</th>\n      <td>2021110100</td>\n      <td>4392</td>\n      <td>(1:01) (No Huddle, Shotgun) D.Jones sacked at ...</td>\n      <td>4</td>\n      <td>2</td>\n      <td>7</td>\n      <td>NYG</td>\n      <td>NaN</td>\n      <td>NYG</td>\n      <td>28</td>\n      <td>...</td>\n      <td>NaN</td>\n      <td>NaN</td>\n      <td>NaN</td>\n      <td>NaN</td>\n      <td>NaN</td>\n      <td>NaN</td>\n      <td>NaN</td>\n      <td>NaN</td>\n      <td>NaN</td>\n      <td>NaN</td>\n    </tr>\n    <tr>\n      <th>28400</th>\n      <td>2021110100</td>\n      <td>4411</td>\n      <td>(:39) (No Huddle, Shotgun) D.Jones pass incomp...</td>\n      <td>4</td>\n      <td>3</td>\n      <td>15</td>\n      <td>NYG</td>\n      <td>NaN</td>\n      <td>NYG</td>\n      <td>20</td>\n      <td>...</td>\n      <td>18.0</td>\n      <td>1997-05-27</td>\n      <td>Duke</td>\n      <td>Daniel Jones</td>\n      <td>6-5</td>\n      <td>47789.0</td>\n      <td>QB</td>\n      <td>Daniel Jones</td>\n      <td>Daniel Jones</td>\n      <td>220.0</td>\n    </tr>\n    <tr>\n      <th>28401</th>\n      <td>2021110100</td>\n      <td>4433</td>\n      <td>(:35) (Shotgun) D.Jones sacked at NYG 14 for -...</td>\n      <td>4</td>\n      <td>4</td>\n      <td>15</td>\n      <td>NYG</td>\n      <td>NaN</td>\n      <td>NYG</td>\n      <td>20</td>\n      <td>...</td>\n      <td>NaN</td>\n      <td>NaN</td>\n      <td>NaN</td>\n      <td>NaN</td>\n      <td>NaN</td>\n      <td>NaN</td>\n      <td>NaN</td>\n      <td>NaN</td>\n      <td>NaN</td>\n      <td>NaN</td>\n    </tr>\n  </tbody>\n</table>\n<p>28402 rows × 127 columns</p>\n</div>"
     },
     "execution_count": 54,
     "metadata": {},
     "output_type": "execute_result"
    }
   ],
   "source": [
    "passer_stats"
   ],
   "metadata": {
    "collapsed": false
   }
  },
  {
   "cell_type": "code",
   "execution_count": 22,
   "outputs": [
    {
     "data": {
      "text/plain": "0         j.jones\n1        c.ridley\n2       d.freeman\n3         j.jones\n4       d.freeman\n          ...    \n8552          NaN\n8553     e.engram\n8554          NaN\n8555     e.engram\n8556          NaN\nName: playDescription, Length: 27796, dtype: object"
     },
     "execution_count": 22,
     "metadata": {},
     "output_type": "execute_result"
    }
   ],
   "source": [
    "receivers"
   ],
   "metadata": {
    "collapsed": false
   }
  },
  {
   "cell_type": "code",
   "execution_count": 23,
   "outputs": [
    {
     "data": {
      "text/plain": "7697     D.Brees to NO 37 for -6 yards. FUMBLES, and r...\n7697     J.Allen pass incomplete deep right to E.Sanders.\nName: playDescription, dtype: object"
     },
     "execution_count": 23,
     "metadata": {},
     "output_type": "execute_result"
    }
   ],
   "source": [
    "playDescText.loc[7697]"
   ],
   "metadata": {
    "collapsed": false
   }
  },
  {
   "cell_type": "code",
   "execution_count": 24,
   "outputs": [
    {
     "data": {
      "text/plain": "count         456\nunique         57\ntop       j.hurts\nfreq           33\nName: playDescription, dtype: object"
     },
     "execution_count": 24,
     "metadata": {},
     "output_type": "execute_result"
    }
   ],
   "source": [
    "scramblers.describe()"
   ],
   "metadata": {
    "collapsed": false
   }
  },
  {
   "cell_type": "code",
   "execution_count": 25,
   "outputs": [
    {
     "data": {
      "text/plain": "count        189\nunique       133\ntop       T.Watt\nfreq           6\nName: playDescription, dtype: object"
     },
     "execution_count": 25,
     "metadata": {},
     "output_type": "execute_result"
    }
   ],
   "source": [
    "sackers.describe()"
   ],
   "metadata": {
    "collapsed": false
   }
  },
  {
   "cell_type": "code",
   "execution_count": 26,
   "outputs": [
    {
     "data": {
      "text/plain": "0      NaN\n1      NaN\n2      NaN\n3      NaN\n4      NaN\n        ..\n8552   NaN\n8553   NaN\n8554   NaN\n8555   NaN\n8556   NaN\nName: playDescription, Length: 27796, dtype: float64"
     },
     "execution_count": 26,
     "metadata": {},
     "output_type": "execute_result"
    }
   ],
   "source": [
    "recovered_by"
   ],
   "metadata": {
    "collapsed": false
   }
  }
 ],
 "metadata": {
  "kernelspec": {
   "display_name": "Python 3",
   "language": "python",
   "name": "python3"
  },
  "language_info": {
   "codemirror_mode": {
    "name": "ipython",
    "version": 2
   },
   "file_extension": ".py",
   "mimetype": "text/x-python",
   "name": "python",
   "nbconvert_exporter": "python",
   "pygments_lexer": "ipython2",
   "version": "2.7.6"
  }
 },
 "nbformat": 4,
 "nbformat_minor": 0
}
