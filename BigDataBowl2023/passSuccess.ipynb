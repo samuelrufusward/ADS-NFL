{
 "cells": [
  {
   "cell_type": "code",
   "execution_count": 32,
   "metadata": {
    "collapsed": true
   },
   "outputs": [],
   "source": [
    "import pandas as pd\n",
    "import numpy as np\n",
    "import re\n"
   ]
  },
  {
   "cell_type": "code",
   "execution_count": 2,
   "outputs": [],
   "source": [
    "player_stats = pd.read_csv(\"merged_df.csv\")"
   ],
   "metadata": {
    "collapsed": false
   }
  },
  {
   "cell_type": "code",
   "execution_count": 3,
   "outputs": [],
   "source": [
    "play_data = pd.read_csv(\"./data2023/plays.csv\")"
   ],
   "metadata": {
    "collapsed": false
   }
  },
  {
   "cell_type": "code",
   "execution_count": 4,
   "outputs": [
    {
     "data": {
      "text/plain": "   Unnamed: 0  Acceleration  Age  Agility        Archetype  Awareness  \\\n0           0            66   44       70  QB_FieldGeneral         99   \n1           1            77   39       67  QB_FieldGeneral         85   \n2           2            84   37       81    QB_Improviser         96   \n3           3            79   38       71  QB_FieldGeneral         82   \n4           4            80   37       72      TE_Blocking         76   \n\n   BC Vision  Block Shedding  Break Sack  Break Tackle  ...  Zone Coverage  \\\n0         51              33          61            31  ...             19   \n1         68              45          83            64  ...             13   \n2         78              19          86            65  ...             19   \n3         73              12          82            66  ...             12   \n4         75              45          11            54  ...             13   \n\n    birthDate  collegeName         displayName height  nflId  \\\n0  1977-08-03     Michigan           Tom Brady    6-4  25511   \n1  1982-03-02    Miami, O.  Ben Roethlisberger    6-5  28963   \n2  1983-12-02   California       Aaron Rodgers    6-2  29851   \n3  1982-11-24      Harvard    Ryan Fitzpatrick    6-2  30078   \n4  1984-05-19         UCLA      Marcedes Lewis    6-6  30842   \n\n   officialPosition         updatedName        updatedName2  weight  \n0                QB           Tom Brady           Tom Brady     225  \n1                QB  Ben Roethlisberger  Ben Roethlisberger     240  \n2                QB       Aaron Rodgers       Aaron Rodgers     225  \n3                QB    Ryan Fitzpatrick    Ryan Fitzpatrick     228  \n4                TE      Marcedes Lewis      Marcedes Lewis     267  \n\n[5 rows x 85 columns]",
      "text/html": "<div>\n<style scoped>\n    .dataframe tbody tr th:only-of-type {\n        vertical-align: middle;\n    }\n\n    .dataframe tbody tr th {\n        vertical-align: top;\n    }\n\n    .dataframe thead th {\n        text-align: right;\n    }\n</style>\n<table border=\"1\" class=\"dataframe\">\n  <thead>\n    <tr style=\"text-align: right;\">\n      <th></th>\n      <th>Unnamed: 0</th>\n      <th>Acceleration</th>\n      <th>Age</th>\n      <th>Agility</th>\n      <th>Archetype</th>\n      <th>Awareness</th>\n      <th>BC Vision</th>\n      <th>Block Shedding</th>\n      <th>Break Sack</th>\n      <th>Break Tackle</th>\n      <th>...</th>\n      <th>Zone Coverage</th>\n      <th>birthDate</th>\n      <th>collegeName</th>\n      <th>displayName</th>\n      <th>height</th>\n      <th>nflId</th>\n      <th>officialPosition</th>\n      <th>updatedName</th>\n      <th>updatedName2</th>\n      <th>weight</th>\n    </tr>\n  </thead>\n  <tbody>\n    <tr>\n      <th>0</th>\n      <td>0</td>\n      <td>66</td>\n      <td>44</td>\n      <td>70</td>\n      <td>QB_FieldGeneral</td>\n      <td>99</td>\n      <td>51</td>\n      <td>33</td>\n      <td>61</td>\n      <td>31</td>\n      <td>...</td>\n      <td>19</td>\n      <td>1977-08-03</td>\n      <td>Michigan</td>\n      <td>Tom Brady</td>\n      <td>6-4</td>\n      <td>25511</td>\n      <td>QB</td>\n      <td>Tom Brady</td>\n      <td>Tom Brady</td>\n      <td>225</td>\n    </tr>\n    <tr>\n      <th>1</th>\n      <td>1</td>\n      <td>77</td>\n      <td>39</td>\n      <td>67</td>\n      <td>QB_FieldGeneral</td>\n      <td>85</td>\n      <td>68</td>\n      <td>45</td>\n      <td>83</td>\n      <td>64</td>\n      <td>...</td>\n      <td>13</td>\n      <td>1982-03-02</td>\n      <td>Miami, O.</td>\n      <td>Ben Roethlisberger</td>\n      <td>6-5</td>\n      <td>28963</td>\n      <td>QB</td>\n      <td>Ben Roethlisberger</td>\n      <td>Ben Roethlisberger</td>\n      <td>240</td>\n    </tr>\n    <tr>\n      <th>2</th>\n      <td>2</td>\n      <td>84</td>\n      <td>37</td>\n      <td>81</td>\n      <td>QB_Improviser</td>\n      <td>96</td>\n      <td>78</td>\n      <td>19</td>\n      <td>86</td>\n      <td>65</td>\n      <td>...</td>\n      <td>19</td>\n      <td>1983-12-02</td>\n      <td>California</td>\n      <td>Aaron Rodgers</td>\n      <td>6-2</td>\n      <td>29851</td>\n      <td>QB</td>\n      <td>Aaron Rodgers</td>\n      <td>Aaron Rodgers</td>\n      <td>225</td>\n    </tr>\n    <tr>\n      <th>3</th>\n      <td>3</td>\n      <td>79</td>\n      <td>38</td>\n      <td>71</td>\n      <td>QB_FieldGeneral</td>\n      <td>82</td>\n      <td>73</td>\n      <td>12</td>\n      <td>82</td>\n      <td>66</td>\n      <td>...</td>\n      <td>12</td>\n      <td>1982-11-24</td>\n      <td>Harvard</td>\n      <td>Ryan Fitzpatrick</td>\n      <td>6-2</td>\n      <td>30078</td>\n      <td>QB</td>\n      <td>Ryan Fitzpatrick</td>\n      <td>Ryan Fitzpatrick</td>\n      <td>228</td>\n    </tr>\n    <tr>\n      <th>4</th>\n      <td>4</td>\n      <td>80</td>\n      <td>37</td>\n      <td>72</td>\n      <td>TE_Blocking</td>\n      <td>76</td>\n      <td>75</td>\n      <td>45</td>\n      <td>11</td>\n      <td>54</td>\n      <td>...</td>\n      <td>13</td>\n      <td>1984-05-19</td>\n      <td>UCLA</td>\n      <td>Marcedes Lewis</td>\n      <td>6-6</td>\n      <td>30842</td>\n      <td>TE</td>\n      <td>Marcedes Lewis</td>\n      <td>Marcedes Lewis</td>\n      <td>267</td>\n    </tr>\n  </tbody>\n</table>\n<p>5 rows × 85 columns</p>\n</div>"
     },
     "execution_count": 4,
     "metadata": {},
     "output_type": "execute_result"
    }
   ],
   "source": [
    "player_stats.head()"
   ],
   "metadata": {
    "collapsed": false
   }
  },
  {
   "cell_type": "code",
   "execution_count": 5,
   "outputs": [
    {
     "data": {
      "text/plain": "       gameId  playId                                    playDescription  \\\n0  2021090900      97  (13:33) (Shotgun) T.Brady pass incomplete deep...   \n1  2021090900     137  (13:18) (Shotgun) D.Prescott pass deep left to...   \n2  2021090900     187  (12:23) (Shotgun) D.Prescott pass short middle...   \n3  2021090900     282  (9:56) D.Prescott pass incomplete deep left to...   \n4  2021090900     349  (9:46) (Shotgun) D.Prescott pass incomplete sh...   \n\n   quarter  down  yardsToGo possessionTeam defensiveTeam yardlineSide  \\\n0        1     3          2             TB           DAL           TB   \n1        1     1         10            DAL            TB          DAL   \n2        1     2          6            DAL            TB          DAL   \n3        1     1         10            DAL            TB           TB   \n4        1     3         15            DAL            TB           TB   \n\n   yardlineNumber  ... foulNFLId3  absoluteYardlineNumber  offenseFormation  \\\n0              33  ...        NaN                    43.0           SHOTGUN   \n1               2  ...        NaN                   108.0             EMPTY   \n2              34  ...        NaN                    76.0           SHOTGUN   \n3              39  ...        NaN                    49.0        SINGLEBACK   \n4              44  ...        NaN                    54.0           SHOTGUN   \n\n         personnelO  defendersInBox        personnelD  dropBackType  \\\n0  1 RB, 1 TE, 3 WR             6.0  4 DL, 2 LB, 5 DB   TRADITIONAL   \n1  1 RB, 2 TE, 2 WR             6.0  4 DL, 4 LB, 3 DB   TRADITIONAL   \n2  0 RB, 2 TE, 3 WR             6.0  3 DL, 3 LB, 5 DB   TRADITIONAL   \n3  1 RB, 2 TE, 2 WR             6.0  4 DL, 3 LB, 4 DB   TRADITIONAL   \n4  1 RB, 1 TE, 3 WR             7.0  3 DL, 4 LB, 4 DB   TRADITIONAL   \n\n  pff_playAction  pff_passCoverage pff_passCoverageType  \n0              0           Cover-1                  Man  \n1              0           Cover-3                 Zone  \n2              0           Cover-3                 Zone  \n3              1           Cover-3                 Zone  \n4              0           Cover-3                 Zone  \n\n[5 rows x 32 columns]",
      "text/html": "<div>\n<style scoped>\n    .dataframe tbody tr th:only-of-type {\n        vertical-align: middle;\n    }\n\n    .dataframe tbody tr th {\n        vertical-align: top;\n    }\n\n    .dataframe thead th {\n        text-align: right;\n    }\n</style>\n<table border=\"1\" class=\"dataframe\">\n  <thead>\n    <tr style=\"text-align: right;\">\n      <th></th>\n      <th>gameId</th>\n      <th>playId</th>\n      <th>playDescription</th>\n      <th>quarter</th>\n      <th>down</th>\n      <th>yardsToGo</th>\n      <th>possessionTeam</th>\n      <th>defensiveTeam</th>\n      <th>yardlineSide</th>\n      <th>yardlineNumber</th>\n      <th>...</th>\n      <th>foulNFLId3</th>\n      <th>absoluteYardlineNumber</th>\n      <th>offenseFormation</th>\n      <th>personnelO</th>\n      <th>defendersInBox</th>\n      <th>personnelD</th>\n      <th>dropBackType</th>\n      <th>pff_playAction</th>\n      <th>pff_passCoverage</th>\n      <th>pff_passCoverageType</th>\n    </tr>\n  </thead>\n  <tbody>\n    <tr>\n      <th>0</th>\n      <td>2021090900</td>\n      <td>97</td>\n      <td>(13:33) (Shotgun) T.Brady pass incomplete deep...</td>\n      <td>1</td>\n      <td>3</td>\n      <td>2</td>\n      <td>TB</td>\n      <td>DAL</td>\n      <td>TB</td>\n      <td>33</td>\n      <td>...</td>\n      <td>NaN</td>\n      <td>43.0</td>\n      <td>SHOTGUN</td>\n      <td>1 RB, 1 TE, 3 WR</td>\n      <td>6.0</td>\n      <td>4 DL, 2 LB, 5 DB</td>\n      <td>TRADITIONAL</td>\n      <td>0</td>\n      <td>Cover-1</td>\n      <td>Man</td>\n    </tr>\n    <tr>\n      <th>1</th>\n      <td>2021090900</td>\n      <td>137</td>\n      <td>(13:18) (Shotgun) D.Prescott pass deep left to...</td>\n      <td>1</td>\n      <td>1</td>\n      <td>10</td>\n      <td>DAL</td>\n      <td>TB</td>\n      <td>DAL</td>\n      <td>2</td>\n      <td>...</td>\n      <td>NaN</td>\n      <td>108.0</td>\n      <td>EMPTY</td>\n      <td>1 RB, 2 TE, 2 WR</td>\n      <td>6.0</td>\n      <td>4 DL, 4 LB, 3 DB</td>\n      <td>TRADITIONAL</td>\n      <td>0</td>\n      <td>Cover-3</td>\n      <td>Zone</td>\n    </tr>\n    <tr>\n      <th>2</th>\n      <td>2021090900</td>\n      <td>187</td>\n      <td>(12:23) (Shotgun) D.Prescott pass short middle...</td>\n      <td>1</td>\n      <td>2</td>\n      <td>6</td>\n      <td>DAL</td>\n      <td>TB</td>\n      <td>DAL</td>\n      <td>34</td>\n      <td>...</td>\n      <td>NaN</td>\n      <td>76.0</td>\n      <td>SHOTGUN</td>\n      <td>0 RB, 2 TE, 3 WR</td>\n      <td>6.0</td>\n      <td>3 DL, 3 LB, 5 DB</td>\n      <td>TRADITIONAL</td>\n      <td>0</td>\n      <td>Cover-3</td>\n      <td>Zone</td>\n    </tr>\n    <tr>\n      <th>3</th>\n      <td>2021090900</td>\n      <td>282</td>\n      <td>(9:56) D.Prescott pass incomplete deep left to...</td>\n      <td>1</td>\n      <td>1</td>\n      <td>10</td>\n      <td>DAL</td>\n      <td>TB</td>\n      <td>TB</td>\n      <td>39</td>\n      <td>...</td>\n      <td>NaN</td>\n      <td>49.0</td>\n      <td>SINGLEBACK</td>\n      <td>1 RB, 2 TE, 2 WR</td>\n      <td>6.0</td>\n      <td>4 DL, 3 LB, 4 DB</td>\n      <td>TRADITIONAL</td>\n      <td>1</td>\n      <td>Cover-3</td>\n      <td>Zone</td>\n    </tr>\n    <tr>\n      <th>4</th>\n      <td>2021090900</td>\n      <td>349</td>\n      <td>(9:46) (Shotgun) D.Prescott pass incomplete sh...</td>\n      <td>1</td>\n      <td>3</td>\n      <td>15</td>\n      <td>DAL</td>\n      <td>TB</td>\n      <td>TB</td>\n      <td>44</td>\n      <td>...</td>\n      <td>NaN</td>\n      <td>54.0</td>\n      <td>SHOTGUN</td>\n      <td>1 RB, 1 TE, 3 WR</td>\n      <td>7.0</td>\n      <td>3 DL, 4 LB, 4 DB</td>\n      <td>TRADITIONAL</td>\n      <td>0</td>\n      <td>Cover-3</td>\n      <td>Zone</td>\n    </tr>\n  </tbody>\n</table>\n<p>5 rows × 32 columns</p>\n</div>"
     },
     "execution_count": 5,
     "metadata": {},
     "output_type": "execute_result"
    }
   ],
   "source": [
    "play_data.head()"
   ],
   "metadata": {
    "collapsed": false
   }
  },
  {
   "cell_type": "code",
   "execution_count": 6,
   "outputs": [],
   "source": [
    "# Remove time from play description\n",
    "playDescText = play_data.playDescription.apply(lambda x: \" \".join(str(x).split()[1:]))\n",
    "# Remove formation from play description\n",
    "playDescText = playDescText.apply(lambda x: \"\".join(x.split(\")\")[1:]) if str(x).startswith(\"(\") else x)"
   ],
   "metadata": {
    "collapsed": false
   }
  },
  {
   "cell_type": "code",
   "execution_count": 7,
   "outputs": [
    {
     "name": "stdout",
     "output_type": "stream",
     "text": [
      "0         T.Brady pass incomplete deep right to C.Godwin.\n",
      "1        D.Prescott pass deep left to A.Cooper pushed ...\n",
      "2        D.Prescott pass short middle to D.Schultz to ...\n",
      "3         D.Prescott pass incomplete deep left to C.Lamb.\n",
      "4        D.Prescott pass incomplete short left to C.La...\n",
      "                              ...                        \n",
      "8552     P.Mahomes sacked at NYG 16 for -8 yards (K.Cr...\n",
      "8553     D.Jones pass short right to E.Engram pushed o...\n",
      "8554      D.Jones sacked at NYG 20 for -8 yards (C.Jones.\n",
      "8555     D.Jones pass incomplete short right to E.Engram.\n",
      "8556     D.Jones sacked at NYG 14 for -6 yards (F.Clar...\n",
      "Name: playDescription, Length: 8557, dtype: object\n"
     ]
    }
   ],
   "source": [
    "print(playDescText)"
   ],
   "metadata": {
    "collapsed": false
   }
  },
  {
   "cell_type": "code",
   "execution_count": 26,
   "outputs": [
    {
     "name": "stdout",
     "output_type": "stream",
     "text": [
      "7575 passed\n",
      "543 sacked\n",
      "151 fumbled\n",
      "449 scrambled\n",
      "8718  total\n"
     ]
    }
   ],
   "source": [
    "# Create binary variable for whether ball was passed or sacked\n",
    "passed = playDescText.map(lambda x: 1 if \"pass\" in str(x).lower() else 0)\n",
    "sacked = playDescText.map(lambda x: 1 if \"sacked\" in str(x).lower() else 0)\n",
    "fumbled = playDescText.map(lambda x: 1 if \"fumble\" in str(x).lower() else 0)\n",
    "scrambled = playDescText.map(lambda x: 1 if \"scramble\" in str(x).lower() else 0)\n",
    "print(passed.sum(), \"passed\")\n",
    "print(sacked.sum(), \"sacked\")\n",
    "print(fumbled.sum(), \"fumbled\")\n",
    "print(scrambled.sum(), \"scrambled\")\n",
    "print(passed.sum() + sacked.sum() + fumbled.sum() + scrambled.sum(), \" total\")"
   ],
   "metadata": {
    "collapsed": false
   }
  },
  {
   "cell_type": "code",
   "execution_count": 40,
   "outputs": [
    {
     "data": {
      "text/plain": "32      D.Prescott to TB 10 for -5 yards. FUMBLES, an...\n142     J.Hurts to ATL 25 for -5 yards. FUMBLES, and ...\n182     B.Roethlisberger sacked at PIT 20 for -6 yard...\n194     J.Allen sacked at PIT 45 for -7 yards (T.Watt...\n234     J.Allen pass short right to D.Singletary to P...\nName: playDescription, dtype: object"
     },
     "execution_count": 40,
     "metadata": {},
     "output_type": "execute_result"
    }
   ],
   "source": [
    "others = playDescText.loc[fumbled==1]\n",
    "others.head()"
   ],
   "metadata": {
    "collapsed": false
   }
  },
  {
   "cell_type": "code",
   "execution_count": 37,
   "outputs": [],
   "source": [
    "passers = playDescText.map(lambda x: str(x).lower().split(\" \")[str(x).lower().split(\" \").index(\"pass\")-1] if \"pass\" in str(x).lower().split(\" \") else np.nan)\n",
    "receivers = playDescText.map(lambda x: str(x).lower().split(\" \")[str(x).lower().split(\" \").index(\"to\")+1] if (\"pass\" in str(x).lower().split(\" \") and \"to\" in str(x).lower().split(\" \")) else np.nan)\n",
    "scramblers = playDescText.map(lambda x: str(x).lower().split(\" \")[str(x).lower().split(\" \").index(\"scrambles\")-1] if (\"scramble\" in str(x).lower()) else np.nan)\n",
    "sackees = playDescText.map(lambda x: str(x).lower().split(\" \")[str(x).lower().split(\" \").index(\"sacked\")-1] if (\"sacked\" in str(x).lower().split(\" \")) else np.nan)\n",
    "sackers = playDescText.map(lambda x: re.findall(\"\\[(.*?)\\]\", str(x))[0] if (re.findall(\"\\[(.*?)\\]\", str(x))) and (\"sacked\" in str(x).lower()) else np.nan)"
   ],
   "metadata": {
    "collapsed": false
   }
  },
  {
   "cell_type": "code",
   "execution_count": 29,
   "outputs": [
    {
     "data": {
      "text/plain": "count       7567\nunique        59\ntop       j.goff\nfreq         296\nName: playDescription, dtype: object"
     },
     "execution_count": 29,
     "metadata": {},
     "output_type": "execute_result"
    }
   ],
   "source": [
    "passers.describe()"
   ],
   "metadata": {
    "collapsed": false
   }
  },
  {
   "cell_type": "code",
   "execution_count": 30,
   "outputs": [
    {
     "data": {
      "text/plain": "count        7253\nunique        742\ntop       a.brown\nfreq           68\nName: playDescription, dtype: object"
     },
     "execution_count": 30,
     "metadata": {},
     "output_type": "execute_result"
    }
   ],
   "source": [
    "receivers.describe()"
   ],
   "metadata": {
    "collapsed": false
   }
  },
  {
   "cell_type": "code",
   "execution_count": 31,
   "outputs": [
    {
     "data": {
      "text/plain": "count         449\nunique         50\ntop       j.hurts\nfreq           33\nName: playDescription, dtype: object"
     },
     "execution_count": 31,
     "metadata": {},
     "output_type": "execute_result"
    }
   ],
   "source": [
    "scramblers.describe()"
   ],
   "metadata": {
    "collapsed": false
   }
  },
  {
   "cell_type": "code",
   "execution_count": 38,
   "outputs": [
    {
     "data": {
      "text/plain": "count         54\nunique        43\ntop       T.Watt\nfreq           3\nName: playDescription, dtype: object"
     },
     "execution_count": 38,
     "metadata": {},
     "output_type": "execute_result"
    }
   ],
   "source": [
    "sackers.describe()"
   ],
   "metadata": {
    "collapsed": false
   }
  },
  {
   "cell_type": "code",
   "execution_count": null,
   "outputs": [],
   "source": [],
   "metadata": {
    "collapsed": false
   }
  }
 ],
 "metadata": {
  "kernelspec": {
   "display_name": "Python 3",
   "language": "python",
   "name": "python3"
  },
  "language_info": {
   "codemirror_mode": {
    "name": "ipython",
    "version": 2
   },
   "file_extension": ".py",
   "mimetype": "text/x-python",
   "name": "python",
   "nbconvert_exporter": "python",
   "pygments_lexer": "ipython2",
   "version": "2.7.6"
  }
 },
 "nbformat": 4,
 "nbformat_minor": 0
}
